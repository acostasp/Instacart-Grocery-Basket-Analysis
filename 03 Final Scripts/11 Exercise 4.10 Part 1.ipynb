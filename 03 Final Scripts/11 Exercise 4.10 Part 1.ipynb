{
 "cells": [
  {
   "cell_type": "markdown",
   "id": "cae4acdc-9c95-4ef4-84cb-7b1f3de75d98",
   "metadata": {},
   "source": [
    "# Exercise 4.10 Part 1"
   ]
  },
  {
   "cell_type": "markdown",
   "id": "9c2c6996-5333-4c36-b0d7-18ffe8d84f9a",
   "metadata": {},
   "source": [
    "## Contents"
   ]
  },
  {
   "cell_type": "markdown",
   "id": "f52d6f9d-181e-4e12-8090-37c7846e7f90",
   "metadata": {},
   "source": [
    "### 01 Importing Libraries"
   ]
  },
  {
   "cell_type": "markdown",
   "id": "7f98fa49-acd1-4b91-941e-32dc31df5254",
   "metadata": {},
   "source": [
    "### 02 Importing Data"
   ]
  },
  {
   "cell_type": "markdown",
   "id": "39d66ad9-cd20-421f-8027-502b671fbe6e",
   "metadata": {},
   "source": [
    "### 04 Creating Data Dictionary"
   ]
  },
  {
   "cell_type": "markdown",
   "id": "9e29d7a6-9119-4c50-a5ad-1e49a99e0b75",
   "metadata": {},
   "source": [
    "### 05 Following Exercise 4.10 Directions"
   ]
  },
  {
   "cell_type": "markdown",
   "id": "8fa36e0d-6ece-49a3-b903-f5d003ccd882",
   "metadata": {},
   "source": [
    "#### 01 Importing Data"
   ]
  },
  {
   "cell_type": "markdown",
   "id": "6f64c056-afd7-4c43-8d3f-29eb568b4d4c",
   "metadata": {},
   "source": [
    "#### 02 Security Implications"
   ]
  },
  {
   "cell_type": "markdown",
   "id": "1165fa3d-4dea-4440-aab0-81c73d1a5841",
   "metadata": {},
   "source": [
    "#### 03 Creating Regions"
   ]
  },
  {
   "cell_type": "markdown",
   "id": "cafb32bc-145f-4300-9cb4-ddba8ea0e802",
   "metadata": {},
   "source": [
    "#### 04 Creating Exclusion Flag"
   ]
  },
  {
   "cell_type": "markdown",
   "id": "1e1adc6e-9b3a-4f3b-ae1e-5b6886386424",
   "metadata": {},
   "source": [
    "#### 05 Customer Profiling"
   ]
  },
  {
   "cell_type": "markdown",
   "id": "e237277b-4539-48e3-bd01-815a0c2f4558",
   "metadata": {},
   "source": [
    "#### 06 Customer Profile Visualizations"
   ]
  },
  {
   "cell_type": "markdown",
   "id": "51250e65-fc5a-4b91-95e2-3760bf67ec96",
   "metadata": {},
   "source": [
    "#### 07 Customer Profile Aggregation"
   ]
  },
  {
   "cell_type": "markdown",
   "id": "d3e3abe4-73c9-42b4-929c-b1c3c441bcbe",
   "metadata": {},
   "source": [
    "#### 08 Comparing Customer Profiles with Regions"
   ]
  },
  {
   "cell_type": "markdown",
   "id": "6b7b0566-cfbd-415f-8bff-f67f32a5b6db",
   "metadata": {},
   "source": [
    "#### 09 Creating Comparison Visualizations"
   ]
  },
  {
   "cell_type": "markdown",
   "id": "e127e953-c14d-47b4-9069-0e789e66babd",
   "metadata": {},
   "source": [
    "#### 10 Exporting Data"
   ]
  },
  {
   "cell_type": "markdown",
   "id": "8cf62df9-5d52-4123-a26b-3e7f3750f7e0",
   "metadata": {},
   "source": [
    "## 01 Importing Libraries"
   ]
  },
  {
   "cell_type": "code",
   "execution_count": 1,
   "id": "1a7cb342-a027-4bab-9077-c7b81a97342c",
   "metadata": {},
   "outputs": [],
   "source": [
    "#importing libraries\n",
    "\n",
    "import pandas as pd\n",
    "import numpy as np\n",
    "import os\n",
    "import matplotlib.pyplot as plt\n",
    "import seaborn as sns\n",
    "import scipy"
   ]
  },
  {
   "cell_type": "markdown",
   "id": "ed256a37-1147-48d0-a323-5dfe88fde849",
   "metadata": {},
   "source": [
    "## 02 Importing Data"
   ]
  },
  {
   "cell_type": "code",
   "execution_count": 4,
   "id": "a924c8bb-9575-4c80-a9b4-0fe9a7fb44f0",
   "metadata": {},
   "outputs": [],
   "source": [
    "#create path\n",
    "path = r'C:\\\\Users\\\\samac\\\\Instacart Basket Analysis'"
   ]
  },
  {
   "cell_type": "code",
   "execution_count": 6,
   "id": "ff91ec2a-9cb2-4113-9a93-cf8523a9a144",
   "metadata": {},
   "outputs": [],
   "source": [
    "#importing 'final_orders_products_all_4_9_complete.pkl'\n",
    "ords_prods_all = pd.read_pickle(os.path.join(path, '02 Data', 'Prepared Data', 'final_orders_products_all_4_9_complete.pkl'))"
   ]
  },
  {
   "cell_type": "code",
   "execution_count": 7,
   "id": "6610cd8f-70e7-4118-b4ee-8d6874cd36e4",
   "metadata": {},
   "outputs": [
    {
     "data": {
      "text/plain": [
       "(32404859, 34)"
      ]
     },
     "execution_count": 7,
     "metadata": {},
     "output_type": "execute_result"
    }
   ],
   "source": [
    "#checking shape of ords_prods_all\n",
    "ords_prods_all.shape"
   ]
  },
  {
   "cell_type": "code",
   "execution_count": 8,
   "id": "8fbbf905-af8b-4130-9c05-eb47352c9baf",
   "metadata": {},
   "outputs": [],
   "source": [
    "#importing 'final_departments_wrangled.pkl'\n",
    "df_dep = pd.read_pickle(os.path.join(path, '02 Data', 'Prepared Data', 'final_departments_wrangled.pkl'))"
   ]
  },
  {
   "cell_type": "markdown",
   "id": "a16cd73b-2a7b-4a4a-b516-9a3f07b89f13",
   "metadata": {},
   "source": [
    "## 03 Creating Data Dictionary"
   ]
  },
  {
   "cell_type": "code",
   "execution_count": 10,
   "id": "3233c4dd-82ba-477f-ac3c-21a6478849b5",
   "metadata": {},
   "outputs": [
    {
     "data": {
      "text/plain": [
       "{'1': {'department': 'frozen'},\n",
       " '2': {'department': 'other'},\n",
       " '3': {'department': 'bakery'},\n",
       " '4': {'department': 'produce'},\n",
       " '5': {'department': 'alcohol'},\n",
       " '6': {'department': 'international'},\n",
       " '7': {'department': 'beverages'},\n",
       " '8': {'department': 'pets'},\n",
       " '9': {'department': 'dry goods pasta'},\n",
       " '10': {'department': 'bulk'},\n",
       " '11': {'department': 'personal care'},\n",
       " '12': {'department': 'meat seafood'},\n",
       " '13': {'department': 'pantry'},\n",
       " '14': {'department': 'breakfast'},\n",
       " '15': {'department': 'canned goods'},\n",
       " '16': {'department': 'dairy eggs'},\n",
       " '17': {'department': 'household'},\n",
       " '18': {'department': 'babies'},\n",
       " '19': {'department': 'snacks'},\n",
       " '20': {'department': 'deli'},\n",
       " '21': {'department': 'missing'}}"
      ]
     },
     "execution_count": 10,
     "metadata": {},
     "output_type": "execute_result"
    }
   ],
   "source": [
    "#creating a data dictionary using the df_dep dataframe\n",
    "data_dict = df_dep.to_dict('index')\n",
    "data_dict"
   ]
  },
  {
   "cell_type": "markdown",
   "id": "8c23561d-bd1e-4d62-8c9a-d9c1303597aa",
   "metadata": {},
   "source": [
    "## 04 Following Exercise 4.10 Directions"
   ]
  },
  {
   "cell_type": "markdown",
   "id": "df016881-12f1-461e-ab1b-64286928f9e7",
   "metadata": {},
   "source": [
    "### 01 Import the data set you exported in Exercise 4.9 into a new Jupyter notebook. This should be the merged version of your data that contains the new customers column."
   ]
  },
  {
   "cell_type": "markdown",
   "id": "f3584f76-892e-4087-97f8-b9ca3ee436c1",
   "metadata": {},
   "source": [
    "This has been completed in section 02 Importing Data"
   ]
  },
  {
   "cell_type": "markdown",
   "id": "68b2d7d2-ac32-4534-994d-db4ddce69103",
   "metadata": {},
   "source": [
    "### 02 Consider any security implications that might exist for this new data. You’ll need to address any PII data in the data before continuing your analysis."
   ]
  },
  {
   "cell_type": "markdown",
   "id": "c59f6477-0148-4fc8-9641-1f6b25622e6f",
   "metadata": {},
   "source": [
    "The first_name and last_name columns will be dropped in order to scrub any PII data"
   ]
  },
  {
   "cell_type": "code",
   "execution_count": 16,
   "id": "3268310a-ca60-4c3b-8f86-fb84b5d93dfb",
   "metadata": {},
   "outputs": [],
   "source": [
    "#dropping first_name and last_name columns\n",
    "ords_prods_all = ords_prods_all.drop(columns = ['first_name', 'last_name'])"
   ]
  },
  {
   "cell_type": "code",
   "execution_count": 17,
   "id": "6911e519-428d-4829-996a-6176e86a3b1d",
   "metadata": {},
   "outputs": [
    {
     "data": {
      "text/plain": [
       "Index(['product_id', 'product_name', 'aisle_id', 'department_id', 'prices',\n",
       "       'order_id', 'user_id', 'order_number', 'orders_day_of_week',\n",
       "       'order_hour_of_day', 'days_since_prior_order',\n",
       "       'days_since_prior_order_flag', 'add_to_cart_order', 'reordered',\n",
       "       'gender', 'state', 'age', 'date_joined', 'n_dependants', 'fam_status',\n",
       "       'income', '_merge', 'price_range_loc', 'busiest_day', 'busiest_days',\n",
       "       'busiest_period_of_day', 'max_order', 'loyalty_flag', 'avg_price',\n",
       "       'spending_flag', 'days_since_prior_order_median', 'frequency_flag'],\n",
       "      dtype='object')"
      ]
     },
     "execution_count": 17,
     "metadata": {},
     "output_type": "execute_result"
    }
   ],
   "source": [
    "#checking all columns to confirm first_name and last_name have been dropped\n",
    "ords_prods_all.columns"
   ]
  },
  {
   "cell_type": "markdown",
   "id": "0c1a4529-2383-4655-ae27-0dcab2386c85",
   "metadata": {},
   "source": [
    "### 03 The Instacart officers are interested in comparing customer behavior in different geographic areas. Create a regional segmentation of the data. You’ll need to create a “Region” column based on the “State” column from your customers data set."
   ]
  },
  {
   "cell_type": "markdown",
   "id": "97cede30-83c8-4dd4-8f2e-5c546a94c082",
   "metadata": {},
   "source": [
    "#### 01 Use the region information in this Wikipedia article to create your column (you only need to create regions, not divisions)."
   ]
  },
  {
   "cell_type": "code",
   "execution_count": 20,
   "id": "fd350626-8d28-4e18-91ac-ab706879acf6",
   "metadata": {},
   "outputs": [],
   "source": [
    "#creating a list that assigns a region to each state\n",
    "\n",
    "region_list = []\n",
    "\n",
    "for value in ords_prods_all['state']:\n",
    "    if value in ['Maine', 'New Hampshire', 'Vermont', 'Massachusetts', 'Rhode Island', 'Connecticut', 'New York', 'Pennsylvania', 'New Jersey']:\n",
    "        region_list.append('Northeast')\n",
    "    elif value in ['Wisconsin', 'Michigan', 'Illinois', 'Indiana', 'Ohio', 'North Dakota', 'South Dakota', 'Nebraska', 'Kansas', 'Minnesota', 'Iowa', 'Missouri']:\n",
    "        region_list.append('Midwest')\n",
    "    elif value in ['Delaware', 'Maryland', 'District of Columbia', 'Virginia', 'West Virginia', 'North Carolina', 'South Carolina', 'Georgia', 'Florida', 'Kentucky', 'Tennessee', 'Mississippi', 'Alabama', 'Oklahoma', 'Texas', 'Arkansas', 'Louisiana']:\n",
    "        region_list.append('South')\n",
    "    elif value in ['Idaho', 'Montana', 'Wyoming', 'Nevada', 'Utah', 'Colorado', 'Arizona', 'New Mexico', 'Alaska', 'Washington', 'Oregon', 'California', 'Hawaii']:\n",
    "        region_list.append('West')"
   ]
  },
  {
   "cell_type": "code",
   "execution_count": 21,
   "id": "806e61b8-cd15-4dd1-a959-4c94673eda1b",
   "metadata": {},
   "outputs": [],
   "source": [
    "#adding 'region' column that populates off region_list\n",
    "ords_prods_all['region'] = region_list"
   ]
  },
  {
   "cell_type": "code",
   "execution_count": 22,
   "id": "3cd04c60-28b7-4900-a249-e1a45f07ff5a",
   "metadata": {},
   "outputs": [
    {
     "data": {
      "text/plain": [
       "region\n",
       "South        10791885\n",
       "West          8292913\n",
       "Midwest       7597325\n",
       "Northeast     5722736\n",
       "Name: count, dtype: int64"
      ]
     },
     "execution_count": 22,
     "metadata": {},
     "output_type": "execute_result"
    }
   ],
   "source": [
    "#checking value count of region column\n",
    "ords_prods_all['region'].value_counts()"
   ]
  },
  {
   "cell_type": "markdown",
   "id": "9dfbc5fd-b3a6-48c9-817d-2cfa92faee6c",
   "metadata": {},
   "source": [
    "#### 02 Determine whether there’s a difference in spending habits between the different U.S. regions. (Hint: You can do this by crossing the variable you just created with the spending flag.)"
   ]
  },
  {
   "cell_type": "code",
   "execution_count": 24,
   "id": "fd8e0eb4-20d8-4599-8d59-4d4df0fc9261",
   "metadata": {},
   "outputs": [],
   "source": [
    "#creating a crosstab using the 'region' and 'spending_flag' columns\n",
    "region_crosstab = pd.crosstab(ords_prods_all['region'], ords_prods_all['spending_flag'], dropna = False)\n",
    "region_crosstab.to_clipboard()"
   ]
  },
  {
   "cell_type": "code",
   "execution_count": 25,
   "id": "763314cd-1198-4594-905d-31dfa4e7b7f7",
   "metadata": {},
   "outputs": [
    {
     "data": {
      "text/html": [
       "<div>\n",
       "<style scoped>\n",
       "    .dataframe tbody tr th:only-of-type {\n",
       "        vertical-align: middle;\n",
       "    }\n",
       "\n",
       "    .dataframe tbody tr th {\n",
       "        vertical-align: top;\n",
       "    }\n",
       "\n",
       "    .dataframe thead th {\n",
       "        text-align: right;\n",
       "    }\n",
       "</style>\n",
       "<table border=\"1\" class=\"dataframe\">\n",
       "  <thead>\n",
       "    <tr style=\"text-align: right;\">\n",
       "      <th>spending_flag</th>\n",
       "      <th>High Spender</th>\n",
       "      <th>Low Spender</th>\n",
       "    </tr>\n",
       "    <tr>\n",
       "      <th>region</th>\n",
       "      <th></th>\n",
       "      <th></th>\n",
       "    </tr>\n",
       "  </thead>\n",
       "  <tbody>\n",
       "    <tr>\n",
       "      <th>Midwest</th>\n",
       "      <td>155975</td>\n",
       "      <td>7441350</td>\n",
       "    </tr>\n",
       "    <tr>\n",
       "      <th>Northeast</th>\n",
       "      <td>108225</td>\n",
       "      <td>5614511</td>\n",
       "    </tr>\n",
       "    <tr>\n",
       "      <th>South</th>\n",
       "      <td>209691</td>\n",
       "      <td>10582194</td>\n",
       "    </tr>\n",
       "    <tr>\n",
       "      <th>West</th>\n",
       "      <td>160354</td>\n",
       "      <td>8132559</td>\n",
       "    </tr>\n",
       "  </tbody>\n",
       "</table>\n",
       "</div>"
      ],
      "text/plain": [
       "spending_flag  High Spender  Low Spender\n",
       "region                                  \n",
       "Midwest              155975      7441350\n",
       "Northeast            108225      5614511\n",
       "South                209691     10582194\n",
       "West                 160354      8132559"
      ]
     },
     "execution_count": 25,
     "metadata": {},
     "output_type": "execute_result"
    }
   ],
   "source": [
    "region_crosstab"
   ]
  },
  {
   "attachments": {},
   "cell_type": "markdown",
   "id": "c5a033d2-20f9-40be-aace-dd7eb6372469",
   "metadata": {},
   "source": [
    "After performing some calculations, it can be determined that each region has roughly 2% of its users categorized as 'High-Spenders' and roughly 98% of its users categorized as 'Low-Spenders'. There is no discernable difference in spending habits between the regions in the United States"
   ]
  },
  {
   "cell_type": "markdown",
   "id": "8f70d36e-dbdb-490a-b249-290794a7c028",
   "metadata": {},
   "source": [
    "### 04 The Instacart CFO isn’t interested in customers who don’t generate much revenue for the app. Create an exclusion flag for low-activity customers (customers with less than 5 orders) and exclude them from the data. Make sure you export this sample."
   ]
  },
  {
   "cell_type": "code",
   "execution_count": 28,
   "id": "678ff8fd-86b3-4e2c-9b08-4de123418c87",
   "metadata": {},
   "outputs": [],
   "source": [
    "#creating spending flag for low-activity users\n",
    "ords_prods_all.loc[ords_prods_all['max_order'] < 5, 'activity_flag'] = 'Low-Activity'"
   ]
  },
  {
   "cell_type": "code",
   "execution_count": 29,
   "id": "6a66cfd0-3ce7-4381-ab7a-27ae3580bed7",
   "metadata": {},
   "outputs": [],
   "source": [
    "#creating spending flag for high-activity users\n",
    "ords_prods_all.loc[ords_prods_all['max_order'] >= 5, 'activity_flag'] = 'High-Activity'"
   ]
  },
  {
   "cell_type": "code",
   "execution_count": 30,
   "id": "76afa096-5221-4cb0-8351-2749e8b3c16d",
   "metadata": {},
   "outputs": [
    {
     "data": {
      "text/plain": [
       "activity_flag\n",
       "High-Activity    30964564\n",
       "Low-Activity      1440295\n",
       "Name: count, dtype: int64"
      ]
     },
     "execution_count": 30,
     "metadata": {},
     "output_type": "execute_result"
    }
   ],
   "source": [
    "#checking value counts of activity_flag column\n",
    "ords_prods_all['activity_flag'].value_counts(dropna = False)"
   ]
  },
  {
   "cell_type": "code",
   "execution_count": 31,
   "id": "4c3f9ad4-2c21-4f1e-88bc-90aad63cd54c",
   "metadata": {},
   "outputs": [],
   "source": [
    "#creating a new dataframe that only includes 'High-Activity' users\n",
    "ords_prods_complete = ords_prods_all[ords_prods_all['activity_flag'] == 'High-Activity']"
   ]
  },
  {
   "cell_type": "code",
   "execution_count": 32,
   "id": "0229567b-0d7f-4b30-a5c9-9ce52b083d45",
   "metadata": {},
   "outputs": [
    {
     "data": {
      "text/plain": [
       "(30964564, 34)"
      ]
     },
     "execution_count": 32,
     "metadata": {},
     "output_type": "execute_result"
    }
   ],
   "source": [
    "#checking shape of ords_prods_complete\n",
    "ords_prods_complete.shape"
   ]
  },
  {
   "cell_type": "markdown",
   "id": "354e35a8-39a0-4f86-89ae-30ff17bedc54",
   "metadata": {},
   "source": [
    "### 05 The marketing and business strategy units at Instacart want to create more-relevant marketing strategies for different products and are, thus, curious about customer profiling in their database. Create a profiling variable based on age, income, certain goods in the “department_id” column, and number of dependents. You might also use the “orders_day_of_week” and “order_hour_of_day” columns if you can think of a way they would impact customer profiles. (Hint: As an example, try thinking of what characteristics would lead you to the profile “Single adult” or “Young parent.”)"
   ]
  },
  {
   "cell_type": "markdown",
   "id": "b65d1f10-5f23-4167-95a4-33804d64ab53",
   "metadata": {},
   "source": [
    "#### 01 Creating Age Profiles"
   ]
  },
  {
   "cell_type": "markdown",
   "id": "997a2a92-8e00-4e86-83fa-25015f08f435",
   "metadata": {},
   "source": [
    "This section will label each user by their generation\n",
    "\n",
    "Generation Z: Ages 18 - 27\n",
    "Generation Y: Ages 28 - 43\n",
    "Generation X: Ages 44 - 59\n",
    "Baby Boomers: Ages 60 - 74\n",
    "Silent Generation: Ages 75+"
   ]
  },
  {
   "cell_type": "code",
   "execution_count": 36,
   "id": "1ee0c98a-afac-4c94-bed2-b34edf783579",
   "metadata": {},
   "outputs": [
    {
     "name": "stderr",
     "output_type": "stream",
     "text": [
      "C:\\Users\\samac\\AppData\\Local\\Temp\\ipykernel_6964\\3410575510.py:2: SettingWithCopyWarning: \n",
      "A value is trying to be set on a copy of a slice from a DataFrame.\n",
      "Try using .loc[row_indexer,col_indexer] = value instead\n",
      "\n",
      "See the caveats in the documentation: https://pandas.pydata.org/pandas-docs/stable/user_guide/indexing.html#returning-a-view-versus-a-copy\n",
      "  ords_prods_complete.loc[(ords_prods_complete['age'] >= 18) & (ords_prods_complete['age'] < 28), 'generation_flag'] = 'Generation Z'\n"
     ]
    }
   ],
   "source": [
    "#creating Generation Z generation flag\n",
    "ords_prods_complete.loc[(ords_prods_complete['age'] >= 18) & (ords_prods_complete['age'] < 28), 'generation_flag'] = 'Generation Z'"
   ]
  },
  {
   "cell_type": "code",
   "execution_count": 37,
   "id": "8e5d6aad-08ab-4a42-8895-8a3cf1c7ffbc",
   "metadata": {},
   "outputs": [],
   "source": [
    "#creating Generation Y generation flag\n",
    "ords_prods_complete.loc[(ords_prods_complete['age'] >= 28) & (ords_prods_complete['age'] < 44), 'generation_flag'] = 'Generation Y'"
   ]
  },
  {
   "cell_type": "code",
   "execution_count": 38,
   "id": "6c9b0ddd-27ef-4b5a-9535-83570a6ed4d0",
   "metadata": {},
   "outputs": [],
   "source": [
    "#creating Generation X generation flag\n",
    "ords_prods_complete.loc[(ords_prods_complete['age'] >= 44) & (ords_prods_complete['age'] < 60), 'generation_flag'] = 'Generation X'"
   ]
  },
  {
   "cell_type": "code",
   "execution_count": 39,
   "id": "700389a9-8541-4bba-988d-fa28b70ad258",
   "metadata": {},
   "outputs": [],
   "source": [
    "#creating Baby Boomer generation flag\n",
    "ords_prods_complete.loc[(ords_prods_complete['age'] >= 60) & (ords_prods_complete['age'] < 75), 'generation_flag'] = 'Baby Boomer'"
   ]
  },
  {
   "cell_type": "code",
   "execution_count": 40,
   "id": "470e5067-9c1c-46ba-87e6-988e67549cfc",
   "metadata": {},
   "outputs": [],
   "source": [
    "#creating Silent Generation generation flag\n",
    "ords_prods_complete.loc[(ords_prods_complete['age'] >= 75), 'generation_flag'] = 'Silent Generation'"
   ]
  },
  {
   "cell_type": "code",
   "execution_count": 41,
   "id": "e9c44a2b-c971-4da2-b539-f114e1986552",
   "metadata": {},
   "outputs": [
    {
     "data": {
      "text/plain": [
       "generation_flag\n",
       "Generation X         7805548\n",
       "Generation Y         7729031\n",
       "Baby Boomer          7161875\n",
       "Generation Z         4855481\n",
       "Silent Generation    3412629\n",
       "Name: count, dtype: int64"
      ]
     },
     "execution_count": 41,
     "metadata": {},
     "output_type": "execute_result"
    }
   ],
   "source": [
    "#checking value counts of generation flag\n",
    "generation_values = ords_prods_complete['generation_flag'].value_counts(dropna = False)\n",
    "generation_values"
   ]
  },
  {
   "cell_type": "markdown",
   "id": "9c2b996a-9ae8-45d6-a82d-81c4dfbdac66",
   "metadata": {},
   "source": [
    "#### 02 Creating Income Profiles"
   ]
  },
  {
   "cell_type": "markdown",
   "id": "17f832e0-a9e9-4c67-a54f-d1a8f7f9dc72",
   "metadata": {},
   "source": [
    "This section will label users by their income\n",
    "\n",
    "Lower class: Incomes below 60,000\n",
    "Middle class: Incomes between 60,000 and 149,999\n",
    "Upper class: Incomes at or greater than 150,000 "
   ]
  },
  {
   "cell_type": "code",
   "execution_count": 44,
   "id": "32184b6e-af56-4480-8bda-fcd94325c899",
   "metadata": {},
   "outputs": [
    {
     "name": "stderr",
     "output_type": "stream",
     "text": [
      "C:\\Users\\samac\\AppData\\Local\\Temp\\ipykernel_6964\\1665111283.py:2: SettingWithCopyWarning: \n",
      "A value is trying to be set on a copy of a slice from a DataFrame.\n",
      "Try using .loc[row_indexer,col_indexer] = value instead\n",
      "\n",
      "See the caveats in the documentation: https://pandas.pydata.org/pandas-docs/stable/user_guide/indexing.html#returning-a-view-versus-a-copy\n",
      "  ords_prods_complete.loc[(ords_prods_complete['income'] < 60000), 'income_flag'] = 'Lower class'\n"
     ]
    }
   ],
   "source": [
    "#creating Lower class income flag\n",
    "ords_prods_complete.loc[(ords_prods_complete['income'] < 60000), 'income_flag'] = 'Lower class'"
   ]
  },
  {
   "cell_type": "code",
   "execution_count": 45,
   "id": "832555f1-7209-4677-b38d-c14397b71d3f",
   "metadata": {},
   "outputs": [],
   "source": [
    "#creating Middle class income flag\n",
    "ords_prods_complete.loc[(ords_prods_complete['income'] >= 60000) & (ords_prods_complete['income'] < 150000), 'income_flag'] = 'Middle class'"
   ]
  },
  {
   "cell_type": "code",
   "execution_count": 46,
   "id": "7e3f05c4-9ce0-49eb-ba54-00ad1933a9ac",
   "metadata": {},
   "outputs": [],
   "source": [
    "#creating Upper class income flag\n",
    "ords_prods_complete.loc[(ords_prods_complete['income'] >= 150000), 'income_flag'] = 'Upper class'"
   ]
  },
  {
   "cell_type": "code",
   "execution_count": 47,
   "id": "886717c8-2d9b-42e3-9c18-306f073a0f96",
   "metadata": {},
   "outputs": [
    {
     "data": {
      "text/plain": [
       "income_flag\n",
       "Middle class    21266539\n",
       "Lower class      5802750\n",
       "Upper class      3895275\n",
       "Name: count, dtype: int64"
      ]
     },
     "execution_count": 47,
     "metadata": {},
     "output_type": "execute_result"
    }
   ],
   "source": [
    "#checking value counts of income flag\n",
    "income_values = ords_prods_complete['income_flag'].value_counts(dropna = False)\n",
    "income_values"
   ]
  },
  {
   "cell_type": "markdown",
   "id": "e1309b5d-7809-4cba-8b07-d61e7ac659bf",
   "metadata": {},
   "source": [
    "#### 03 Creating Dependant Profiles"
   ]
  },
  {
   "cell_type": "markdown",
   "id": "c50c16f7-66e6-4859-b623-ebd6bb6088b5",
   "metadata": {},
   "source": [
    "This section will label whether or not users have dependants"
   ]
  },
  {
   "cell_type": "code",
   "execution_count": 50,
   "id": "12de7026-9629-480e-b4e4-5d3d98e8fd24",
   "metadata": {},
   "outputs": [
    {
     "name": "stderr",
     "output_type": "stream",
     "text": [
      "C:\\Users\\samac\\AppData\\Local\\Temp\\ipykernel_6964\\2656526978.py:2: SettingWithCopyWarning: \n",
      "A value is trying to be set on a copy of a slice from a DataFrame.\n",
      "Try using .loc[row_indexer,col_indexer] = value instead\n",
      "\n",
      "See the caveats in the documentation: https://pandas.pydata.org/pandas-docs/stable/user_guide/indexing.html#returning-a-view-versus-a-copy\n",
      "  ords_prods_complete.loc[(ords_prods_complete['n_dependants'] == 0), 'dependant_flag'] = 'No dependants'\n"
     ]
    }
   ],
   "source": [
    "#creating No dependants dependant_flag\n",
    "ords_prods_complete.loc[(ords_prods_complete['n_dependants'] == 0), 'dependant_flag'] = 'No dependants'"
   ]
  },
  {
   "cell_type": "code",
   "execution_count": 51,
   "id": "3a739637-2a9b-428c-bcc8-bb0820ccc6c8",
   "metadata": {},
   "outputs": [],
   "source": [
    "#creating Has dependant()s dependant_flag\n",
    "ords_prods_complete.loc[(ords_prods_complete['n_dependants'] != 0), 'dependant_flag'] = 'Has dependant(s)'"
   ]
  },
  {
   "cell_type": "code",
   "execution_count": 52,
   "id": "de647283-0258-4944-8030-4113507eb957",
   "metadata": {},
   "outputs": [
    {
     "data": {
      "text/plain": [
       "dependant_flag\n",
       "Has dependant(s)    23224883\n",
       "No dependants        7739681\n",
       "Name: count, dtype: int64"
      ]
     },
     "execution_count": 52,
     "metadata": {},
     "output_type": "execute_result"
    }
   ],
   "source": [
    "#checking value counts of dependant_flag\n",
    "dependant_values = ords_prods_complete['dependant_flag'].value_counts(dropna = False)\n",
    "dependant_values"
   ]
  },
  {
   "cell_type": "markdown",
   "id": "2f0ae6e3-80d9-4e33-9435-f1924e2b8428",
   "metadata": {},
   "source": [
    "### 06 Create an appropriate visualization to show the distribution of profiles."
   ]
  },
  {
   "cell_type": "code",
   "execution_count": 83,
   "id": "37f40bea-2382-4374-a312-6fedaf321fef",
   "metadata": {},
   "outputs": [
    {
     "data": {
      "image/png": "[encoded data removed]",
      "text/plain": [
       "<Figure size 600x600 with 1 Axes>"
      ]
     },
     "metadata": {},
     "output_type": "display_data"
    }
   ],
   "source": [
    "#the follow code has been generated using ChatGPT\n",
    "#creating a pie chart to show the distribution of generation_flag values\n",
    "plt.figure(figsize=(6,6))\n",
    "pie_generation = generation_values.plot.pie(autopct='%1.1f%%', startangle=90, cmap='Set1')\n",
    "plt.title('Distribution of Generations')\n",
    "plt.ylabel('')  # Hide the y-label\n",
    "plt.show()"
   ]
  },
  {
   "cell_type": "code",
   "execution_count": 85,
   "id": "8f1a3a07-a00c-4eb9-a011-73b2e785dd54",
   "metadata": {},
   "outputs": [],
   "source": [
    "#exporting pie_generation\n",
    "pie_generation.figure.savefig(os.path.join(path, '04 Analysis','Visualizations', 'final_pie_generation.png'))"
   ]
  },
  {
   "cell_type": "code",
   "execution_count": 71,
   "id": "c92e65dd-0138-4ee2-b045-6c4f6fe2ce9f",
   "metadata": {},
   "outputs": [
    {
     "data": {
      "image/png": "[encoded data removed]",
      "text/plain": [
       "<Figure size 600x600 with 1 Axes>"
      ]
     },
     "metadata": {},
     "output_type": "display_data"
    }
   ],
   "source": [
    "#the follow code has been generated using ChatGPT\n",
    "#creating a pie chart to show the distribution of income_flag values\n",
    "plt.figure(figsize=(6,6))\n",
    "pie_income = income_values.plot.pie(autopct='%1.1f%%', startangle=90, cmap='Set3')\n",
    "plt.title('Distribution of Income Flag')\n",
    "plt.ylabel('')  # Hide the y-label\n",
    "plt.show()"
   ]
  },
  {
   "cell_type": "code",
   "execution_count": 72,
   "id": "4362b029-70e4-4a8e-a28e-432b5124c09c",
   "metadata": {},
   "outputs": [],
   "source": [
    "#exporting pie_income\n",
    "pie_income.figure.savefig(os.path.join(path, '04 Analysis','Visualizations', 'final_pie_income.png'))"
   ]
  },
  {
   "cell_type": "code",
   "execution_count": 91,
   "id": "e2f44606-f348-40d3-acb1-74a162c0c516",
   "metadata": {},
   "outputs": [
    {
     "data": {
      "image/png": "[encoded data removed]",
      "text/plain": [
       "<Figure size 600x600 with 1 Axes>"
      ]
     },
     "metadata": {},
     "output_type": "display_data"
    }
   ],
   "source": [
    "#the follow code has been generated using ChatGPT\n",
    "#creating a pie chart to show the distribution of dependant_flag values\n",
    "plt.figure(figsize=(6,6))\n",
    "pie_dependants = dependant_values.plot.pie(autopct='%1.1f%%', startangle=90, cmap='Set2')\n",
    "plt.title('Distribution of dependant_flag')\n",
    "plt.ylabel('')  # Hide the y-label\n",
    "plt.show()"
   ]
  },
  {
   "cell_type": "code",
   "execution_count": 93,
   "id": "c82982cd-b5bc-4e76-a627-412352d95564",
   "metadata": {},
   "outputs": [],
   "source": [
    "#exporting pie_dependants\n",
    "pie_dependants.figure.savefig(os.path.join(path, '04 Analysis','Visualizations', 'final_pie_dependants.png'))"
   ]
  },
  {
   "cell_type": "markdown",
   "id": "b71b1a1f-e164-428c-8b31-c814d557f98d",
   "metadata": {},
   "source": [
    "### 07 Aggregate the max, mean, and min variables on a customer-profile level for usage frequency and expenditure."
   ]
  },
  {
   "cell_type": "code",
   "execution_count": 76,
   "id": "a8f759bf-cbbf-4309-8c2c-0f0c6a22cab3",
   "metadata": {},
   "outputs": [
    {
     "data": {
      "text/html": [
       "<div>\n",
       "<style scoped>\n",
       "    .dataframe tbody tr th:only-of-type {\n",
       "        vertical-align: middle;\n",
       "    }\n",
       "\n",
       "    .dataframe tbody tr th {\n",
       "        vertical-align: top;\n",
       "    }\n",
       "\n",
       "    .dataframe thead tr th {\n",
       "        text-align: left;\n",
       "    }\n",
       "\n",
       "    .dataframe thead tr:last-of-type th {\n",
       "        text-align: right;\n",
       "    }\n",
       "</style>\n",
       "<table border=\"1\" class=\"dataframe\">\n",
       "  <thead>\n",
       "    <tr>\n",
       "      <th></th>\n",
       "      <th colspan=\"3\" halign=\"left\">order_number</th>\n",
       "    </tr>\n",
       "    <tr>\n",
       "      <th></th>\n",
       "      <th>mean</th>\n",
       "      <th>min</th>\n",
       "      <th>max</th>\n",
       "    </tr>\n",
       "    <tr>\n",
       "      <th>income_flag</th>\n",
       "      <th></th>\n",
       "      <th></th>\n",
       "      <th></th>\n",
       "    </tr>\n",
       "  </thead>\n",
       "  <tbody>\n",
       "    <tr>\n",
       "      <th>Lower class</th>\n",
       "      <td>17.237925</td>\n",
       "      <td>1</td>\n",
       "      <td>99</td>\n",
       "    </tr>\n",
       "    <tr>\n",
       "      <th>Middle class</th>\n",
       "      <td>17.952205</td>\n",
       "      <td>1</td>\n",
       "      <td>99</td>\n",
       "    </tr>\n",
       "    <tr>\n",
       "      <th>Upper class</th>\n",
       "      <td>18.077743</td>\n",
       "      <td>1</td>\n",
       "      <td>99</td>\n",
       "    </tr>\n",
       "  </tbody>\n",
       "</table>\n",
       "</div>"
      ],
      "text/plain": [
       "             order_number        \n",
       "                     mean min max\n",
       "income_flag                      \n",
       "Lower class     17.237925   1  99\n",
       "Middle class    17.952205   1  99\n",
       "Upper class     18.077743   1  99"
      ]
     },
     "execution_count": 76,
     "metadata": {},
     "output_type": "execute_result"
    }
   ],
   "source": [
    "#aggregating max, mean, and min of order numbers, grouped by generation_flag\n",
    "ords_prods_complete.groupby('income_flag').agg({'order_number': ['mean', 'min', 'max']})"
   ]
  },
  {
   "cell_type": "code",
   "execution_count": 77,
   "id": "cb4ff2da-5c0c-4f3a-beb5-07a9cded50a8",
   "metadata": {},
   "outputs": [],
   "source": [
    "#aggregating max, mean, and min of prices, grouped by generation_flag"
   ]
  },
  {
   "cell_type": "code",
   "execution_count": 78,
   "id": "d4bed460-853c-4609-80b8-aba7fd5c20b6",
   "metadata": {},
   "outputs": [
    {
     "data": {
      "text/html": [
       "<div>\n",
       "<style scoped>\n",
       "    .dataframe tbody tr th:only-of-type {\n",
       "        vertical-align: middle;\n",
       "    }\n",
       "\n",
       "    .dataframe tbody tr th {\n",
       "        vertical-align: top;\n",
       "    }\n",
       "\n",
       "    .dataframe thead tr th {\n",
       "        text-align: left;\n",
       "    }\n",
       "\n",
       "    .dataframe thead tr:last-of-type th {\n",
       "        text-align: right;\n",
       "    }\n",
       "</style>\n",
       "<table border=\"1\" class=\"dataframe\">\n",
       "  <thead>\n",
       "    <tr>\n",
       "      <th></th>\n",
       "      <th colspan=\"3\" halign=\"left\">prices</th>\n",
       "    </tr>\n",
       "    <tr>\n",
       "      <th></th>\n",
       "      <th>mean</th>\n",
       "      <th>min</th>\n",
       "      <th>max</th>\n",
       "    </tr>\n",
       "    <tr>\n",
       "      <th>income_flag</th>\n",
       "      <th></th>\n",
       "      <th></th>\n",
       "      <th></th>\n",
       "    </tr>\n",
       "  </thead>\n",
       "  <tbody>\n",
       "    <tr>\n",
       "      <th>Lower class</th>\n",
       "      <td>7.083502</td>\n",
       "      <td>1.0</td>\n",
       "      <td>25.0</td>\n",
       "    </tr>\n",
       "    <tr>\n",
       "      <th>Middle class</th>\n",
       "      <td>7.956055</td>\n",
       "      <td>1.0</td>\n",
       "      <td>25.0</td>\n",
       "    </tr>\n",
       "    <tr>\n",
       "      <th>Upper class</th>\n",
       "      <td>7.940758</td>\n",
       "      <td>1.0</td>\n",
       "      <td>25.0</td>\n",
       "    </tr>\n",
       "  </tbody>\n",
       "</table>\n",
       "</div>"
      ],
      "text/plain": [
       "                prices           \n",
       "                  mean  min   max\n",
       "income_flag                      \n",
       "Lower class   7.083502  1.0  25.0\n",
       "Middle class  7.956055  1.0  25.0\n",
       "Upper class   7.940758  1.0  25.0"
      ]
     },
     "execution_count": 78,
     "metadata": {},
     "output_type": "execute_result"
    }
   ],
   "source": [
    "ords_prods_complete.groupby('income_flag').agg({'prices': ['mean', 'min', 'max']})"
   ]
  },
  {
   "cell_type": "markdown",
   "id": "a7d3b56a-fefe-4e28-9a67-f109d1e79490",
   "metadata": {},
   "source": [
    "### 08 Compare your customer profiles with regions and departments. Can you identify a link between them? Customers may demonstrate different behaviors across regions, which could make this information important."
   ]
  },
  {
   "cell_type": "markdown",
   "id": "d4a9bf17-8e82-4003-89c7-b067fbebff73",
   "metadata": {},
   "source": [
    "Please see Script 12 Final Analysis and Visualizations"
   ]
  },
  {
   "cell_type": "markdown",
   "id": "f330e855-03ed-4bea-b45f-6a444ac89e88",
   "metadata": {},
   "source": [
    "### 09 Produce suitable charts to illustrate your results and export them in your project folder"
   ]
  },
  {
   "cell_type": "markdown",
   "id": "8e68df77-78fa-4e12-8f56-41f1803520d1",
   "metadata": {},
   "source": [
    "Please see Script 12 Final Analysis and Visualizations"
   ]
  },
  {
   "cell_type": "markdown",
   "id": "4a88c708-0688-4da4-a9a7-4af8b70dc20f",
   "metadata": {},
   "source": [
    "### 10 Tidy up your script, export your final data set, and save your notebook."
   ]
  },
  {
   "cell_type": "code",
   "execution_count": 82,
   "id": "3df8b2fd-68b0-44fc-86f3-7bf4b519f495",
   "metadata": {},
   "outputs": [],
   "source": [
    "#exporting dataframe\n",
    "ords_prods_complete.to_pickle(os.path.join(path, '02 Data','Prepared Data', 'final_orders_products_complete.pkl'))"
   ]
  },
  {
   "cell_type": "code",
   "execution_count": 83,
   "id": "b407d6fc-c7bd-499e-a1d5-45b01f70a297",
   "metadata": {},
   "outputs": [
    {
     "data": {
      "text/plain": [
       "(30964564, 37)"
      ]
     },
     "execution_count": 83,
     "metadata": {},
     "output_type": "execute_result"
    }
   ],
   "source": [
    "ords_prods_complete.shape"
   ]
  },
  {
   "cell_type": "code",
   "execution_count": null,
   "id": "a13fa0c5-ae7c-4bd6-a63f-82da5663f90e",
   "metadata": {},
   "outputs": [],
   "source": []
  }
 ],
 "metadata": {
  "kernelspec": {
   "display_name": "Python 3 (ipykernel)",
   "language": "python",
   "name": "python3"
  },
  "language_info": {
   "codemirror_mode": {
    "name": "ipython",
    "version": 3
   },
   "file_extension": ".py",
   "mimetype": "text/x-python",
   "name": "python",
   "nbconvert_exporter": "python",
   "pygments_lexer": "ipython3",
   "version": "3.12.7"
  }
 },
 "nbformat": 4,
 "nbformat_minor": 5
}
