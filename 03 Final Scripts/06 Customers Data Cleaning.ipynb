{
 "cells": [
  {
   "cell_type": "markdown",
   "id": "9807c9fe-72cc-4965-9d6b-7dab93cd5b39",
   "metadata": {},
   "source": [
    "# Orders Data Cleaning"
   ]
  },
  {
   "cell_type": "markdown",
   "id": "380bb581-2336-4841-9fb6-0abe07efaa1d",
   "metadata": {},
   "source": [
    "## Contents"
   ]
  },
  {
   "cell_type": "markdown",
   "id": "678fd0d3-5523-4492-95a1-b5adae98a893",
   "metadata": {},
   "source": [
    "### 01 Importing Libraries"
   ]
  },
  {
   "cell_type": "markdown",
   "id": "e2aff1e1-6464-4472-a310-17dce2af68f9",
   "metadata": {},
   "source": [
    "### 02 Importing Data"
   ]
  },
  {
   "cell_type": "markdown",
   "id": "68c7b00a-9ca2-47f9-a1d2-b34d0d8227ec",
   "metadata": {},
   "source": [
    "### 03 Checking Data"
   ]
  },
  {
   "cell_type": "markdown",
   "id": "9cf26dbe-a54c-4ba3-8baa-0857836d3b90",
   "metadata": {},
   "source": [
    "### 04 Wrangling Data"
   ]
  },
  {
   "cell_type": "markdown",
   "id": "91b3cf65-252c-46ce-9dbe-e8a5300db657",
   "metadata": {},
   "source": [
    "#### 01 Columns"
   ]
  },
  {
   "cell_type": "markdown",
   "id": "3a30f4c9-d48c-4d42-a816-570f814a966e",
   "metadata": {},
   "source": [
    "#### 02 Data Types"
   ]
  },
  {
   "cell_type": "markdown",
   "id": "ecdc31fd-3b07-409d-bb5f-08af97e20cf7",
   "metadata": {},
   "source": [
    "### 05 Checking Data Consistency"
   ]
  },
  {
   "cell_type": "markdown",
   "id": "37c0bdba-c336-4b10-be65-1b9e4bfd10f3",
   "metadata": {},
   "source": [
    "#### 01 Missing Values"
   ]
  },
  {
   "cell_type": "markdown",
   "id": "bc846d3a-c83c-4ca9-98dd-ae724ae542a1",
   "metadata": {},
   "source": [
    "#### 02 Duplicate Values"
   ]
  },
  {
   "cell_type": "markdown",
   "id": "a3ec03fd-def9-4965-a67c-5c605796456b",
   "metadata": {},
   "source": [
    "### 06 Exporting Dataframe"
   ]
  },
  {
   "cell_type": "markdown",
   "id": "4bb5e187-ab09-4348-8876-dd3e66c486d3",
   "metadata": {},
   "source": [
    "## 01 Importing Libraries"
   ]
  },
  {
   "cell_type": "code",
   "execution_count": 1,
   "id": "072b078e-03ac-4cc0-917d-47d55cbfea3b",
   "metadata": {},
   "outputs": [],
   "source": [
    "#importing libraries\n",
    "import pandas as pd\n",
    "import numpy as np\n",
    "import os"
   ]
  },
  {
   "cell_type": "markdown",
   "id": "8f228b1b-0d5e-4d98-ac4e-00abaca62bdb",
   "metadata": {},
   "source": [
    "## 02 Importing Data"
   ]
  },
  {
   "cell_type": "code",
   "execution_count": 3,
   "id": "e64aee02-13ec-4c1b-a46e-e9fe24a3f6cb",
   "metadata": {},
   "outputs": [],
   "source": [
    "#creating path\n",
    "path = r'C:\\\\Users\\\\samac\\\\Instacart Basket Analysis'"
   ]
  },
  {
   "cell_type": "code",
   "execution_count": 5,
   "id": "c66b5520-11e9-4690-bd78-f9c1f70b45e7",
   "metadata": {},
   "outputs": [],
   "source": [
    "#importing customers.csv\n",
    "df_customers = pd.read_csv(os.path.join(path, '02 Data', 'Original Data', 'customers.csv'), index_col = False)"
   ]
  },
  {
   "cell_type": "markdown",
   "id": "da12bba2-002c-4926-bcc7-d1d7a73542b9",
   "metadata": {},
   "source": [
    "## 03 Checking Data"
   ]
  },
  {
   "cell_type": "code",
   "execution_count": 8,
   "id": "a6e680d0-f541-4750-849a-c43b20ac1527",
   "metadata": {},
   "outputs": [
    {
     "data": {
      "text/plain": [
       "(206209, 10)"
      ]
     },
     "execution_count": 8,
     "metadata": {},
     "output_type": "execute_result"
    }
   ],
   "source": [
    "#getting shape of df_customers\n",
    "df_customers.shape"
   ]
  },
  {
   "cell_type": "code",
   "execution_count": 10,
   "id": "72d87a22-1d90-402e-8164-f4b54a59908b",
   "metadata": {},
   "outputs": [
    {
     "data": {
      "text/html": [
       "<div>\n",
       "<style scoped>\n",
       "    .dataframe tbody tr th:only-of-type {\n",
       "        vertical-align: middle;\n",
       "    }\n",
       "\n",
       "    .dataframe tbody tr th {\n",
       "        vertical-align: top;\n",
       "    }\n",
       "\n",
       "    .dataframe thead th {\n",
       "        text-align: right;\n",
       "    }\n",
       "</style>\n",
       "<table border=\"1\" class=\"dataframe\">\n",
       "  <thead>\n",
       "    <tr style=\"text-align: right;\">\n",
       "      <th></th>\n",
       "      <th>user_id</th>\n",
       "      <th>Age</th>\n",
       "      <th>n_dependants</th>\n",
       "      <th>income</th>\n",
       "    </tr>\n",
       "  </thead>\n",
       "  <tbody>\n",
       "    <tr>\n",
       "      <th>count</th>\n",
       "      <td>206209.000000</td>\n",
       "      <td>206209.000000</td>\n",
       "      <td>206209.000000</td>\n",
       "      <td>206209.000000</td>\n",
       "    </tr>\n",
       "    <tr>\n",
       "      <th>mean</th>\n",
       "      <td>103105.000000</td>\n",
       "      <td>49.501646</td>\n",
       "      <td>1.499823</td>\n",
       "      <td>94632.852548</td>\n",
       "    </tr>\n",
       "    <tr>\n",
       "      <th>std</th>\n",
       "      <td>59527.555167</td>\n",
       "      <td>18.480962</td>\n",
       "      <td>1.118433</td>\n",
       "      <td>42473.786988</td>\n",
       "    </tr>\n",
       "    <tr>\n",
       "      <th>min</th>\n",
       "      <td>1.000000</td>\n",
       "      <td>18.000000</td>\n",
       "      <td>0.000000</td>\n",
       "      <td>25903.000000</td>\n",
       "    </tr>\n",
       "    <tr>\n",
       "      <th>25%</th>\n",
       "      <td>51553.000000</td>\n",
       "      <td>33.000000</td>\n",
       "      <td>0.000000</td>\n",
       "      <td>59874.000000</td>\n",
       "    </tr>\n",
       "    <tr>\n",
       "      <th>50%</th>\n",
       "      <td>103105.000000</td>\n",
       "      <td>49.000000</td>\n",
       "      <td>1.000000</td>\n",
       "      <td>93547.000000</td>\n",
       "    </tr>\n",
       "    <tr>\n",
       "      <th>75%</th>\n",
       "      <td>154657.000000</td>\n",
       "      <td>66.000000</td>\n",
       "      <td>3.000000</td>\n",
       "      <td>124244.000000</td>\n",
       "    </tr>\n",
       "    <tr>\n",
       "      <th>max</th>\n",
       "      <td>206209.000000</td>\n",
       "      <td>81.000000</td>\n",
       "      <td>3.000000</td>\n",
       "      <td>593901.000000</td>\n",
       "    </tr>\n",
       "  </tbody>\n",
       "</table>\n",
       "</div>"
      ],
      "text/plain": [
       "             user_id            Age   n_dependants         income\n",
       "count  206209.000000  206209.000000  206209.000000  206209.000000\n",
       "mean   103105.000000      49.501646       1.499823   94632.852548\n",
       "std     59527.555167      18.480962       1.118433   42473.786988\n",
       "min         1.000000      18.000000       0.000000   25903.000000\n",
       "25%     51553.000000      33.000000       0.000000   59874.000000\n",
       "50%    103105.000000      49.000000       1.000000   93547.000000\n",
       "75%    154657.000000      66.000000       3.000000  124244.000000\n",
       "max    206209.000000      81.000000       3.000000  593901.000000"
      ]
     },
     "execution_count": 10,
     "metadata": {},
     "output_type": "execute_result"
    }
   ],
   "source": [
    "#describing df_customers\n",
    "df_customers.describe()"
   ]
  },
  {
   "cell_type": "code",
   "execution_count": 12,
   "id": "dc70b921-0a42-4fce-9834-496ad6d6e84c",
   "metadata": {},
   "outputs": [
    {
     "data": {
      "text/html": [
       "<div>\n",
       "<style scoped>\n",
       "    .dataframe tbody tr th:only-of-type {\n",
       "        vertical-align: middle;\n",
       "    }\n",
       "\n",
       "    .dataframe tbody tr th {\n",
       "        vertical-align: top;\n",
       "    }\n",
       "\n",
       "    .dataframe thead th {\n",
       "        text-align: right;\n",
       "    }\n",
       "</style>\n",
       "<table border=\"1\" class=\"dataframe\">\n",
       "  <thead>\n",
       "    <tr style=\"text-align: right;\">\n",
       "      <th></th>\n",
       "      <th>user_id</th>\n",
       "      <th>First Name</th>\n",
       "      <th>Surnam</th>\n",
       "      <th>Gender</th>\n",
       "      <th>STATE</th>\n",
       "      <th>Age</th>\n",
       "      <th>date_joined</th>\n",
       "      <th>n_dependants</th>\n",
       "      <th>fam_status</th>\n",
       "      <th>income</th>\n",
       "    </tr>\n",
       "  </thead>\n",
       "  <tbody>\n",
       "    <tr>\n",
       "      <th>0</th>\n",
       "      <td>26711</td>\n",
       "      <td>Deborah</td>\n",
       "      <td>Esquivel</td>\n",
       "      <td>Female</td>\n",
       "      <td>Missouri</td>\n",
       "      <td>48</td>\n",
       "      <td>1/1/2017</td>\n",
       "      <td>3</td>\n",
       "      <td>married</td>\n",
       "      <td>165665</td>\n",
       "    </tr>\n",
       "    <tr>\n",
       "      <th>1</th>\n",
       "      <td>33890</td>\n",
       "      <td>Patricia</td>\n",
       "      <td>Hart</td>\n",
       "      <td>Female</td>\n",
       "      <td>New Mexico</td>\n",
       "      <td>36</td>\n",
       "      <td>1/1/2017</td>\n",
       "      <td>0</td>\n",
       "      <td>single</td>\n",
       "      <td>59285</td>\n",
       "    </tr>\n",
       "    <tr>\n",
       "      <th>2</th>\n",
       "      <td>65803</td>\n",
       "      <td>Kenneth</td>\n",
       "      <td>Farley</td>\n",
       "      <td>Male</td>\n",
       "      <td>Idaho</td>\n",
       "      <td>35</td>\n",
       "      <td>1/1/2017</td>\n",
       "      <td>2</td>\n",
       "      <td>married</td>\n",
       "      <td>99568</td>\n",
       "    </tr>\n",
       "    <tr>\n",
       "      <th>3</th>\n",
       "      <td>125935</td>\n",
       "      <td>Michelle</td>\n",
       "      <td>Hicks</td>\n",
       "      <td>Female</td>\n",
       "      <td>Iowa</td>\n",
       "      <td>40</td>\n",
       "      <td>1/1/2017</td>\n",
       "      <td>0</td>\n",
       "      <td>single</td>\n",
       "      <td>42049</td>\n",
       "    </tr>\n",
       "    <tr>\n",
       "      <th>4</th>\n",
       "      <td>130797</td>\n",
       "      <td>Ann</td>\n",
       "      <td>Gilmore</td>\n",
       "      <td>Female</td>\n",
       "      <td>Maryland</td>\n",
       "      <td>26</td>\n",
       "      <td>1/1/2017</td>\n",
       "      <td>1</td>\n",
       "      <td>married</td>\n",
       "      <td>40374</td>\n",
       "    </tr>\n",
       "  </tbody>\n",
       "</table>\n",
       "</div>"
      ],
      "text/plain": [
       "   user_id First Name    Surnam  Gender       STATE  Age date_joined  \\\n",
       "0    26711    Deborah  Esquivel  Female    Missouri   48    1/1/2017   \n",
       "1    33890   Patricia      Hart  Female  New Mexico   36    1/1/2017   \n",
       "2    65803    Kenneth    Farley    Male       Idaho   35    1/1/2017   \n",
       "3   125935   Michelle     Hicks  Female        Iowa   40    1/1/2017   \n",
       "4   130797        Ann   Gilmore  Female    Maryland   26    1/1/2017   \n",
       "\n",
       "   n_dependants fam_status  income  \n",
       "0             3    married  165665  \n",
       "1             0     single   59285  \n",
       "2             2    married   99568  \n",
       "3             0     single   42049  \n",
       "4             1    married   40374  "
      ]
     },
     "execution_count": 12,
     "metadata": {},
     "output_type": "execute_result"
    }
   ],
   "source": [
    "#checking df_customers\n",
    "df_customers.head()"
   ]
  },
  {
   "cell_type": "markdown",
   "id": "a49b2414-6267-4980-b8ab-5590cdcfa629",
   "metadata": {},
   "source": [
    "## 04 Wrangling Data"
   ]
  },
  {
   "cell_type": "markdown",
   "id": "32cf6ea9-d169-42a9-b759-357a348daa8d",
   "metadata": {},
   "source": [
    "### 01 Columns"
   ]
  },
  {
   "cell_type": "code",
   "execution_count": 16,
   "id": "e0069362-4f5e-4e1f-aba4-1745646da71f",
   "metadata": {},
   "outputs": [],
   "source": [
    "#changing First Name to first_name\n",
    "df_customers.rename(columns = {'First Name' : 'first_name'}, inplace = True)"
   ]
  },
  {
   "cell_type": "code",
   "execution_count": 18,
   "id": "d94eba2a-2c5c-418c-9e86-d5a55bcdbb44",
   "metadata": {},
   "outputs": [],
   "source": [
    "#changing Surnam to last_name\n",
    "df_customers.rename(columns = {'Surnam' : 'last_name'}, inplace = True)"
   ]
  },
  {
   "cell_type": "code",
   "execution_count": 20,
   "id": "e22302d8-1e1a-43da-b685-9074b7628313",
   "metadata": {},
   "outputs": [],
   "source": [
    "#changing Gender to gender\n",
    "df_customers.rename(columns = {'Gender' : 'gender'}, inplace = True)"
   ]
  },
  {
   "cell_type": "code",
   "execution_count": 22,
   "id": "68ce4f6a-3d3f-497c-9a08-6b38eb08b413",
   "metadata": {},
   "outputs": [],
   "source": [
    "#changing STATE to state\n",
    "df_customers.rename(columns = {'STATE' : 'state'}, inplace = True)"
   ]
  },
  {
   "cell_type": "code",
   "execution_count": 24,
   "id": "06a3d808-7943-4421-abd9-288a663fd75a",
   "metadata": {},
   "outputs": [],
   "source": [
    "#changing Age to age\n",
    "df_customers.rename(columns = {'Age' : 'age'}, inplace = True)"
   ]
  },
  {
   "cell_type": "code",
   "execution_count": 26,
   "id": "2b7eeefa-4853-4e8e-a18e-3bd4ec6c3d3a",
   "metadata": {},
   "outputs": [
    {
     "data": {
      "text/plain": [
       "Index(['user_id', 'first_name', 'last_name', 'gender', 'state', 'age',\n",
       "       'date_joined', 'n_dependants', 'fam_status', 'income'],\n",
       "      dtype='object')"
      ]
     },
     "execution_count": 26,
     "metadata": {},
     "output_type": "execute_result"
    }
   ],
   "source": [
    "#checking column names\n",
    "df_customers.columns"
   ]
  },
  {
   "cell_type": "markdown",
   "id": "78b48e40-492d-4c48-89d4-6fcc089fe893",
   "metadata": {},
   "source": [
    "### 02 Data Types"
   ]
  },
  {
   "cell_type": "code",
   "execution_count": 29,
   "id": "d5094735-024d-43e2-84a4-a72f25a3ac70",
   "metadata": {},
   "outputs": [
    {
     "data": {
      "text/plain": [
       "user_id          int64\n",
       "first_name      object\n",
       "last_name       object\n",
       "gender          object\n",
       "state           object\n",
       "age              int64\n",
       "date_joined     object\n",
       "n_dependants     int64\n",
       "fam_status      object\n",
       "income           int64\n",
       "dtype: object"
      ]
     },
     "execution_count": 29,
     "metadata": {},
     "output_type": "execute_result"
    }
   ],
   "source": [
    "#checking data types in df_ords\n",
    "df_customers.dtypes"
   ]
  },
  {
   "cell_type": "code",
   "execution_count": 31,
   "id": "42281b3f-dfd9-46e4-9b55-c1fc763ca9f1",
   "metadata": {},
   "outputs": [],
   "source": [
    "# changing user_id column to string for df_customers\n",
    "df_customers['user_id'] = df_customers['user_id'].astype('str')"
   ]
  },
  {
   "cell_type": "code",
   "execution_count": 33,
   "id": "2cf088f4-43e8-46b8-9717-5f5c9bd2e2b4",
   "metadata": {},
   "outputs": [
    {
     "data": {
      "text/plain": [
       "user_id         object\n",
       "first_name      object\n",
       "last_name       object\n",
       "gender          object\n",
       "state           object\n",
       "age              int64\n",
       "date_joined     object\n",
       "n_dependants     int64\n",
       "fam_status      object\n",
       "income           int64\n",
       "dtype: object"
      ]
     },
     "execution_count": 33,
     "metadata": {},
     "output_type": "execute_result"
    }
   ],
   "source": [
    "#rechecking data types in df_ords\n",
    "df_customers.dtypes"
   ]
  },
  {
   "cell_type": "markdown",
   "id": "ca5230b4-0bc5-4ae6-8b10-afeab04d86cc",
   "metadata": {},
   "source": [
    "## 05 Data Consistency Checks"
   ]
  },
  {
   "cell_type": "markdown",
   "id": "f54419af-9972-482e-ac6a-0966882d9991",
   "metadata": {},
   "source": [
    "### 01 Missing Values"
   ]
  },
  {
   "cell_type": "code",
   "execution_count": 37,
   "id": "c2df89e8-bf45-49bc-b42c-2a2e064707de",
   "metadata": {},
   "outputs": [
    {
     "data": {
      "text/plain": [
       "user_id             0\n",
       "first_name      11259\n",
       "last_name           0\n",
       "gender              0\n",
       "state               0\n",
       "age                 0\n",
       "date_joined         0\n",
       "n_dependants        0\n",
       "fam_status          0\n",
       "income              0\n",
       "dtype: int64"
      ]
     },
     "execution_count": 37,
     "metadata": {},
     "output_type": "execute_result"
    }
   ],
   "source": [
    "#searching for missing values in df_customers\n",
    "df_customers.isnull().sum()"
   ]
  },
  {
   "cell_type": "markdown",
   "id": "6317e186-179b-44e6-bc11-eef16ba2f225",
   "metadata": {},
   "source": [
    "### 02 Duplicate Values"
   ]
  },
  {
   "cell_type": "code",
   "execution_count": 42,
   "id": "394fc4be-558c-4979-aa6c-f354a182dd16",
   "metadata": {},
   "outputs": [
    {
     "data": {
      "text/html": [
       "<div>\n",
       "<style scoped>\n",
       "    .dataframe tbody tr th:only-of-type {\n",
       "        vertical-align: middle;\n",
       "    }\n",
       "\n",
       "    .dataframe tbody tr th {\n",
       "        vertical-align: top;\n",
       "    }\n",
       "\n",
       "    .dataframe thead th {\n",
       "        text-align: right;\n",
       "    }\n",
       "</style>\n",
       "<table border=\"1\" class=\"dataframe\">\n",
       "  <thead>\n",
       "    <tr style=\"text-align: right;\">\n",
       "      <th></th>\n",
       "      <th>user_id</th>\n",
       "      <th>first_name</th>\n",
       "      <th>last_name</th>\n",
       "      <th>gender</th>\n",
       "      <th>state</th>\n",
       "      <th>age</th>\n",
       "      <th>date_joined</th>\n",
       "      <th>n_dependants</th>\n",
       "      <th>fam_status</th>\n",
       "      <th>income</th>\n",
       "    </tr>\n",
       "  </thead>\n",
       "  <tbody>\n",
       "  </tbody>\n",
       "</table>\n",
       "</div>"
      ],
      "text/plain": [
       "Empty DataFrame\n",
       "Columns: [user_id, first_name, last_name, gender, state, age, date_joined, n_dependants, fam_status, income]\n",
       "Index: []"
      ]
     },
     "execution_count": 42,
     "metadata": {},
     "output_type": "execute_result"
    }
   ],
   "source": [
    "#searching for duplicate values in df_customers\n",
    "df_customers_dups = df_customers[df_customers.duplicated()]\n",
    "\n",
    "df_customers_dups"
   ]
  },
  {
   "cell_type": "markdown",
   "id": "f5b46d91-bd03-457b-8dc8-6f36033b0241",
   "metadata": {},
   "source": [
    "No Duplicates Found"
   ]
  },
  {
   "cell_type": "markdown",
   "id": "3275d1a8-2141-4e88-b3ef-ed4d14385380",
   "metadata": {},
   "source": [
    "## 06 Exporting Dataframe"
   ]
  },
  {
   "cell_type": "code",
   "execution_count": 46,
   "id": "3383fbf5-8fdf-4b5e-9f33-9cd16d2d187e",
   "metadata": {},
   "outputs": [],
   "source": [
    "#exporting df_customers as final_customers_wrangled.pkl\n",
    "df_customers.to_pickle(os.path.join(path, '02 Data','Prepared Data', 'final_customers_wrangled.pkl'))"
   ]
  },
  {
   "cell_type": "code",
   "execution_count": null,
   "id": "9b6581d3-f09a-47ee-9180-3cc3d192b9e7",
   "metadata": {},
   "outputs": [],
   "source": []
  }
 ],
 "metadata": {
  "kernelspec": {
   "display_name": "Python 3 (ipykernel)",
   "language": "python",
   "name": "python3"
  },
  "language_info": {
   "codemirror_mode": {
    "name": "ipython",
    "version": 3
   },
   "file_extension": ".py",
   "mimetype": "text/x-python",
   "name": "python",
   "nbconvert_exporter": "python",
   "pygments_lexer": "ipython3",
   "version": "3.12.7"
  }
 },
 "nbformat": 4,
 "nbformat_minor": 5
}
