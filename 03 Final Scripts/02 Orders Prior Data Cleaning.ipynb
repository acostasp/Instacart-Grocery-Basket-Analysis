{
 "cells": [
  {
   "cell_type": "markdown",
   "id": "9807c9fe-72cc-4965-9d6b-7dab93cd5b39",
   "metadata": {},
   "source": [
    "# Orders Prior Data Cleaning"
   ]
  },
  {
   "cell_type": "markdown",
   "id": "380bb581-2336-4841-9fb6-0abe07efaa1d",
   "metadata": {},
   "source": [
    "## Contents"
   ]
  },
  {
   "cell_type": "markdown",
   "id": "678fd0d3-5523-4492-95a1-b5adae98a893",
   "metadata": {},
   "source": [
    "### 01 Importing Libraries"
   ]
  },
  {
   "cell_type": "markdown",
   "id": "e2aff1e1-6464-4472-a310-17dce2af68f9",
   "metadata": {},
   "source": [
    "### 02 Importing Data"
   ]
  },
  {
   "cell_type": "markdown",
   "id": "68c7b00a-9ca2-47f9-a1d2-b34d0d8227ec",
   "metadata": {},
   "source": [
    "### 03 Checking Data"
   ]
  },
  {
   "cell_type": "markdown",
   "id": "9cf26dbe-a54c-4ba3-8baa-0857836d3b90",
   "metadata": {},
   "source": [
    "### 04 Wrangling Data"
   ]
  },
  {
   "cell_type": "markdown",
   "id": "3a30f4c9-d48c-4d42-a816-570f814a966e",
   "metadata": {},
   "source": [
    "#### 01 Data Types"
   ]
  },
  {
   "cell_type": "markdown",
   "id": "ecdc31fd-3b07-409d-bb5f-08af97e20cf7",
   "metadata": {},
   "source": [
    "### 05 Checking Data Consistency"
   ]
  },
  {
   "cell_type": "markdown",
   "id": "37c0bdba-c336-4b10-be65-1b9e4bfd10f3",
   "metadata": {},
   "source": [
    "#### 01 Missing Values"
   ]
  },
  {
   "cell_type": "markdown",
   "id": "bc846d3a-c83c-4ca9-98dd-ae724ae542a1",
   "metadata": {},
   "source": [
    "#### 02 Duplicate Values"
   ]
  },
  {
   "cell_type": "markdown",
   "id": "a3ec03fd-def9-4965-a67c-5c605796456b",
   "metadata": {},
   "source": [
    "### 06 Exporting Dataframe"
   ]
  },
  {
   "cell_type": "markdown",
   "id": "4bb5e187-ab09-4348-8876-dd3e66c486d3",
   "metadata": {},
   "source": [
    "## 01 Importing Libraries"
   ]
  },
  {
   "cell_type": "code",
   "execution_count": 1,
   "id": "072b078e-03ac-4cc0-917d-47d55cbfea3b",
   "metadata": {},
   "outputs": [],
   "source": [
    "#importing libraries\n",
    "import pandas as pd\n",
    "import numpy as np\n",
    "import os"
   ]
  },
  {
   "cell_type": "markdown",
   "id": "8f228b1b-0d5e-4d98-ac4e-00abaca62bdb",
   "metadata": {},
   "source": [
    "## 02 Importing Data"
   ]
  },
  {
   "cell_type": "code",
   "execution_count": 4,
   "id": "e64aee02-13ec-4c1b-a46e-e9fe24a3f6cb",
   "metadata": {},
   "outputs": [],
   "source": [
    "#creating path\n",
    "path = r'C:\\\\Users\\\\samac\\\\Instacart Basket Analysis'"
   ]
  },
  {
   "cell_type": "code",
   "execution_count": 6,
   "id": "c66b5520-11e9-4690-bd78-f9c1f70b45e7",
   "metadata": {},
   "outputs": [],
   "source": [
    "#importing orders_products_prior.csv\n",
    "ords_prods_prior = pd.read_csv(os.path.join(path, '02 Data', 'Original Data', 'orders_products_prior.csv'), index_col = False)"
   ]
  },
  {
   "cell_type": "markdown",
   "id": "da12bba2-002c-4926-bcc7-d1d7a73542b9",
   "metadata": {},
   "source": [
    "## 03 Checking Data"
   ]
  },
  {
   "cell_type": "code",
   "execution_count": 8,
   "id": "a6e680d0-f541-4750-849a-c43b20ac1527",
   "metadata": {},
   "outputs": [
    {
     "data": {
      "text/plain": [
       "(32434489, 4)"
      ]
     },
     "execution_count": 8,
     "metadata": {},
     "output_type": "execute_result"
    }
   ],
   "source": [
    "#checking ords_prods_prior shape\n",
    "ords_prods_prior.shape"
   ]
  },
  {
   "cell_type": "code",
   "execution_count": 9,
   "id": "72d87a22-1d90-402e-8164-f4b54a59908b",
   "metadata": {},
   "outputs": [
    {
     "data": {
      "text/html": [
       "<div>\n",
       "<style scoped>\n",
       "    .dataframe tbody tr th:only-of-type {\n",
       "        vertical-align: middle;\n",
       "    }\n",
       "\n",
       "    .dataframe tbody tr th {\n",
       "        vertical-align: top;\n",
       "    }\n",
       "\n",
       "    .dataframe thead th {\n",
       "        text-align: right;\n",
       "    }\n",
       "</style>\n",
       "<table border=\"1\" class=\"dataframe\">\n",
       "  <thead>\n",
       "    <tr style=\"text-align: right;\">\n",
       "      <th></th>\n",
       "      <th>order_id</th>\n",
       "      <th>product_id</th>\n",
       "      <th>add_to_cart_order</th>\n",
       "      <th>reordered</th>\n",
       "    </tr>\n",
       "  </thead>\n",
       "  <tbody>\n",
       "    <tr>\n",
       "      <th>0</th>\n",
       "      <td>2</td>\n",
       "      <td>33120</td>\n",
       "      <td>1</td>\n",
       "      <td>1</td>\n",
       "    </tr>\n",
       "    <tr>\n",
       "      <th>1</th>\n",
       "      <td>2</td>\n",
       "      <td>28985</td>\n",
       "      <td>2</td>\n",
       "      <td>1</td>\n",
       "    </tr>\n",
       "    <tr>\n",
       "      <th>2</th>\n",
       "      <td>2</td>\n",
       "      <td>9327</td>\n",
       "      <td>3</td>\n",
       "      <td>0</td>\n",
       "    </tr>\n",
       "    <tr>\n",
       "      <th>3</th>\n",
       "      <td>2</td>\n",
       "      <td>45918</td>\n",
       "      <td>4</td>\n",
       "      <td>1</td>\n",
       "    </tr>\n",
       "    <tr>\n",
       "      <th>4</th>\n",
       "      <td>2</td>\n",
       "      <td>30035</td>\n",
       "      <td>5</td>\n",
       "      <td>0</td>\n",
       "    </tr>\n",
       "  </tbody>\n",
       "</table>\n",
       "</div>"
      ],
      "text/plain": [
       "   order_id  product_id  add_to_cart_order  reordered\n",
       "0         2       33120                  1          1\n",
       "1         2       28985                  2          1\n",
       "2         2        9327                  3          0\n",
       "3         2       45918                  4          1\n",
       "4         2       30035                  5          0"
      ]
     },
     "execution_count": 9,
     "metadata": {},
     "output_type": "execute_result"
    }
   ],
   "source": [
    "#checking ords_prods_prior records\n",
    "ords_prods_prior.head()"
   ]
  },
  {
   "cell_type": "markdown",
   "id": "a49b2414-6267-4980-b8ab-5590cdcfa629",
   "metadata": {},
   "source": [
    "## 04 Wrangling Data"
   ]
  },
  {
   "cell_type": "markdown",
   "id": "78b48e40-492d-4c48-89d4-6fcc089fe893",
   "metadata": {},
   "source": [
    "### 01 Data Types"
   ]
  },
  {
   "cell_type": "code",
   "execution_count": 15,
   "id": "d5094735-024d-43e2-84a4-a72f25a3ac70",
   "metadata": {},
   "outputs": [
    {
     "data": {
      "text/plain": [
       "order_id             int64\n",
       "product_id           int64\n",
       "add_to_cart_order    int64\n",
       "reordered            int64\n",
       "dtype: object"
      ]
     },
     "execution_count": 15,
     "metadata": {},
     "output_type": "execute_result"
    }
   ],
   "source": [
    "#checking data types in df_ords\n",
    "ords_prods_prior.dtypes"
   ]
  },
  {
   "cell_type": "code",
   "execution_count": 17,
   "id": "6ceb0dc6-264d-49af-b81b-5759e95c217e",
   "metadata": {},
   "outputs": [],
   "source": [
    "#changing 'order_id' from int to string\n",
    "ords_prods_prior['order_id'] = ords_prods_prior['order_id'].astype('str')"
   ]
  },
  {
   "cell_type": "code",
   "execution_count": 18,
   "id": "b01d5fd1-821c-4b6d-b0ce-0d9a16922bbb",
   "metadata": {},
   "outputs": [],
   "source": [
    "#changing 'product_id' from int to string\n",
    "ords_prods_prior['product_id'] = ords_prods_prior['product_id'].astype('str')"
   ]
  },
  {
   "cell_type": "code",
   "execution_count": 21,
   "id": "2cf088f4-43e8-46b8-9717-5f5c9bd2e2b4",
   "metadata": {},
   "outputs": [
    {
     "data": {
      "text/plain": [
       "order_id             object\n",
       "product_id           object\n",
       "add_to_cart_order     int64\n",
       "reordered             int64\n",
       "dtype: object"
      ]
     },
     "execution_count": 21,
     "metadata": {},
     "output_type": "execute_result"
    }
   ],
   "source": [
    "#rechecking data types in df_ords\n",
    "ords_prods_prior.dtypes"
   ]
  },
  {
   "cell_type": "markdown",
   "id": "ca5230b4-0bc5-4ae6-8b10-afeab04d86cc",
   "metadata": {},
   "source": [
    "## 05 Data Consistency Checks"
   ]
  },
  {
   "cell_type": "markdown",
   "id": "f54419af-9972-482e-ac6a-0966882d9991",
   "metadata": {},
   "source": [
    "### 01 Missing Values"
   ]
  },
  {
   "cell_type": "code",
   "execution_count": 25,
   "id": "c2df89e8-bf45-49bc-b42c-2a2e064707de",
   "metadata": {},
   "outputs": [
    {
     "data": {
      "text/plain": [
       "order_id             0\n",
       "product_id           0\n",
       "add_to_cart_order    0\n",
       "reordered            0\n",
       "dtype: int64"
      ]
     },
     "execution_count": 25,
     "metadata": {},
     "output_type": "execute_result"
    }
   ],
   "source": [
    "#searching for missing values in ords_prods_prior\n",
    "ords_prods_prior.isnull().sum()"
   ]
  },
  {
   "cell_type": "markdown",
   "id": "758a915f-3da6-4ca6-a310-35461da2f660",
   "metadata": {},
   "source": [
    "There are no missing values in ords_prods_prior"
   ]
  },
  {
   "cell_type": "markdown",
   "id": "6317e186-179b-44e6-bc11-eef16ba2f225",
   "metadata": {},
   "source": [
    "### 02 Duplicate Values"
   ]
  },
  {
   "cell_type": "code",
   "execution_count": 28,
   "id": "394fc4be-558c-4979-aa6c-f354a182dd16",
   "metadata": {},
   "outputs": [
    {
     "data": {
      "text/html": [
       "<div>\n",
       "<style scoped>\n",
       "    .dataframe tbody tr th:only-of-type {\n",
       "        vertical-align: middle;\n",
       "    }\n",
       "\n",
       "    .dataframe tbody tr th {\n",
       "        vertical-align: top;\n",
       "    }\n",
       "\n",
       "    .dataframe thead th {\n",
       "        text-align: right;\n",
       "    }\n",
       "</style>\n",
       "<table border=\"1\" class=\"dataframe\">\n",
       "  <thead>\n",
       "    <tr style=\"text-align: right;\">\n",
       "      <th></th>\n",
       "      <th>order_id</th>\n",
       "      <th>product_id</th>\n",
       "      <th>add_to_cart_order</th>\n",
       "      <th>reordered</th>\n",
       "    </tr>\n",
       "  </thead>\n",
       "  <tbody>\n",
       "  </tbody>\n",
       "</table>\n",
       "</div>"
      ],
      "text/plain": [
       "Empty DataFrame\n",
       "Columns: [order_id, product_id, add_to_cart_order, reordered]\n",
       "Index: []"
      ]
     },
     "execution_count": 28,
     "metadata": {},
     "output_type": "execute_result"
    }
   ],
   "source": [
    "#searching for duplicate values in ords_prods_prior\n",
    "ords_prods_prior_dups = ords_prods_prior[ords_prods_prior.duplicated()]\n",
    "\n",
    "ords_prods_prior_dups"
   ]
  },
  {
   "cell_type": "markdown",
   "id": "f5b46d91-bd03-457b-8dc8-6f36033b0241",
   "metadata": {},
   "source": [
    "No Duplicates Found"
   ]
  },
  {
   "cell_type": "markdown",
   "id": "3275d1a8-2141-4e88-b3ef-ed4d14385380",
   "metadata": {},
   "source": [
    "## 06 Exporting Dataframe"
   ]
  },
  {
   "cell_type": "code",
   "execution_count": 32,
   "id": "3383fbf5-8fdf-4b5e-9f33-9cd16d2d187e",
   "metadata": {},
   "outputs": [],
   "source": [
    "#exporting ords_prods_prior as final_orders_wrangled.pkl\n",
    "ords_prods_prior.to_pickle(os.path.join(path, '02 Data','Prepared Data', 'final_orders_products_prior_wrangled.pkl'))"
   ]
  }
 ],
 "metadata": {
  "kernelspec": {
   "display_name": "Python 3 (ipykernel)",
   "language": "python",
   "name": "python3"
  },
  "language_info": {
   "codemirror_mode": {
    "name": "ipython",
    "version": 3
   },
   "file_extension": ".py",
   "mimetype": "text/x-python",
   "name": "python",
   "nbconvert_exporter": "python",
   "pygments_lexer": "ipython3",
   "version": "3.12.7"
  }
 },
 "nbformat": 4,
 "nbformat_minor": 5
}
