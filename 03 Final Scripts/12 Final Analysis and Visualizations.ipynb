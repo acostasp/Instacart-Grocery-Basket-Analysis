{
 "cells": [
  {
   "cell_type": "markdown",
   "id": "e3bbced7-39ea-4850-9038-d44ae2bca30c",
   "metadata": {},
   "source": [
    "## 01 Importing Libraries\n"
   ]
  },
  {
   "cell_type": "code",
   "execution_count": 1,
   "id": "9efea71d-3f14-4e4a-aaf5-1b094c28ef32",
   "metadata": {},
   "outputs": [],
   "source": [
    "#importing libraries\n",
    "\n",
    "import pandas as pd\n",
    "import numpy as np\n",
    "import os\n",
    "import matplotlib.pyplot as plt\n",
    "import seaborn as sns\n",
    "import scipy"
   ]
  },
  {
   "cell_type": "markdown",
   "id": "23b37d02-bb57-4bc9-bcd7-d2e58298240a",
   "metadata": {},
   "source": [
    "## 02 Importing Data"
   ]
  },
  {
   "cell_type": "code",
   "execution_count": 3,
   "id": "b5fd630f-8083-44aa-8a88-6b4cce5aa287",
   "metadata": {},
   "outputs": [],
   "source": [
    "#create path\n",
    "path = r'C:\\\\Users\\\\samac\\\\Instacart Basket Analysis'"
   ]
  },
  {
   "cell_type": "code",
   "execution_count": 4,
   "id": "c0c8d54a-c2d7-4057-bdea-e9439c20ec88",
   "metadata": {},
   "outputs": [],
   "source": [
    "#importing 'final_orders_products_complete.pkl'\n",
    "ords_prods_complete = pd.read_pickle(os.path.join(path, '02 Data', 'Prepared Data', 'final_orders_products_complete.pkl'))"
   ]
  },
  {
   "cell_type": "code",
   "execution_count": 5,
   "id": "3c939127-cd5e-4529-b415-6d39259577d1",
   "metadata": {},
   "outputs": [
    {
     "data": {
      "text/plain": [
       "(30964564, 37)"
      ]
     },
     "execution_count": 5,
     "metadata": {},
     "output_type": "execute_result"
    }
   ],
   "source": [
    "#checking shape\n",
    "ords_prods_complete.shape"
   ]
  },
  {
   "cell_type": "code",
   "execution_count": 6,
   "id": "118cbf03-ce7a-4379-b67f-e466470b5299",
   "metadata": {},
   "outputs": [],
   "source": [
    "#importing departments\n",
    "df_dep = pd.read_pickle(os.path.join(path, '02 Data', 'Prepared Data', 'final_departments_wrangled.pkl'))"
   ]
  },
  {
   "cell_type": "code",
   "execution_count": 7,
   "id": "dad0a9c5-f623-4028-9864-d67b30462ce7",
   "metadata": {},
   "outputs": [
    {
     "data": {
      "text/plain": [
       "(21, 1)"
      ]
     },
     "execution_count": 7,
     "metadata": {},
     "output_type": "execute_result"
    }
   ],
   "source": [
    "df_dep.shape"
   ]
  },
  {
   "cell_type": "code",
   "execution_count": 8,
   "id": "72ac4de2-809b-45ab-b8b7-3ff7b0bf3346",
   "metadata": {},
   "outputs": [
    {
     "data": {
      "text/html": [
       "<div>\n",
       "<style scoped>\n",
       "    .dataframe tbody tr th:only-of-type {\n",
       "        vertical-align: middle;\n",
       "    }\n",
       "\n",
       "    .dataframe tbody tr th {\n",
       "        vertical-align: top;\n",
       "    }\n",
       "\n",
       "    .dataframe thead th {\n",
       "        text-align: right;\n",
       "    }\n",
       "</style>\n",
       "<table border=\"1\" class=\"dataframe\">\n",
       "  <thead>\n",
       "    <tr style=\"text-align: right;\">\n",
       "      <th>department_id</th>\n",
       "      <th>department</th>\n",
       "    </tr>\n",
       "  </thead>\n",
       "  <tbody>\n",
       "    <tr>\n",
       "      <th>1</th>\n",
       "      <td>frozen</td>\n",
       "    </tr>\n",
       "    <tr>\n",
       "      <th>2</th>\n",
       "      <td>other</td>\n",
       "    </tr>\n",
       "    <tr>\n",
       "      <th>3</th>\n",
       "      <td>bakery</td>\n",
       "    </tr>\n",
       "    <tr>\n",
       "      <th>4</th>\n",
       "      <td>produce</td>\n",
       "    </tr>\n",
       "    <tr>\n",
       "      <th>5</th>\n",
       "      <td>alcohol</td>\n",
       "    </tr>\n",
       "    <tr>\n",
       "      <th>6</th>\n",
       "      <td>international</td>\n",
       "    </tr>\n",
       "    <tr>\n",
       "      <th>7</th>\n",
       "      <td>beverages</td>\n",
       "    </tr>\n",
       "    <tr>\n",
       "      <th>8</th>\n",
       "      <td>pets</td>\n",
       "    </tr>\n",
       "    <tr>\n",
       "      <th>9</th>\n",
       "      <td>dry goods pasta</td>\n",
       "    </tr>\n",
       "    <tr>\n",
       "      <th>10</th>\n",
       "      <td>bulk</td>\n",
       "    </tr>\n",
       "    <tr>\n",
       "      <th>11</th>\n",
       "      <td>personal care</td>\n",
       "    </tr>\n",
       "    <tr>\n",
       "      <th>12</th>\n",
       "      <td>meat seafood</td>\n",
       "    </tr>\n",
       "    <tr>\n",
       "      <th>13</th>\n",
       "      <td>pantry</td>\n",
       "    </tr>\n",
       "    <tr>\n",
       "      <th>14</th>\n",
       "      <td>breakfast</td>\n",
       "    </tr>\n",
       "    <tr>\n",
       "      <th>15</th>\n",
       "      <td>canned goods</td>\n",
       "    </tr>\n",
       "    <tr>\n",
       "      <th>16</th>\n",
       "      <td>dairy eggs</td>\n",
       "    </tr>\n",
       "    <tr>\n",
       "      <th>17</th>\n",
       "      <td>household</td>\n",
       "    </tr>\n",
       "    <tr>\n",
       "      <th>18</th>\n",
       "      <td>babies</td>\n",
       "    </tr>\n",
       "    <tr>\n",
       "      <th>19</th>\n",
       "      <td>snacks</td>\n",
       "    </tr>\n",
       "    <tr>\n",
       "      <th>20</th>\n",
       "      <td>deli</td>\n",
       "    </tr>\n",
       "    <tr>\n",
       "      <th>21</th>\n",
       "      <td>missing</td>\n",
       "    </tr>\n",
       "  </tbody>\n",
       "</table>\n",
       "</div>"
      ],
      "text/plain": [
       "department_id       department\n",
       "1                       frozen\n",
       "2                        other\n",
       "3                       bakery\n",
       "4                      produce\n",
       "5                      alcohol\n",
       "6                international\n",
       "7                    beverages\n",
       "8                         pets\n",
       "9              dry goods pasta\n",
       "10                        bulk\n",
       "11               personal care\n",
       "12                meat seafood\n",
       "13                      pantry\n",
       "14                   breakfast\n",
       "15                canned goods\n",
       "16                  dairy eggs\n",
       "17                   household\n",
       "18                      babies\n",
       "19                      snacks\n",
       "20                        deli\n",
       "21                     missing"
      ]
     },
     "execution_count": 8,
     "metadata": {},
     "output_type": "execute_result"
    }
   ],
   "source": [
    "df_dep"
   ]
  },
  {
   "cell_type": "markdown",
   "id": "45cfc71e-9758-494f-86ae-eb2327176e0b",
   "metadata": {},
   "source": [
    "## 03 Assigning Names to Departments"
   ]
  },
  {
   "cell_type": "code",
   "execution_count": 12,
   "id": "42f862b3-ae9a-456e-b075-6d1cb3bfaee9",
   "metadata": {},
   "outputs": [],
   "source": [
    "#replacing department_id with department name\n",
    "ords_prods_complete['department_id'] = ords_prods_complete['department_id'].replace(df_dep['department'])"
   ]
  },
  {
   "cell_type": "markdown",
   "id": "7a594471-e461-4f33-96ca-026c50f7c8be",
   "metadata": {},
   "source": [
    "## 04 Creating Visualizations"
   ]
  },
  {
   "cell_type": "markdown",
   "id": "7e7b66da-8b57-42a1-8f9b-4d5bfae81363",
   "metadata": {},
   "source": [
    "### 01 Department Value Count"
   ]
  },
  {
   "cell_type": "code",
   "execution_count": 15,
   "id": "ef5b590b-bfb6-44a3-b1d9-63a1af5f55d1",
   "metadata": {},
   "outputs": [
    {
     "data": {
      "image/png": "[encoded data removed]",
      "text/plain": [
       "<Figure size 640x480 with 1 Axes>"
      ]
     },
     "metadata": {},
     "output_type": "display_data"
    }
   ],
   "source": [
    "bar_department = ords_prods_complete['department_id'].value_counts().plot.bar()"
   ]
  },
  {
   "cell_type": "code",
   "execution_count": 16,
   "id": "769e13d6-963b-46cc-a2aa-8e27d32667aa",
   "metadata": {},
   "outputs": [],
   "source": [
    "#exporting bar_department\n",
    "bar_department.figure.savefig(os.path.join(path, '04 Analysis','Visualizations', 'final_bar_department.png'))"
   ]
  },
  {
   "cell_type": "markdown",
   "id": "81c27cad-83e3-4fb4-b046-1b8be5deaf0f",
   "metadata": {},
   "source": [
    "### 02 Average Price vs. Loyalty Flag"
   ]
  },
  {
   "cell_type": "code",
   "execution_count": 26,
   "id": "5b7e0b98-a3b4-4998-b770-eaff3ecb04f0",
   "metadata": {},
   "outputs": [
    {
     "data": {
      "text/plain": [
       "Text(0.5, 1.0, 'Average Price Per Order by Loyalty Flag')"
      ]
     },
     "execution_count": 26,
     "metadata": {},
     "output_type": "execute_result"
    },
    {
     "data": {
      "image/png": "[encoded data removed]",
      "text/plain": [
       "<Figure size 800x600 with 1 Axes>"
      ]
     },
     "metadata": {},
     "output_type": "display_data"
    }
   ],
   "source": [
    "#this was created using ChatGPT\n",
    "\n",
    "avg_price_loyalty = ords_prods_complete.groupby('loyalty_flag')['avg_price'].mean()\n",
    "plt.figure(figsize=(8, 6))\n",
    "final_bar_avg_price_loyalty = avg_price_loyalty.plot(kind='bar')\n",
    "\n",
    "# Adding labels and title\n",
    "plt.xlabel('Loyalty Flag')\n",
    "plt.ylabel('Average Price')\n",
    "plt.title('Average Price Per Order by Loyalty Flag')"
   ]
  },
  {
   "cell_type": "code",
   "execution_count": 28,
   "id": "6e8db406-99c8-4670-85d5-2b93e2e74dda",
   "metadata": {},
   "outputs": [],
   "source": [
    "#exporting final_bar_avg_price_loyalty\n",
    "final_bar_avg_price_loyalty.figure.savefig(os.path.join(path, '04 Analysis','Visualizations', 'final_bar_avg_price_loyalty.png'))"
   ]
  },
  {
   "cell_type": "markdown",
   "id": "cd2f7af3-20c8-4bf4-a26e-5198fd91cb6b",
   "metadata": {},
   "source": [
    "### 03 Days Since Prior Order Median vs. Loyalty FLag"
   ]
  },
  {
   "cell_type": "code",
   "execution_count": 31,
   "id": "fee24440-5a5c-4cc0-ae27-0bb791898b7e",
   "metadata": {},
   "outputs": [
    {
     "data": {
      "text/plain": [
       "Text(0.5, 1.0, 'Median Days Since Prior Order by Loyalty Flag')"
      ]
     },
     "execution_count": 31,
     "metadata": {},
     "output_type": "execute_result"
    },
    {
     "data": {
      "image/png": "[encoded data removed]",
      "text/plain": [
       "<Figure size 800x600 with 1 Axes>"
      ]
     },
     "metadata": {},
     "output_type": "display_data"
    }
   ],
   "source": [
    "#this was created using ChatGPT\n",
    "\n",
    "days_loyalty = ords_prods_complete.groupby('loyalty_flag')['days_since_prior_order_median'].mean()\n",
    "plt.figure(figsize=(8, 6))\n",
    "final_bar_days_loyalty = days_loyalty.plot(kind='bar')\n",
    "\n",
    "# Adding labels\n",
    "plt.xlabel('Loyalty Flag')\n",
    "plt.ylabel('Median Days Since Prior Order')\n",
    "plt.title('Median Days Since Prior Order by Loyalty Flag')"
   ]
  },
  {
   "cell_type": "code",
   "execution_count": 33,
   "id": "58e6cac4-584b-4c9f-9de0-13de3605df02",
   "metadata": {},
   "outputs": [],
   "source": [
    "#exporting final_bar_days_loyalty\n",
    "final_bar_days_loyalty.figure.savefig(os.path.join(path, '04 Analysis','Visualizations', 'final_bar_days_loyalty.png'))"
   ]
  },
  {
   "cell_type": "markdown",
   "id": "9b28fbcf-85c0-466b-96c5-3ee72195ee6f",
   "metadata": {},
   "source": [
    "### 04 Average Price vs. Region"
   ]
  },
  {
   "cell_type": "code",
   "execution_count": 36,
   "id": "e15bfa54-813d-42f5-9465-11d59ff723c6",
   "metadata": {},
   "outputs": [
    {
     "data": {
      "text/plain": [
       "product_id                         object\n",
       "product_name                       object\n",
       "aisle_id                           object\n",
       "department_id                      object\n",
       "prices                            float64\n",
       "order_id                           object\n",
       "user_id                            object\n",
       "order_number                        int64\n",
       "orders_day_of_week                  int64\n",
       "order_hour_of_day                   int64\n",
       "days_since_prior_order            float64\n",
       "days_since_prior_order_flag         int32\n",
       "add_to_cart_order                   int64\n",
       "reordered                           int64\n",
       "gender                             object\n",
       "state                              object\n",
       "age                                 int64\n",
       "date_joined                        object\n",
       "n_dependants                        int64\n",
       "fam_status                         object\n",
       "income                              int64\n",
       "_merge                           category\n",
       "price_range_loc                    object\n",
       "busiest_day                        object\n",
       "busiest_days                       object\n",
       "busiest_period_of_day              object\n",
       "max_order                           int64\n",
       "loyalty_flag                       object\n",
       "avg_price                         float64\n",
       "spending_flag                      object\n",
       "days_since_prior_order_median     float64\n",
       "frequency_flag                     object\n",
       "region                             object\n",
       "activity_flag                      object\n",
       "generation_flag                    object\n",
       "income_flag                        object\n",
       "dependant_flag                     object\n",
       "dtype: object"
      ]
     },
     "execution_count": 36,
     "metadata": {},
     "output_type": "execute_result"
    }
   ],
   "source": [
    "ords_prods_complete.dtypes"
   ]
  },
  {
   "cell_type": "code",
   "execution_count": 38,
   "id": "1f384966-8ab4-46bf-959e-b5ee4c4933ec",
   "metadata": {},
   "outputs": [
    {
     "data": {
      "text/plain": [
       "Text(0.5, 1.0, 'Average Price Per Order by Region')"
      ]
     },
     "execution_count": 38,
     "metadata": {},
     "output_type": "execute_result"
    },
    {
     "data": {
      "image/png": "[encoded data removed]",
      "text/plain": [
       "<Figure size 800x600 with 1 Axes>"
      ]
     },
     "metadata": {},
     "output_type": "display_data"
    }
   ],
   "source": [
    "#this was created using ChatGPT\n",
    "\n",
    "avg_price_region = ords_prods_complete.groupby('region')['avg_price'].mean()\n",
    "plt.figure(figsize=(8, 6))\n",
    "final_bar_avg_price_region = avg_price_region.plot(kind='bar')\n",
    "\n",
    "# Adding labels\n",
    "plt.xlabel('Region')\n",
    "plt.ylabel('Average Price')\n",
    "plt.title('Average Price Per Order by Region')"
   ]
  },
  {
   "cell_type": "code",
   "execution_count": 40,
   "id": "27503b3e-e03c-4963-bf48-ab1208cde518",
   "metadata": {},
   "outputs": [],
   "source": [
    "#exporting final_bar_avg_price_region\n",
    "final_bar_avg_price_region.figure.savefig(os.path.join(path, '04 Analysis','Visualizations', 'final_bar_avg_price_loyalty.png'))"
   ]
  },
  {
   "cell_type": "markdown",
   "id": "7a495183-03e2-4d04-b931-f241ddef404b",
   "metadata": {},
   "source": [
    "### 05 Days Since Prior Order Median vs. Region"
   ]
  },
  {
   "cell_type": "code",
   "execution_count": 43,
   "id": "4be472d5-8d4d-41f5-b310-90813f00c9df",
   "metadata": {},
   "outputs": [
    {
     "data": {
      "text/plain": [
       "Text(0.5, 1.0, 'Median Days Since Prior Order by Region')"
      ]
     },
     "execution_count": 43,
     "metadata": {},
     "output_type": "execute_result"
    },
    {
     "data": {
      "image/png": "[encoded data removed]",
      "text/plain": [
       "<Figure size 800x600 with 1 Axes>"
      ]
     },
     "metadata": {},
     "output_type": "display_data"
    }
   ],
   "source": [
    "#this was created using ChatGPT\n",
    "\n",
    "days_region = ords_prods_complete.groupby('region')['days_since_prior_order_median'].mean()\n",
    "plt.figure(figsize=(8, 6))\n",
    "final_bar_days_region = days_region.plot(kind='bar')\n",
    "\n",
    "# Adding labels\n",
    "plt.xlabel('Region')\n",
    "plt.ylabel('Median Days Since Prior Order')\n",
    "plt.title('Median Days Since Prior Order by Region')"
   ]
  },
  {
   "cell_type": "code",
   "execution_count": 45,
   "id": "23860477-f367-4d5a-ae7b-c94dcd14b5e8",
   "metadata": {},
   "outputs": [],
   "source": [
    "#exporting final_bar_days_region\n",
    "final_bar_days_region.figure.savefig(os.path.join(path, '04 Analysis','Visualizations', 'final_bar_days_region.png'))"
   ]
  },
  {
   "cell_type": "markdown",
   "id": "8a75ac8a-331b-4a9d-8b39-c1e039b2ce3b",
   "metadata": {},
   "source": [
    "### 06 Average Price vs. Generation Flag"
   ]
  },
  {
   "cell_type": "code",
   "execution_count": 50,
   "id": "d955943c-f67a-4a6b-99b8-13533a9cd5cc",
   "metadata": {},
   "outputs": [
    {
     "data": {
      "text/plain": [
       "Text(0.5, 1.0, 'Average Price Per Order by Generation')"
      ]
     },
     "execution_count": 50,
     "metadata": {},
     "output_type": "execute_result"
    },
    {
     "data": {
      "image/png": "[encoded data removed]",
      "text/plain": [
       "<Figure size 800x600 with 1 Axes>"
      ]
     },
     "metadata": {},
     "output_type": "display_data"
    }
   ],
   "source": [
    "#this was created using ChatGPT\n",
    "\n",
    "avg_price_generation = ords_prods_complete.groupby('generation_flag')['avg_price'].mean()\n",
    "plt.figure(figsize=(8, 6))\n",
    "final_bar_avg_price_generation = avg_price_generation.plot(kind='bar')\n",
    "\n",
    "# Adding labels\n",
    "plt.xlabel('Generation')\n",
    "plt.ylabel('Average Price')\n",
    "plt.title('Average Price Per Order by Generation')"
   ]
  },
  {
   "cell_type": "code",
   "execution_count": 52,
   "id": "be9bc650-0c1d-47d6-8d18-e2f30f7ce54d",
   "metadata": {},
   "outputs": [],
   "source": [
    "#exporting final_bar_avg_price_generation\n",
    "final_bar_avg_price_generation.figure.savefig(os.path.join(path, '04 Analysis','Visualizations', 'final_bar_avg_price_generation.png'))"
   ]
  },
  {
   "cell_type": "markdown",
   "id": "ea68c3e9-0be4-4fa8-864d-e069e4f4886a",
   "metadata": {},
   "source": [
    "### 07 Days Since Prior Order Median vs. Generation Flag"
   ]
  },
  {
   "cell_type": "code",
   "execution_count": 55,
   "id": "6e0ec8a0-be78-4b03-b6f4-a7151bafb7ad",
   "metadata": {},
   "outputs": [
    {
     "data": {
      "text/plain": [
       "Text(0.5, 1.0, 'Median Days Since Prior Order by Generation')"
      ]
     },
     "execution_count": 55,
     "metadata": {},
     "output_type": "execute_result"
    },
    {
     "data": {
      "image/png": "[encoded data removed]",
      "text/plain": [
       "<Figure size 800x600 with 1 Axes>"
      ]
     },
     "metadata": {},
     "output_type": "display_data"
    }
   ],
   "source": [
    "#this was created using ChatGPT\n",
    "\n",
    "days_generation = ords_prods_complete.groupby('generation_flag')['days_since_prior_order_median'].mean()\n",
    "plt.figure(figsize=(8, 6))\n",
    "final_bar_days_generation = days_generation.plot(kind='bar')\n",
    "\n",
    "# Adding labels\n",
    "plt.xlabel('Generation')\n",
    "plt.ylabel('Median Days Since Prior Order')\n",
    "plt.title('Median Days Since Prior Order by Generation')"
   ]
  },
  {
   "cell_type": "code",
   "execution_count": 57,
   "id": "3bc327d7-9384-4d92-bfae-c7c0e902c17e",
   "metadata": {},
   "outputs": [],
   "source": [
    "#exporting final_bar_days_generation\n",
    "final_bar_days_generation.figure.savefig(os.path.join(path, '04 Analysis','Visualizations', 'final_bar_days_generation.png'))"
   ]
  },
  {
   "cell_type": "markdown",
   "id": "444eabce-dfde-4f84-bdeb-01b3acf8174c",
   "metadata": {},
   "source": [
    "### 08 Average Price vs. Family Status"
   ]
  },
  {
   "cell_type": "code",
   "execution_count": 62,
   "id": "322588b5-f21d-4d68-ab31-1cf6780b0be0",
   "metadata": {},
   "outputs": [
    {
     "data": {
      "text/plain": [
       "Text(0.5, 1.0, 'Average Price Per Order by Family Status')"
      ]
     },
     "execution_count": 62,
     "metadata": {},
     "output_type": "execute_result"
    },
    {
     "data": {
      "image/png": "[encoded data removed]",
      "text/plain": [
       "<Figure size 800x600 with 1 Axes>"
      ]
     },
     "metadata": {},
     "output_type": "display_data"
    }
   ],
   "source": [
    "#this was created using ChatGPT\n",
    "\n",
    "avg_price_family = ords_prods_complete.groupby('fam_status')['avg_price'].mean()\n",
    "plt.figure(figsize=(8, 6))\n",
    "final_bar_avg_price_family= avg_price_family.plot(kind='bar')\n",
    "\n",
    "# Adding labels\n",
    "plt.xlabel('Family Status')\n",
    "plt.ylabel('Average Price')\n",
    "plt.title('Average Price Per Order by Family Status')"
   ]
  },
  {
   "cell_type": "code",
   "execution_count": 64,
   "id": "2803814e-396d-457a-a1a3-f488fd9e4e51",
   "metadata": {},
   "outputs": [],
   "source": [
    "#exporting final_bar_avg_price_family\n",
    "final_bar_avg_price_family.figure.savefig(os.path.join(path, '04 Analysis','Visualizations', 'final_bar_avg_price_family.png'))"
   ]
  },
  {
   "cell_type": "markdown",
   "id": "ee503e87-ffce-489e-822e-e0166058cc0a",
   "metadata": {},
   "source": [
    "### 09 Days Since Prior Order Median vs. Family Status"
   ]
  },
  {
   "cell_type": "code",
   "execution_count": 67,
   "id": "343e8178-cd00-4454-a5ba-43e90b4ed9dc",
   "metadata": {},
   "outputs": [
    {
     "data": {
      "text/plain": [
       "Text(0.5, 1.0, 'Median Days Since Prior Order by Family Status')"
      ]
     },
     "execution_count": 67,
     "metadata": {},
     "output_type": "execute_result"
    },
    {
     "data": {
      "image/png": "[encoded data removed]",
      "text/plain": [
       "<Figure size 800x600 with 1 Axes>"
      ]
     },
     "metadata": {},
     "output_type": "display_data"
    }
   ],
   "source": [
    "#this was created using ChatGPT\n",
    "\n",
    "days_family = ords_prods_complete.groupby('fam_status')['days_since_prior_order_median'].mean()\n",
    "plt.figure(figsize=(8, 6))\n",
    "final_bar_days_family= days_family.plot(kind='bar')\n",
    "\n",
    "# Adding labels\n",
    "plt.xlabel('Family Status')\n",
    "plt.ylabel('Median Days Since Prior Order')\n",
    "plt.title('Median Days Since Prior Order by Family Status')"
   ]
  },
  {
   "cell_type": "code",
   "execution_count": 69,
   "id": "7c4bbf90-290b-43c0-8eef-c494fdcc05a7",
   "metadata": {},
   "outputs": [],
   "source": [
    "#exporting final_bar_days_family\n",
    "final_bar_days_family.figure.savefig(os.path.join(path, '04 Analysis','Visualizations', 'final_bar_days_family.png'))"
   ]
  },
  {
   "cell_type": "markdown",
   "id": "c54c6fec-9a2d-41e3-9a4d-1b28fa6a98af",
   "metadata": {},
   "source": [
    "## 05 Creating Pivot Tables and Heat Maps"
   ]
  },
  {
   "cell_type": "markdown",
   "id": "da82b536-a6d0-4a3a-b4b6-f7d51e69804c",
   "metadata": {},
   "source": [
    "### 01 Average Price, Generation, and Region"
   ]
  },
  {
   "cell_type": "code",
   "execution_count": 43,
   "id": "4cbd162f-ff9d-48fe-bf39-ca3d8bf799e9",
   "metadata": {},
   "outputs": [
    {
     "data": {
      "text/html": [
       "<div>\n",
       "<style scoped>\n",
       "    .dataframe tbody tr th:only-of-type {\n",
       "        vertical-align: middle;\n",
       "    }\n",
       "\n",
       "    .dataframe tbody tr th {\n",
       "        vertical-align: top;\n",
       "    }\n",
       "\n",
       "    .dataframe thead th {\n",
       "        text-align: right;\n",
       "    }\n",
       "</style>\n",
       "<table border=\"1\" class=\"dataframe\">\n",
       "  <thead>\n",
       "    <tr style=\"text-align: right;\">\n",
       "      <th>region</th>\n",
       "      <th>Midwest</th>\n",
       "      <th>Northeast</th>\n",
       "      <th>South</th>\n",
       "      <th>West</th>\n",
       "    </tr>\n",
       "    <tr>\n",
       "      <th>generation_flag</th>\n",
       "      <th></th>\n",
       "      <th></th>\n",
       "      <th></th>\n",
       "      <th></th>\n",
       "    </tr>\n",
       "  </thead>\n",
       "  <tbody>\n",
       "    <tr>\n",
       "      <th>Baby Boomer</th>\n",
       "      <td>11.222433</td>\n",
       "      <td>12.259873</td>\n",
       "      <td>11.690037</td>\n",
       "      <td>10.840792</td>\n",
       "    </tr>\n",
       "    <tr>\n",
       "      <th>Generation X</th>\n",
       "      <td>12.457158</td>\n",
       "      <td>12.364356</td>\n",
       "      <td>12.124231</td>\n",
       "      <td>11.750357</td>\n",
       "    </tr>\n",
       "    <tr>\n",
       "      <th>Generation Y</th>\n",
       "      <td>13.274116</td>\n",
       "      <td>10.901750</td>\n",
       "      <td>12.511620</td>\n",
       "      <td>10.540500</td>\n",
       "    </tr>\n",
       "    <tr>\n",
       "      <th>Generation Z</th>\n",
       "      <td>14.536742</td>\n",
       "      <td>10.623932</td>\n",
       "      <td>11.641394</td>\n",
       "      <td>11.415359</td>\n",
       "    </tr>\n",
       "    <tr>\n",
       "      <th>Silent Generation</th>\n",
       "      <td>12.259826</td>\n",
       "      <td>10.877056</td>\n",
       "      <td>12.801840</td>\n",
       "      <td>12.576174</td>\n",
       "    </tr>\n",
       "  </tbody>\n",
       "</table>\n",
       "</div>"
      ],
      "text/plain": [
       "region               Midwest  Northeast      South       West\n",
       "generation_flag                                              \n",
       "Baby Boomer        11.222433  12.259873  11.690037  10.840792\n",
       "Generation X       12.457158  12.364356  12.124231  11.750357\n",
       "Generation Y       13.274116  10.901750  12.511620  10.540500\n",
       "Generation Z       14.536742  10.623932  11.641394  11.415359\n",
       "Silent Generation  12.259826  10.877056  12.801840  12.576174"
      ]
     },
     "execution_count": 43,
     "metadata": {},
     "output_type": "execute_result"
    }
   ],
   "source": [
    "crosstab = pd.pivot_table(\n",
    "    ords_prods_complete,\n",
    "    values='avg_price', \n",
    "    index='generation_flag', \n",
    "    columns='region', \n",
    "    aggfunc='mean'\n",
    ")\n",
    "\n",
    "crosstab"
   ]
  },
  {
   "cell_type": "code",
   "execution_count": 44,
   "id": "55295ef9-5141-48f6-9818-09c34fa0e317",
   "metadata": {},
   "outputs": [
    {
     "data": {
      "image/png": "[encoded data removed]",
      "text/plain": [
       "<Figure size 1000x600 with 2 Axes>"
      ]
     },
     "metadata": {},
     "output_type": "display_data"
    }
   ],
   "source": [
    "# Create a heatmap from the pivot table\n",
    "plt.figure(figsize=(10, 6))\n",
    "heat_gen_region_price = sns.heatmap(crosstab, annot=True, fmt='.2f', cmap='coolwarm', linewidths=0.5, cbar_kws={'label': 'Average Price'})\n",
    "\n",
    "# Customize the plot\n",
    "plt.title('Average Prices by Generation and Region')\n",
    "plt.xlabel('Region')\n",
    "plt.ylabel('Generation')\n",
    "\n",
    "# Display the heatmap\n",
    "plt.show()"
   ]
  },
  {
   "cell_type": "code",
   "execution_count": 45,
   "id": "5d0b3910-6597-4eeb-9892-9b5f9d5411d8",
   "metadata": {},
   "outputs": [],
   "source": [
    "#exporting heat_gen_region_price\n",
    "heat_gen_region_price.figure.savefig(os.path.join(path, '04 Analysis','Visualizations', 'heat_gen_region_price.png'))"
   ]
  },
  {
   "cell_type": "markdown",
   "id": "f3874c1d-b925-4e54-b40d-6ea94fcd29c3",
   "metadata": {},
   "source": [
    "### 02 Average Price, Family Status, and Region"
   ]
  },
  {
   "cell_type": "code",
   "execution_count": 47,
   "id": "66b7d498-6456-45fd-9420-33d99a633b9d",
   "metadata": {},
   "outputs": [
    {
     "data": {
      "text/html": [
       "<div>\n",
       "<style scoped>\n",
       "    .dataframe tbody tr th:only-of-type {\n",
       "        vertical-align: middle;\n",
       "    }\n",
       "\n",
       "    .dataframe tbody tr th {\n",
       "        vertical-align: top;\n",
       "    }\n",
       "\n",
       "    .dataframe thead th {\n",
       "        text-align: right;\n",
       "    }\n",
       "</style>\n",
       "<table border=\"1\" class=\"dataframe\">\n",
       "  <thead>\n",
       "    <tr style=\"text-align: right;\">\n",
       "      <th>region</th>\n",
       "      <th>Midwest</th>\n",
       "      <th>Northeast</th>\n",
       "      <th>South</th>\n",
       "      <th>West</th>\n",
       "    </tr>\n",
       "    <tr>\n",
       "      <th>fam_status</th>\n",
       "      <th></th>\n",
       "      <th></th>\n",
       "      <th></th>\n",
       "      <th></th>\n",
       "    </tr>\n",
       "  </thead>\n",
       "  <tbody>\n",
       "    <tr>\n",
       "      <th>divorced/widowed</th>\n",
       "      <td>9.804973</td>\n",
       "      <td>12.851195</td>\n",
       "      <td>12.003735</td>\n",
       "      <td>11.565379</td>\n",
       "    </tr>\n",
       "    <tr>\n",
       "      <th>living with parents and siblings</th>\n",
       "      <td>9.257650</td>\n",
       "      <td>8.841267</td>\n",
       "      <td>12.633912</td>\n",
       "      <td>11.482081</td>\n",
       "    </tr>\n",
       "    <tr>\n",
       "      <th>married</th>\n",
       "      <td>12.731324</td>\n",
       "      <td>11.676476</td>\n",
       "      <td>11.876867</td>\n",
       "      <td>11.499306</td>\n",
       "    </tr>\n",
       "    <tr>\n",
       "      <th>single</th>\n",
       "      <td>14.943916</td>\n",
       "      <td>11.028920</td>\n",
       "      <td>13.050801</td>\n",
       "      <td>10.120304</td>\n",
       "    </tr>\n",
       "  </tbody>\n",
       "</table>\n",
       "</div>"
      ],
      "text/plain": [
       "region                              Midwest  Northeast      South       West\n",
       "fam_status                                                                  \n",
       "divorced/widowed                   9.804973  12.851195  12.003735  11.565379\n",
       "living with parents and siblings   9.257650   8.841267  12.633912  11.482081\n",
       "married                           12.731324  11.676476  11.876867  11.499306\n",
       "single                            14.943916  11.028920  13.050801  10.120304"
      ]
     },
     "execution_count": 47,
     "metadata": {},
     "output_type": "execute_result"
    }
   ],
   "source": [
    "crosstab2 = pd.pivot_table(\n",
    "    ords_prods_complete,\n",
    "    values='avg_price', \n",
    "    index='fam_status', \n",
    "    columns='region', \n",
    "    aggfunc='mean'\n",
    ")\n",
    "\n",
    "crosstab2"
   ]
  },
  {
   "cell_type": "code",
   "execution_count": 48,
   "id": "12456229-1d34-4e07-b240-71ac66e4bbfe",
   "metadata": {},
   "outputs": [
    {
     "data": {
      "image/png": "[encoded data removed]",
      "text/plain": [
       "<Figure size 1000x600 with 2 Axes>"
      ]
     },
     "metadata": {},
     "output_type": "display_data"
    }
   ],
   "source": [
    "# Create a heatmap from the pivot table\n",
    "plt.figure(figsize=(10, 6))\n",
    "heat_fam_region_price = sns.heatmap(crosstab2, annot=True, fmt='.2f', cmap='coolwarm', linewidths=0.5, cbar_kws={'label': 'Average Price'})\n",
    "\n",
    "# Customize the plot\n",
    "plt.title('Average Prices by Family Status and Region')\n",
    "plt.xlabel('Region')\n",
    "plt.ylabel('Family Status')\n",
    "\n",
    "# Display the heatmap\n",
    "plt.show()"
   ]
  },
  {
   "cell_type": "code",
   "execution_count": 49,
   "id": "4fefc700-296f-4857-b3fd-3e6b193eaece",
   "metadata": {},
   "outputs": [],
   "source": [
    "#exporting heat_fam_region_price\n",
    "heat_fam_region_price.figure.savefig(os.path.join(path, '04 Analysis','Visualizations', 'final_heat_fam_region_price.png'))"
   ]
  },
  {
   "cell_type": "markdown",
   "id": "15db2b7f-e333-43b6-8500-236f558296a1",
   "metadata": {},
   "source": [
    "### 03 "
   ]
  },
  {
   "cell_type": "code",
   "execution_count": 155,
   "id": "6e4f9062-ce78-49e1-9746-c97ea38b5dce",
   "metadata": {},
   "outputs": [
    {
     "data": {
      "text/html": [
       "<div>\n",
       "<style scoped>\n",
       "    .dataframe tbody tr th:only-of-type {\n",
       "        vertical-align: middle;\n",
       "    }\n",
       "\n",
       "    .dataframe tbody tr th {\n",
       "        vertical-align: top;\n",
       "    }\n",
       "\n",
       "    .dataframe thead th {\n",
       "        text-align: right;\n",
       "    }\n",
       "</style>\n",
       "<table border=\"1\" class=\"dataframe\">\n",
       "  <thead>\n",
       "    <tr style=\"text-align: right;\">\n",
       "      <th>region</th>\n",
       "      <th>Midwest</th>\n",
       "      <th>Northeast</th>\n",
       "      <th>South</th>\n",
       "      <th>West</th>\n",
       "    </tr>\n",
       "    <tr>\n",
       "      <th>income_flag</th>\n",
       "      <th></th>\n",
       "      <th></th>\n",
       "      <th></th>\n",
       "      <th></th>\n",
       "    </tr>\n",
       "  </thead>\n",
       "  <tbody>\n",
       "    <tr>\n",
       "      <th>Lower class</th>\n",
       "      <td>7.099702</td>\n",
       "      <td>7.075869</td>\n",
       "      <td>7.090404</td>\n",
       "      <td>7.095138</td>\n",
       "    </tr>\n",
       "    <tr>\n",
       "      <th>Middle class</th>\n",
       "      <td>9.695054</td>\n",
       "      <td>9.454283</td>\n",
       "      <td>9.625807</td>\n",
       "      <td>9.058811</td>\n",
       "    </tr>\n",
       "    <tr>\n",
       "      <th>Upper class</th>\n",
       "      <td>37.127535</td>\n",
       "      <td>29.872730</td>\n",
       "      <td>33.408504</td>\n",
       "      <td>29.341821</td>\n",
       "    </tr>\n",
       "  </tbody>\n",
       "</table>\n",
       "</div>"
      ],
      "text/plain": [
       "region          Midwest  Northeast      South       West\n",
       "income_flag                                             \n",
       "Lower class    7.099702   7.075869   7.090404   7.095138\n",
       "Middle class   9.695054   9.454283   9.625807   9.058811\n",
       "Upper class   37.127535  29.872730  33.408504  29.341821"
      ]
     },
     "execution_count": 155,
     "metadata": {},
     "output_type": "execute_result"
    }
   ],
   "source": [
    "crosstab3 = pd.pivot_table(\n",
    "    ords_prods_complete,\n",
    "    values='avg_price', \n",
    "    index='income_flag', \n",
    "    columns='region', \n",
    "    aggfunc='mean'\n",
    ")\n",
    "\n",
    "crosstab3"
   ]
  },
  {
   "cell_type": "code",
   "execution_count": 168,
   "id": "08a2080d-14fb-4fa5-83b6-d676a73a670c",
   "metadata": {},
   "outputs": [
    {
     "data": {
      "image/png": "[encoded data removed]",
      "text/plain": [
       "<Figure size 1000x600 with 2 Axes>"
      ]
     },
     "metadata": {},
     "output_type": "display_data"
    }
   ],
   "source": [
    "# Create a heatmap from the pivot table\n",
    "plt.figure(figsize=(10, 6))\n",
    "heat_income_region_price = sns.heatmap(crosstab3, annot=True, fmt='.2f', cmap='coolwarm', linewidths=0.5, cbar_kws={'label': 'Average Price'})\n",
    "\n",
    "# Customize the plot\n",
    "plt.title('Average Prices by Income and Region')\n",
    "plt.xlabel('Region')\n",
    "plt.ylabel('Income')\n",
    "\n",
    "# Display the heatmap\n",
    "plt.show()"
   ]
  },
  {
   "cell_type": "code",
   "execution_count": 159,
   "id": "85547420-f3ba-493c-ba01-65ba475ac89e",
   "metadata": {},
   "outputs": [],
   "source": [
    "#exporting heat_fam_region_price\n",
    "heat_income_region_price.figure.savefig(os.path.join(path, '04 Analysis','Visualizations', 'final_heat_income_region_price.png'))"
   ]
  },
  {
   "cell_type": "markdown",
   "id": "65fda220-1aea-4dc5-a0d9-0588ab74ab10",
   "metadata": {},
   "source": [
    "### 04"
   ]
  },
  {
   "cell_type": "code",
   "execution_count": 162,
   "id": "e85fc9ed-1188-4cc7-92a7-8e915dda0c8e",
   "metadata": {},
   "outputs": [
    {
     "data": {
      "text/html": [
       "<div>\n",
       "<style scoped>\n",
       "    .dataframe tbody tr th:only-of-type {\n",
       "        vertical-align: middle;\n",
       "    }\n",
       "\n",
       "    .dataframe tbody tr th {\n",
       "        vertical-align: top;\n",
       "    }\n",
       "\n",
       "    .dataframe thead th {\n",
       "        text-align: right;\n",
       "    }\n",
       "</style>\n",
       "<table border=\"1\" class=\"dataframe\">\n",
       "  <thead>\n",
       "    <tr style=\"text-align: right;\">\n",
       "      <th>region</th>\n",
       "      <th>Midwest</th>\n",
       "      <th>Northeast</th>\n",
       "      <th>South</th>\n",
       "      <th>West</th>\n",
       "    </tr>\n",
       "    <tr>\n",
       "      <th>dependant_flag</th>\n",
       "      <th></th>\n",
       "      <th></th>\n",
       "      <th></th>\n",
       "      <th></th>\n",
       "    </tr>\n",
       "  </thead>\n",
       "  <tbody>\n",
       "    <tr>\n",
       "      <th>Has dependant(s)</th>\n",
       "      <td>12.506864</td>\n",
       "      <td>11.499591</td>\n",
       "      <td>11.926375</td>\n",
       "      <td>11.498240</td>\n",
       "    </tr>\n",
       "    <tr>\n",
       "      <th>No dependants</th>\n",
       "      <td>13.203891</td>\n",
       "      <td>11.673037</td>\n",
       "      <td>12.695019</td>\n",
       "      <td>10.610637</td>\n",
       "    </tr>\n",
       "  </tbody>\n",
       "</table>\n",
       "</div>"
      ],
      "text/plain": [
       "region              Midwest  Northeast      South       West\n",
       "dependant_flag                                              \n",
       "Has dependant(s)  12.506864  11.499591  11.926375  11.498240\n",
       "No dependants     13.203891  11.673037  12.695019  10.610637"
      ]
     },
     "execution_count": 162,
     "metadata": {},
     "output_type": "execute_result"
    }
   ],
   "source": [
    "crosstab4 = pd.pivot_table(\n",
    "    ords_prods_complete,\n",
    "    values='avg_price', \n",
    "    index='dependant_flag', \n",
    "    columns='region', \n",
    "    aggfunc='mean'\n",
    ")\n",
    "\n",
    "crosstab4"
   ]
  },
  {
   "cell_type": "code",
   "execution_count": 170,
   "id": "54aad901-ad03-4a8c-83e0-66c7b0bcbc9b",
   "metadata": {},
   "outputs": [
    {
     "data": {
      "image/png": "[encoded data removed]",
      "text/plain": [
       "<Figure size 1000x600 with 2 Axes>"
      ]
     },
     "metadata": {},
     "output_type": "display_data"
    }
   ],
   "source": [
    "# Create a heatmap from the pivot table\n",
    "plt.figure(figsize=(10, 6))\n",
    "heat_dep_region_price = sns.heatmap(crosstab4, annot=True, fmt='.2f', cmap='coolwarm', linewidths=0.5, cbar_kws={'label': 'Average Price'})\n",
    "\n",
    "# Customize the plot\n",
    "plt.title('Average Prices by Dependant Status and Region')\n",
    "plt.xlabel('Region')\n",
    "plt.ylabel('Dependant Status')\n",
    "\n",
    "# Display the heatmap\n",
    "plt.show()"
   ]
  },
  {
   "cell_type": "code",
   "execution_count": null,
   "id": "48cdda36-332b-4f0f-acea-c8939ecc4703",
   "metadata": {},
   "outputs": [],
   "source": [
    "#exporting heat_fam_region_price\n",
    "heat_dep_region_price.figure.savefig(os.path.join(path, '04 Analysis','Visualizations', 'final_heat_dep_region_price.png'))"
   ]
  },
  {
   "cell_type": "markdown",
   "id": "e7c5ab1d-b06a-4cb9-a096-c9c4345fc263",
   "metadata": {},
   "source": [
    "## 06 Creating Pie Chart"
   ]
  },
  {
   "cell_type": "markdown",
   "id": "37c63c87-582e-4de7-86a3-2afb9d6c76ea",
   "metadata": {},
   "source": [
    "### 01 Loyalty Pie Chart"
   ]
  },
  {
   "cell_type": "code",
   "execution_count": 56,
   "id": "a26d0950-1f51-4151-a0fe-8ccc156836ec",
   "metadata": {},
   "outputs": [
    {
     "data": {
      "text/plain": [
       "loyalty_flag\n",
       "Regular customer    15876776\n",
       "Loyal customer      10284093\n",
       "New customer         4803695\n",
       "Name: count, dtype: int64"
      ]
     },
     "execution_count": 56,
     "metadata": {},
     "output_type": "execute_result"
    }
   ],
   "source": [
    "#checking value counts of loyalty_flag\n",
    "loyalty_values = ords_prods_complete['loyalty_flag'].value_counts(dropna = False)\n",
    "loyalty_values"
   ]
  },
  {
   "cell_type": "code",
   "execution_count": 57,
   "id": "de1b27be-128f-4790-9fcb-937c99429aad",
   "metadata": {},
   "outputs": [
    {
     "data": {
      "image/png": "[encoded data removed]",
      "text/plain": [
       "<Figure size 600x600 with 1 Axes>"
      ]
     },
     "metadata": {},
     "output_type": "display_data"
    }
   ],
   "source": [
    "#the follow code has been generated using ChatGPT\n",
    "#creating a pie chart to show the distribution of dependant_flag values\n",
    "plt.figure(figsize=(6,6))\n",
    "pie_loyalty = loyalty_values.plot.pie(autopct='%1.1f%%', startangle=90, cmap='Set3')\n",
    "plt.title('Distribution of Customer Loyalty')\n",
    "plt.ylabel('')  # Hide the y-label\n",
    "plt.show()"
   ]
  },
  {
   "cell_type": "code",
   "execution_count": 58,
   "id": "1ab0657e-eb22-48fc-b695-a6bdd35aff1a",
   "metadata": {},
   "outputs": [],
   "source": [
    "#exporting pie_loyalty\n",
    "pie_loyalty.figure.savefig(os.path.join(path, '04 Analysis','Visualizations', 'final_pie_loyalty.png'))"
   ]
  },
  {
   "cell_type": "markdown",
   "id": "76b015d2-afff-4ded-a7d7-ba16b5b5fa6b",
   "metadata": {},
   "source": [
    "## 07 Creating Crosstabs"
   ]
  },
  {
   "cell_type": "code",
   "execution_count": 60,
   "id": "77bc0e15-344c-491d-9aea-c05cc30eb8e6",
   "metadata": {},
   "outputs": [
    {
     "data": {
      "text/html": [
       "<div>\n",
       "<style scoped>\n",
       "    .dataframe tbody tr th:only-of-type {\n",
       "        vertical-align: middle;\n",
       "    }\n",
       "\n",
       "    .dataframe tbody tr th {\n",
       "        vertical-align: top;\n",
       "    }\n",
       "\n",
       "    .dataframe thead th {\n",
       "        text-align: right;\n",
       "    }\n",
       "</style>\n",
       "<table border=\"1\" class=\"dataframe\">\n",
       "  <thead>\n",
       "    <tr style=\"text-align: right;\">\n",
       "      <th>generation_flag</th>\n",
       "      <th>Baby Boomer</th>\n",
       "      <th>Generation X</th>\n",
       "      <th>Generation Y</th>\n",
       "      <th>Generation Z</th>\n",
       "      <th>Silent Generation</th>\n",
       "    </tr>\n",
       "    <tr>\n",
       "      <th>region</th>\n",
       "      <th></th>\n",
       "      <th></th>\n",
       "      <th></th>\n",
       "      <th></th>\n",
       "      <th></th>\n",
       "    </tr>\n",
       "  </thead>\n",
       "  <tbody>\n",
       "    <tr>\n",
       "      <th>Midwest</th>\n",
       "      <td>1661003</td>\n",
       "      <td>1858631</td>\n",
       "      <td>1813921</td>\n",
       "      <td>1133518</td>\n",
       "      <td>794440</td>\n",
       "    </tr>\n",
       "    <tr>\n",
       "      <th>Northeast</th>\n",
       "      <td>1269255</td>\n",
       "      <td>1388217</td>\n",
       "      <td>1338846</td>\n",
       "      <td>853393</td>\n",
       "      <td>614974</td>\n",
       "    </tr>\n",
       "    <tr>\n",
       "      <th>South</th>\n",
       "      <td>2387045</td>\n",
       "      <td>2538123</td>\n",
       "      <td>2602851</td>\n",
       "      <td>1648744</td>\n",
       "      <td>1134376</td>\n",
       "    </tr>\n",
       "    <tr>\n",
       "      <th>West</th>\n",
       "      <td>1844572</td>\n",
       "      <td>2020577</td>\n",
       "      <td>1973413</td>\n",
       "      <td>1219826</td>\n",
       "      <td>868839</td>\n",
       "    </tr>\n",
       "  </tbody>\n",
       "</table>\n",
       "</div>"
      ],
      "text/plain": [
       "generation_flag  Baby Boomer  Generation X  Generation Y  Generation Z  \\\n",
       "region                                                                   \n",
       "Midwest              1661003       1858631       1813921       1133518   \n",
       "Northeast            1269255       1388217       1338846        853393   \n",
       "South                2387045       2538123       2602851       1648744   \n",
       "West                 1844572       2020577       1973413       1219826   \n",
       "\n",
       "generation_flag  Silent Generation  \n",
       "region                              \n",
       "Midwest                     794440  \n",
       "Northeast                   614974  \n",
       "South                      1134376  \n",
       "West                        868839  "
      ]
     },
     "execution_count": 60,
     "metadata": {},
     "output_type": "execute_result"
    }
   ],
   "source": [
    "#creating crosstab for region and generation\n",
    "cross_region_gen = pd.crosstab(ords_prods_complete['region'], ords_prods_complete['generation_flag'], dropna = False)\n",
    "cross_region_gen.to_clipboard()\n",
    "cross_region_gen"
   ]
  },
  {
   "cell_type": "code",
   "execution_count": 61,
   "id": "8197c5a9-ea6f-466e-ae6d-c7234ab73752",
   "metadata": {},
   "outputs": [
    {
     "data": {
      "text/html": [
       "<div>\n",
       "<style scoped>\n",
       "    .dataframe tbody tr th:only-of-type {\n",
       "        vertical-align: middle;\n",
       "    }\n",
       "\n",
       "    .dataframe tbody tr th {\n",
       "        vertical-align: top;\n",
       "    }\n",
       "\n",
       "    .dataframe thead th {\n",
       "        text-align: right;\n",
       "    }\n",
       "</style>\n",
       "<table border=\"1\" class=\"dataframe\">\n",
       "  <thead>\n",
       "    <tr style=\"text-align: right;\">\n",
       "      <th>income_flag</th>\n",
       "      <th>Lower class</th>\n",
       "      <th>Middle class</th>\n",
       "      <th>Upper class</th>\n",
       "    </tr>\n",
       "    <tr>\n",
       "      <th>region</th>\n",
       "      <th></th>\n",
       "      <th></th>\n",
       "      <th></th>\n",
       "    </tr>\n",
       "  </thead>\n",
       "  <tbody>\n",
       "    <tr>\n",
       "      <th>Midwest</th>\n",
       "      <td>1341096</td>\n",
       "      <td>5002922</td>\n",
       "      <td>917495</td>\n",
       "    </tr>\n",
       "    <tr>\n",
       "      <th>Northeast</th>\n",
       "      <td>1020134</td>\n",
       "      <td>3766821</td>\n",
       "      <td>677730</td>\n",
       "    </tr>\n",
       "    <tr>\n",
       "      <th>South</th>\n",
       "      <td>1965984</td>\n",
       "      <td>7054695</td>\n",
       "      <td>1290460</td>\n",
       "    </tr>\n",
       "    <tr>\n",
       "      <th>West</th>\n",
       "      <td>1475536</td>\n",
       "      <td>5442101</td>\n",
       "      <td>1009590</td>\n",
       "    </tr>\n",
       "  </tbody>\n",
       "</table>\n",
       "</div>"
      ],
      "text/plain": [
       "income_flag  Lower class  Middle class  Upper class\n",
       "region                                             \n",
       "Midwest          1341096       5002922       917495\n",
       "Northeast        1020134       3766821       677730\n",
       "South            1965984       7054695      1290460\n",
       "West             1475536       5442101      1009590"
      ]
     },
     "execution_count": 61,
     "metadata": {},
     "output_type": "execute_result"
    }
   ],
   "source": [
    "#creating crosstab for region and income\n",
    "cross_region_income = pd.crosstab(ords_prods_complete['region'], ords_prods_complete['income_flag'], dropna = False)\n",
    "cross_region_income.to_clipboard()\n",
    "cross_region_income"
   ]
  },
  {
   "cell_type": "code",
   "execution_count": 62,
   "id": "8fd624fa-e61f-4b77-b032-b75d0208e7a4",
   "metadata": {},
   "outputs": [
    {
     "data": {
      "text/html": [
       "<div>\n",
       "<style scoped>\n",
       "    .dataframe tbody tr th:only-of-type {\n",
       "        vertical-align: middle;\n",
       "    }\n",
       "\n",
       "    .dataframe tbody tr th {\n",
       "        vertical-align: top;\n",
       "    }\n",
       "\n",
       "    .dataframe thead th {\n",
       "        text-align: right;\n",
       "    }\n",
       "</style>\n",
       "<table border=\"1\" class=\"dataframe\">\n",
       "  <thead>\n",
       "    <tr style=\"text-align: right;\">\n",
       "      <th>dependant_flag</th>\n",
       "      <th>Has dependant(s)</th>\n",
       "      <th>No dependants</th>\n",
       "    </tr>\n",
       "    <tr>\n",
       "      <th>region</th>\n",
       "      <th></th>\n",
       "      <th></th>\n",
       "    </tr>\n",
       "  </thead>\n",
       "  <tbody>\n",
       "    <tr>\n",
       "      <th>Midwest</th>\n",
       "      <td>5438697</td>\n",
       "      <td>1822816</td>\n",
       "    </tr>\n",
       "    <tr>\n",
       "      <th>Northeast</th>\n",
       "      <td>4110203</td>\n",
       "      <td>1354482</td>\n",
       "    </tr>\n",
       "    <tr>\n",
       "      <th>South</th>\n",
       "      <td>7729206</td>\n",
       "      <td>2581933</td>\n",
       "    </tr>\n",
       "    <tr>\n",
       "      <th>West</th>\n",
       "      <td>5946777</td>\n",
       "      <td>1980450</td>\n",
       "    </tr>\n",
       "  </tbody>\n",
       "</table>\n",
       "</div>"
      ],
      "text/plain": [
       "dependant_flag  Has dependant(s)  No dependants\n",
       "region                                         \n",
       "Midwest                  5438697        1822816\n",
       "Northeast                4110203        1354482\n",
       "South                    7729206        2581933\n",
       "West                     5946777        1980450"
      ]
     },
     "execution_count": 62,
     "metadata": {},
     "output_type": "execute_result"
    }
   ],
   "source": [
    "#creating crosstab for region and dependant_flag\n",
    "cross_region_dependant = pd.crosstab(ords_prods_complete['region'], ords_prods_complete['dependant_flag'], dropna = False)\n",
    "cross_region_dependant.to_clipboard()\n",
    "cross_region_dependant"
   ]
  },
  {
   "cell_type": "code",
   "execution_count": 63,
   "id": "40b31779-2c4e-427d-ab50-c3f46bc8a7ef",
   "metadata": {},
   "outputs": [
    {
     "data": {
      "text/html": [
       "<div>\n",
       "<style scoped>\n",
       "    .dataframe tbody tr th:only-of-type {\n",
       "        vertical-align: middle;\n",
       "    }\n",
       "\n",
       "    .dataframe tbody tr th {\n",
       "        vertical-align: top;\n",
       "    }\n",
       "\n",
       "    .dataframe thead th {\n",
       "        text-align: right;\n",
       "    }\n",
       "</style>\n",
       "<table border=\"1\" class=\"dataframe\">\n",
       "  <thead>\n",
       "    <tr style=\"text-align: right;\">\n",
       "      <th>region</th>\n",
       "      <th>Midwest</th>\n",
       "      <th>Northeast</th>\n",
       "      <th>South</th>\n",
       "      <th>West</th>\n",
       "    </tr>\n",
       "    <tr>\n",
       "      <th>generation_flag</th>\n",
       "      <th></th>\n",
       "      <th></th>\n",
       "      <th></th>\n",
       "      <th></th>\n",
       "    </tr>\n",
       "  </thead>\n",
       "  <tbody>\n",
       "    <tr>\n",
       "      <th>Baby Boomer</th>\n",
       "      <td>11.222433</td>\n",
       "      <td>12.259873</td>\n",
       "      <td>11.690037</td>\n",
       "      <td>10.840792</td>\n",
       "    </tr>\n",
       "    <tr>\n",
       "      <th>Generation X</th>\n",
       "      <td>12.457158</td>\n",
       "      <td>12.364356</td>\n",
       "      <td>12.124231</td>\n",
       "      <td>11.750357</td>\n",
       "    </tr>\n",
       "    <tr>\n",
       "      <th>Generation Y</th>\n",
       "      <td>13.274116</td>\n",
       "      <td>10.901750</td>\n",
       "      <td>12.511620</td>\n",
       "      <td>10.540500</td>\n",
       "    </tr>\n",
       "    <tr>\n",
       "      <th>Generation Z</th>\n",
       "      <td>14.536742</td>\n",
       "      <td>10.623932</td>\n",
       "      <td>11.641394</td>\n",
       "      <td>11.415359</td>\n",
       "    </tr>\n",
       "    <tr>\n",
       "      <th>Silent Generation</th>\n",
       "      <td>12.259826</td>\n",
       "      <td>10.877056</td>\n",
       "      <td>12.801840</td>\n",
       "      <td>12.576174</td>\n",
       "    </tr>\n",
       "  </tbody>\n",
       "</table>\n",
       "</div>"
      ],
      "text/plain": [
       "region               Midwest  Northeast      South       West\n",
       "generation_flag                                              \n",
       "Baby Boomer        11.222433  12.259873  11.690037  10.840792\n",
       "Generation X       12.457158  12.364356  12.124231  11.750357\n",
       "Generation Y       13.274116  10.901750  12.511620  10.540500\n",
       "Generation Z       14.536742  10.623932  11.641394  11.415359\n",
       "Silent Generation  12.259826  10.877056  12.801840  12.576174"
      ]
     },
     "execution_count": 63,
     "metadata": {},
     "output_type": "execute_result"
    }
   ],
   "source": [
    "#creating crosstab for region, generation, and avg_price\n",
    "cross_region_gen_price = pd.pivot_table(\n",
    "    ords_prods_complete,\n",
    "    values='avg_price', \n",
    "    index='generation_flag', \n",
    "    columns='region', \n",
    "    aggfunc='mean'\n",
    ")\n",
    "\n",
    "cross_region_gen_price.to_clipboard()\n",
    "cross_region_gen_price"
   ]
  },
  {
   "cell_type": "code",
   "execution_count": 64,
   "id": "82d3489c-7c7c-458f-bdd2-db4402bbd613",
   "metadata": {},
   "outputs": [
    {
     "data": {
      "text/html": [
       "<div>\n",
       "<style scoped>\n",
       "    .dataframe tbody tr th:only-of-type {\n",
       "        vertical-align: middle;\n",
       "    }\n",
       "\n",
       "    .dataframe tbody tr th {\n",
       "        vertical-align: top;\n",
       "    }\n",
       "\n",
       "    .dataframe thead th {\n",
       "        text-align: right;\n",
       "    }\n",
       "</style>\n",
       "<table border=\"1\" class=\"dataframe\">\n",
       "  <thead>\n",
       "    <tr style=\"text-align: right;\">\n",
       "      <th>region</th>\n",
       "      <th>Midwest</th>\n",
       "      <th>Northeast</th>\n",
       "      <th>South</th>\n",
       "      <th>West</th>\n",
       "    </tr>\n",
       "    <tr>\n",
       "      <th>income_flag</th>\n",
       "      <th></th>\n",
       "      <th></th>\n",
       "      <th></th>\n",
       "      <th></th>\n",
       "    </tr>\n",
       "  </thead>\n",
       "  <tbody>\n",
       "    <tr>\n",
       "      <th>Lower class</th>\n",
       "      <td>7.099702</td>\n",
       "      <td>7.075869</td>\n",
       "      <td>7.090404</td>\n",
       "      <td>7.095138</td>\n",
       "    </tr>\n",
       "    <tr>\n",
       "      <th>Middle class</th>\n",
       "      <td>9.695054</td>\n",
       "      <td>9.454283</td>\n",
       "      <td>9.625807</td>\n",
       "      <td>9.058811</td>\n",
       "    </tr>\n",
       "    <tr>\n",
       "      <th>Upper class</th>\n",
       "      <td>37.127535</td>\n",
       "      <td>29.872730</td>\n",
       "      <td>33.408504</td>\n",
       "      <td>29.341821</td>\n",
       "    </tr>\n",
       "  </tbody>\n",
       "</table>\n",
       "</div>"
      ],
      "text/plain": [
       "region          Midwest  Northeast      South       West\n",
       "income_flag                                             \n",
       "Lower class    7.099702   7.075869   7.090404   7.095138\n",
       "Middle class   9.695054   9.454283   9.625807   9.058811\n",
       "Upper class   37.127535  29.872730  33.408504  29.341821"
      ]
     },
     "execution_count": 64,
     "metadata": {},
     "output_type": "execute_result"
    }
   ],
   "source": [
    "#creating crosstab for region, income, and avg_price\n",
    "cross_region_income_price = pd.pivot_table(\n",
    "    ords_prods_complete,\n",
    "    values='avg_price', \n",
    "    index='income_flag', \n",
    "    columns='region', \n",
    "    aggfunc='mean'\n",
    ")\n",
    "\n",
    "cross_region_income_price.to_clipboard()\n",
    "cross_region_income_price"
   ]
  },
  {
   "cell_type": "code",
   "execution_count": 65,
   "id": "8e50822e-6b56-4681-a562-995eaf6724f5",
   "metadata": {},
   "outputs": [
    {
     "data": {
      "text/html": [
       "<div>\n",
       "<style scoped>\n",
       "    .dataframe tbody tr th:only-of-type {\n",
       "        vertical-align: middle;\n",
       "    }\n",
       "\n",
       "    .dataframe tbody tr th {\n",
       "        vertical-align: top;\n",
       "    }\n",
       "\n",
       "    .dataframe thead th {\n",
       "        text-align: right;\n",
       "    }\n",
       "</style>\n",
       "<table border=\"1\" class=\"dataframe\">\n",
       "  <thead>\n",
       "    <tr style=\"text-align: right;\">\n",
       "      <th>region</th>\n",
       "      <th>Midwest</th>\n",
       "      <th>Northeast</th>\n",
       "      <th>South</th>\n",
       "      <th>West</th>\n",
       "    </tr>\n",
       "    <tr>\n",
       "      <th>dependant_flag</th>\n",
       "      <th></th>\n",
       "      <th></th>\n",
       "      <th></th>\n",
       "      <th></th>\n",
       "    </tr>\n",
       "  </thead>\n",
       "  <tbody>\n",
       "    <tr>\n",
       "      <th>Has dependant(s)</th>\n",
       "      <td>12.506864</td>\n",
       "      <td>11.499591</td>\n",
       "      <td>11.926375</td>\n",
       "      <td>11.498240</td>\n",
       "    </tr>\n",
       "    <tr>\n",
       "      <th>No dependants</th>\n",
       "      <td>13.203891</td>\n",
       "      <td>11.673037</td>\n",
       "      <td>12.695019</td>\n",
       "      <td>10.610637</td>\n",
       "    </tr>\n",
       "  </tbody>\n",
       "</table>\n",
       "</div>"
      ],
      "text/plain": [
       "region              Midwest  Northeast      South       West\n",
       "dependant_flag                                              \n",
       "Has dependant(s)  12.506864  11.499591  11.926375  11.498240\n",
       "No dependants     13.203891  11.673037  12.695019  10.610637"
      ]
     },
     "execution_count": 65,
     "metadata": {},
     "output_type": "execute_result"
    }
   ],
   "source": [
    "#creating crosstab for region, dependant_flag, and avg_price\n",
    "cross_region_dependant_price = pd.pivot_table(\n",
    "    ords_prods_complete,\n",
    "    values='avg_price', \n",
    "    index='dependant_flag', \n",
    "    columns='region', \n",
    "    aggfunc='mean'\n",
    ")\n",
    "\n",
    "cross_region_dependant_price.to_clipboard()\n",
    "cross_region_dependant_price"
   ]
  },
  {
   "cell_type": "code",
   "execution_count": 66,
   "id": "1a588f2c-a91b-4671-b811-c142e7fddf1f",
   "metadata": {},
   "outputs": [
    {
     "data": {
      "text/html": [
       "<div>\n",
       "<style scoped>\n",
       "    .dataframe tbody tr th:only-of-type {\n",
       "        vertical-align: middle;\n",
       "    }\n",
       "\n",
       "    .dataframe tbody tr th {\n",
       "        vertical-align: top;\n",
       "    }\n",
       "\n",
       "    .dataframe thead th {\n",
       "        text-align: right;\n",
       "    }\n",
       "</style>\n",
       "<table border=\"1\" class=\"dataframe\">\n",
       "  <thead>\n",
       "    <tr style=\"text-align: right;\">\n",
       "      <th>region</th>\n",
       "      <th>Midwest</th>\n",
       "      <th>Northeast</th>\n",
       "      <th>South</th>\n",
       "      <th>West</th>\n",
       "    </tr>\n",
       "    <tr>\n",
       "      <th>generation_flag</th>\n",
       "      <th></th>\n",
       "      <th></th>\n",
       "      <th></th>\n",
       "      <th></th>\n",
       "    </tr>\n",
       "  </thead>\n",
       "  <tbody>\n",
       "    <tr>\n",
       "      <th>Baby Boomer</th>\n",
       "      <td>10.107818</td>\n",
       "      <td>9.923410</td>\n",
       "      <td>9.959871</td>\n",
       "      <td>9.833687</td>\n",
       "    </tr>\n",
       "    <tr>\n",
       "      <th>Generation X</th>\n",
       "      <td>9.989127</td>\n",
       "      <td>9.983373</td>\n",
       "      <td>10.029279</td>\n",
       "      <td>9.940938</td>\n",
       "    </tr>\n",
       "    <tr>\n",
       "      <th>Generation Y</th>\n",
       "      <td>9.966654</td>\n",
       "      <td>10.112045</td>\n",
       "      <td>9.914177</td>\n",
       "      <td>9.863997</td>\n",
       "    </tr>\n",
       "    <tr>\n",
       "      <th>Generation Z</th>\n",
       "      <td>9.986499</td>\n",
       "      <td>9.722220</td>\n",
       "      <td>9.934591</td>\n",
       "      <td>10.034761</td>\n",
       "    </tr>\n",
       "    <tr>\n",
       "      <th>Silent Generation</th>\n",
       "      <td>10.077597</td>\n",
       "      <td>9.670559</td>\n",
       "      <td>9.909474</td>\n",
       "      <td>10.052429</td>\n",
       "    </tr>\n",
       "  </tbody>\n",
       "</table>\n",
       "</div>"
      ],
      "text/plain": [
       "region               Midwest  Northeast      South       West\n",
       "generation_flag                                              \n",
       "Baby Boomer        10.107818   9.923410   9.959871   9.833687\n",
       "Generation X        9.989127   9.983373  10.029279   9.940938\n",
       "Generation Y        9.966654  10.112045   9.914177   9.863997\n",
       "Generation Z        9.986499   9.722220   9.934591  10.034761\n",
       "Silent Generation  10.077597   9.670559   9.909474  10.052429"
      ]
     },
     "execution_count": 66,
     "metadata": {},
     "output_type": "execute_result"
    }
   ],
   "source": [
    "#creating crosstab for region, generation, and days_since_prior_order_median\n",
    "cross_region_gen_days = pd.pivot_table(\n",
    "    ords_prods_complete,\n",
    "    values='days_since_prior_order_median', \n",
    "    index='generation_flag', \n",
    "    columns='region', \n",
    "    aggfunc='mean'\n",
    ")\n",
    "\n",
    "cross_region_gen_days.to_clipboard()\n",
    "cross_region_gen_days"
   ]
  },
  {
   "cell_type": "code",
   "execution_count": 67,
   "id": "6a464def-0d74-43a6-b1c5-72945d85cea0",
   "metadata": {},
   "outputs": [
    {
     "data": {
      "text/html": [
       "<div>\n",
       "<style scoped>\n",
       "    .dataframe tbody tr th:only-of-type {\n",
       "        vertical-align: middle;\n",
       "    }\n",
       "\n",
       "    .dataframe tbody tr th {\n",
       "        vertical-align: top;\n",
       "    }\n",
       "\n",
       "    .dataframe thead th {\n",
       "        text-align: right;\n",
       "    }\n",
       "</style>\n",
       "<table border=\"1\" class=\"dataframe\">\n",
       "  <thead>\n",
       "    <tr style=\"text-align: right;\">\n",
       "      <th>region</th>\n",
       "      <th>Midwest</th>\n",
       "      <th>Northeast</th>\n",
       "      <th>South</th>\n",
       "      <th>West</th>\n",
       "    </tr>\n",
       "    <tr>\n",
       "      <th>income_flag</th>\n",
       "      <th></th>\n",
       "      <th></th>\n",
       "      <th></th>\n",
       "      <th></th>\n",
       "    </tr>\n",
       "  </thead>\n",
       "  <tbody>\n",
       "    <tr>\n",
       "      <th>Lower class</th>\n",
       "      <td>10.417900</td>\n",
       "      <td>10.323792</td>\n",
       "      <td>10.247521</td>\n",
       "      <td>10.351018</td>\n",
       "    </tr>\n",
       "    <tr>\n",
       "      <th>Middle class</th>\n",
       "      <td>9.950967</td>\n",
       "      <td>9.839285</td>\n",
       "      <td>9.911292</td>\n",
       "      <td>9.829843</td>\n",
       "    </tr>\n",
       "    <tr>\n",
       "      <th>Upper class</th>\n",
       "      <td>9.814275</td>\n",
       "      <td>9.801009</td>\n",
       "      <td>9.754964</td>\n",
       "      <td>9.803408</td>\n",
       "    </tr>\n",
       "  </tbody>\n",
       "</table>\n",
       "</div>"
      ],
      "text/plain": [
       "region          Midwest  Northeast      South       West\n",
       "income_flag                                             \n",
       "Lower class   10.417900  10.323792  10.247521  10.351018\n",
       "Middle class   9.950967   9.839285   9.911292   9.829843\n",
       "Upper class    9.814275   9.801009   9.754964   9.803408"
      ]
     },
     "execution_count": 67,
     "metadata": {},
     "output_type": "execute_result"
    }
   ],
   "source": [
    "#creating crosstab for region, dependant_flag, and days_since_prior_order_median\n",
    "cross_region_income_days = pd.pivot_table(\n",
    "    ords_prods_complete,\n",
    "    values='days_since_prior_order_median', \n",
    "    index='income_flag', \n",
    "    columns='region', \n",
    "    aggfunc='mean'\n",
    ")\n",
    "\n",
    "cross_region_income_days.to_clipboard()\n",
    "cross_region_income_days"
   ]
  },
  {
   "cell_type": "code",
   "execution_count": 68,
   "id": "9c8cd80d-0280-4c1a-968c-8f8a745ad649",
   "metadata": {},
   "outputs": [
    {
     "data": {
      "text/html": [
       "<div>\n",
       "<style scoped>\n",
       "    .dataframe tbody tr th:only-of-type {\n",
       "        vertical-align: middle;\n",
       "    }\n",
       "\n",
       "    .dataframe tbody tr th {\n",
       "        vertical-align: top;\n",
       "    }\n",
       "\n",
       "    .dataframe thead th {\n",
       "        text-align: right;\n",
       "    }\n",
       "</style>\n",
       "<table border=\"1\" class=\"dataframe\">\n",
       "  <thead>\n",
       "    <tr style=\"text-align: right;\">\n",
       "      <th>region</th>\n",
       "      <th>Midwest</th>\n",
       "      <th>Northeast</th>\n",
       "      <th>South</th>\n",
       "      <th>West</th>\n",
       "    </tr>\n",
       "    <tr>\n",
       "      <th>dependant_flag</th>\n",
       "      <th></th>\n",
       "      <th></th>\n",
       "      <th></th>\n",
       "      <th></th>\n",
       "    </tr>\n",
       "  </thead>\n",
       "  <tbody>\n",
       "    <tr>\n",
       "      <th>Has dependant(s)</th>\n",
       "      <td>10.062777</td>\n",
       "      <td>9.892387</td>\n",
       "      <td>9.951156</td>\n",
       "      <td>9.939834</td>\n",
       "    </tr>\n",
       "    <tr>\n",
       "      <th>No dependants</th>\n",
       "      <td>9.892094</td>\n",
       "      <td>10.023904</td>\n",
       "      <td>9.969842</td>\n",
       "      <td>9.874395</td>\n",
       "    </tr>\n",
       "  </tbody>\n",
       "</table>\n",
       "</div>"
      ],
      "text/plain": [
       "region              Midwest  Northeast     South      West\n",
       "dependant_flag                                            \n",
       "Has dependant(s)  10.062777   9.892387  9.951156  9.939834\n",
       "No dependants      9.892094  10.023904  9.969842  9.874395"
      ]
     },
     "execution_count": 68,
     "metadata": {},
     "output_type": "execute_result"
    }
   ],
   "source": [
    "#creating crosstab for region, dependant_flag, and days_since_prior_order_median\n",
    "cross_region_dependant_days = pd.pivot_table(\n",
    "    ords_prods_complete,\n",
    "    values='days_since_prior_order_median', \n",
    "    index='dependant_flag', \n",
    "    columns='region', \n",
    "    aggfunc='mean'\n",
    ")\n",
    "\n",
    "cross_region_dependant_days.to_clipboard()\n",
    "cross_region_dependant_days"
   ]
  },
  {
   "cell_type": "code",
   "execution_count": 125,
   "id": "e908747f-d656-40cc-acc8-c5f1769811bc",
   "metadata": {},
   "outputs": [
    {
     "data": {
      "text/html": [
       "<div>\n",
       "<style scoped>\n",
       "    .dataframe tbody tr th:only-of-type {\n",
       "        vertical-align: middle;\n",
       "    }\n",
       "\n",
       "    .dataframe tbody tr th {\n",
       "        vertical-align: top;\n",
       "    }\n",
       "\n",
       "    .dataframe thead th {\n",
       "        text-align: right;\n",
       "    }\n",
       "</style>\n",
       "<table border=\"1\" class=\"dataframe\">\n",
       "  <thead>\n",
       "    <tr style=\"text-align: right;\">\n",
       "      <th>region</th>\n",
       "      <th>Midwest</th>\n",
       "      <th>Northeast</th>\n",
       "      <th>South</th>\n",
       "      <th>West</th>\n",
       "    </tr>\n",
       "    <tr>\n",
       "      <th>department_id</th>\n",
       "      <th></th>\n",
       "      <th></th>\n",
       "      <th></th>\n",
       "      <th></th>\n",
       "    </tr>\n",
       "  </thead>\n",
       "  <tbody>\n",
       "    <tr>\n",
       "      <th>alcohol</th>\n",
       "      <td>34043</td>\n",
       "      <td>25017</td>\n",
       "      <td>48813</td>\n",
       "      <td>36754</td>\n",
       "    </tr>\n",
       "    <tr>\n",
       "      <th>babies</th>\n",
       "      <td>95741</td>\n",
       "      <td>72712</td>\n",
       "      <td>139511</td>\n",
       "      <td>102428</td>\n",
       "    </tr>\n",
       "    <tr>\n",
       "      <th>bakery</th>\n",
       "      <td>261753</td>\n",
       "      <td>199300</td>\n",
       "      <td>371620</td>\n",
       "      <td>288155</td>\n",
       "    </tr>\n",
       "    <tr>\n",
       "      <th>beverages</th>\n",
       "      <td>598979</td>\n",
       "      <td>462929</td>\n",
       "      <td>859419</td>\n",
       "      <td>650574</td>\n",
       "    </tr>\n",
       "    <tr>\n",
       "      <th>breakfast</th>\n",
       "      <td>156155</td>\n",
       "      <td>117904</td>\n",
       "      <td>223172</td>\n",
       "      <td>173619</td>\n",
       "    </tr>\n",
       "    <tr>\n",
       "      <th>bulk</th>\n",
       "      <td>7929</td>\n",
       "      <td>5599</td>\n",
       "      <td>11180</td>\n",
       "      <td>8743</td>\n",
       "    </tr>\n",
       "    <tr>\n",
       "      <th>canned goods</th>\n",
       "      <td>237459</td>\n",
       "      <td>176936</td>\n",
       "      <td>337458</td>\n",
       "      <td>260221</td>\n",
       "    </tr>\n",
       "    <tr>\n",
       "      <th>dairy eggs</th>\n",
       "      <td>1212490</td>\n",
       "      <td>914616</td>\n",
       "      <td>1723016</td>\n",
       "      <td>1327060</td>\n",
       "    </tr>\n",
       "    <tr>\n",
       "      <th>deli</th>\n",
       "      <td>234464</td>\n",
       "      <td>178398</td>\n",
       "      <td>333620</td>\n",
       "      <td>257352</td>\n",
       "    </tr>\n",
       "    <tr>\n",
       "      <th>dry goods pasta</th>\n",
       "      <td>193463</td>\n",
       "      <td>143817</td>\n",
       "      <td>272813</td>\n",
       "      <td>212043</td>\n",
       "    </tr>\n",
       "    <tr>\n",
       "      <th>frozen</th>\n",
       "      <td>498225</td>\n",
       "      <td>370436</td>\n",
       "      <td>709906</td>\n",
       "      <td>543164</td>\n",
       "    </tr>\n",
       "    <tr>\n",
       "      <th>household</th>\n",
       "      <td>166992</td>\n",
       "      <td>124604</td>\n",
       "      <td>230061</td>\n",
       "      <td>178200</td>\n",
       "    </tr>\n",
       "    <tr>\n",
       "      <th>international</th>\n",
       "      <td>60666</td>\n",
       "      <td>44678</td>\n",
       "      <td>84649</td>\n",
       "      <td>65998</td>\n",
       "    </tr>\n",
       "    <tr>\n",
       "      <th>meat seafood</th>\n",
       "      <td>158260</td>\n",
       "      <td>118571</td>\n",
       "      <td>224120</td>\n",
       "      <td>173830</td>\n",
       "    </tr>\n",
       "    <tr>\n",
       "      <th>missing</th>\n",
       "      <td>15563</td>\n",
       "      <td>11512</td>\n",
       "      <td>21787</td>\n",
       "      <td>15906</td>\n",
       "    </tr>\n",
       "    <tr>\n",
       "      <th>other</th>\n",
       "      <td>7983</td>\n",
       "      <td>6268</td>\n",
       "      <td>11579</td>\n",
       "      <td>8581</td>\n",
       "    </tr>\n",
       "    <tr>\n",
       "      <th>pantry</th>\n",
       "      <td>420334</td>\n",
       "      <td>312731</td>\n",
       "      <td>591754</td>\n",
       "      <td>457886</td>\n",
       "    </tr>\n",
       "    <tr>\n",
       "      <th>personal care</th>\n",
       "      <td>100398</td>\n",
       "      <td>74765</td>\n",
       "      <td>142496</td>\n",
       "      <td>106647</td>\n",
       "    </tr>\n",
       "    <tr>\n",
       "      <th>pets</th>\n",
       "      <td>21358</td>\n",
       "      <td>17734</td>\n",
       "      <td>29909</td>\n",
       "      <td>24059</td>\n",
       "    </tr>\n",
       "    <tr>\n",
       "      <th>produce</th>\n",
       "      <td>2134115</td>\n",
       "      <td>1593004</td>\n",
       "      <td>3027476</td>\n",
       "      <td>2324678</td>\n",
       "    </tr>\n",
       "    <tr>\n",
       "      <th>snacks</th>\n",
       "      <td>645143</td>\n",
       "      <td>493154</td>\n",
       "      <td>916780</td>\n",
       "      <td>711329</td>\n",
       "    </tr>\n",
       "  </tbody>\n",
       "</table>\n",
       "</div>"
      ],
      "text/plain": [
       "region           Midwest  Northeast    South     West\n",
       "department_id                                        \n",
       "alcohol            34043      25017    48813    36754\n",
       "babies             95741      72712   139511   102428\n",
       "bakery            261753     199300   371620   288155\n",
       "beverages         598979     462929   859419   650574\n",
       "breakfast         156155     117904   223172   173619\n",
       "bulk                7929       5599    11180     8743\n",
       "canned goods      237459     176936   337458   260221\n",
       "dairy eggs       1212490     914616  1723016  1327060\n",
       "deli              234464     178398   333620   257352\n",
       "dry goods pasta   193463     143817   272813   212043\n",
       "frozen            498225     370436   709906   543164\n",
       "household         166992     124604   230061   178200\n",
       "international      60666      44678    84649    65998\n",
       "meat seafood      158260     118571   224120   173830\n",
       "missing            15563      11512    21787    15906\n",
       "other               7983       6268    11579     8581\n",
       "pantry            420334     312731   591754   457886\n",
       "personal care     100398      74765   142496   106647\n",
       "pets               21358      17734    29909    24059\n",
       "produce          2134115    1593004  3027476  2324678\n",
       "snacks            645143     493154   916780   711329"
      ]
     },
     "execution_count": 125,
     "metadata": {},
     "output_type": "execute_result"
    }
   ],
   "source": [
    "#creating crosstab for region and department_id\n",
    "cross_region_department = pd.pivot_table(\n",
    "    ords_prods_complete,\n",
    "    values='user_id', \n",
    "    index='department_id', \n",
    "    columns='region', \n",
    "    aggfunc='count'\n",
    ")\n",
    "\n",
    "cross_region_department.to_clipboard()\n",
    "cross_region_department"
   ]
  },
  {
   "cell_type": "code",
   "execution_count": 127,
   "id": "7abff8af-d605-4671-8633-08bd5c048dcc",
   "metadata": {},
   "outputs": [
    {
     "data": {
      "text/html": [
       "<div>\n",
       "<style scoped>\n",
       "    .dataframe tbody tr th:only-of-type {\n",
       "        vertical-align: middle;\n",
       "    }\n",
       "\n",
       "    .dataframe tbody tr th {\n",
       "        vertical-align: top;\n",
       "    }\n",
       "\n",
       "    .dataframe thead th {\n",
       "        text-align: right;\n",
       "    }\n",
       "</style>\n",
       "<table border=\"1\" class=\"dataframe\">\n",
       "  <thead>\n",
       "    <tr style=\"text-align: right;\">\n",
       "      <th>generation_flag</th>\n",
       "      <th>Baby Boomer</th>\n",
       "      <th>Generation X</th>\n",
       "      <th>Generation Y</th>\n",
       "      <th>Generation Z</th>\n",
       "      <th>Silent Generation</th>\n",
       "    </tr>\n",
       "    <tr>\n",
       "      <th>department_id</th>\n",
       "      <th></th>\n",
       "      <th></th>\n",
       "      <th></th>\n",
       "      <th></th>\n",
       "      <th></th>\n",
       "    </tr>\n",
       "  </thead>\n",
       "  <tbody>\n",
       "    <tr>\n",
       "      <th>alcohol</th>\n",
       "      <td>32565</td>\n",
       "      <td>37278</td>\n",
       "      <td>35837</td>\n",
       "      <td>23916</td>\n",
       "      <td>15031</td>\n",
       "    </tr>\n",
       "    <tr>\n",
       "      <th>babies</th>\n",
       "      <td>94192</td>\n",
       "      <td>103839</td>\n",
       "      <td>102701</td>\n",
       "      <td>65114</td>\n",
       "      <td>44546</td>\n",
       "    </tr>\n",
       "    <tr>\n",
       "      <th>bakery</th>\n",
       "      <td>258124</td>\n",
       "      <td>283367</td>\n",
       "      <td>279307</td>\n",
       "      <td>175708</td>\n",
       "      <td>124322</td>\n",
       "    </tr>\n",
       "    <tr>\n",
       "      <th>beverages</th>\n",
       "      <td>598545</td>\n",
       "      <td>655781</td>\n",
       "      <td>634390</td>\n",
       "      <td>398061</td>\n",
       "      <td>285124</td>\n",
       "    </tr>\n",
       "    <tr>\n",
       "      <th>breakfast</th>\n",
       "      <td>153810</td>\n",
       "      <td>169965</td>\n",
       "      <td>166266</td>\n",
       "      <td>106868</td>\n",
       "      <td>73941</td>\n",
       "    </tr>\n",
       "    <tr>\n",
       "      <th>bulk</th>\n",
       "      <td>7690</td>\n",
       "      <td>8394</td>\n",
       "      <td>8261</td>\n",
       "      <td>5372</td>\n",
       "      <td>3734</td>\n",
       "    </tr>\n",
       "    <tr>\n",
       "      <th>canned goods</th>\n",
       "      <td>234096</td>\n",
       "      <td>254831</td>\n",
       "      <td>253382</td>\n",
       "      <td>159414</td>\n",
       "      <td>110351</td>\n",
       "    </tr>\n",
       "    <tr>\n",
       "      <th>dairy eggs</th>\n",
       "      <td>1194908</td>\n",
       "      <td>1301144</td>\n",
       "      <td>1297637</td>\n",
       "      <td>815889</td>\n",
       "      <td>567604</td>\n",
       "    </tr>\n",
       "    <tr>\n",
       "      <th>deli</th>\n",
       "      <td>232690</td>\n",
       "      <td>251946</td>\n",
       "      <td>251399</td>\n",
       "      <td>157154</td>\n",
       "      <td>110645</td>\n",
       "    </tr>\n",
       "    <tr>\n",
       "      <th>dry goods pasta</th>\n",
       "      <td>190042</td>\n",
       "      <td>207840</td>\n",
       "      <td>204028</td>\n",
       "      <td>130166</td>\n",
       "      <td>90060</td>\n",
       "    </tr>\n",
       "    <tr>\n",
       "      <th>frozen</th>\n",
       "      <td>492437</td>\n",
       "      <td>536671</td>\n",
       "      <td>524149</td>\n",
       "      <td>331948</td>\n",
       "      <td>236526</td>\n",
       "    </tr>\n",
       "    <tr>\n",
       "      <th>household</th>\n",
       "      <td>163122</td>\n",
       "      <td>176430</td>\n",
       "      <td>174324</td>\n",
       "      <td>108468</td>\n",
       "      <td>77513</td>\n",
       "    </tr>\n",
       "    <tr>\n",
       "      <th>international</th>\n",
       "      <td>58230</td>\n",
       "      <td>64476</td>\n",
       "      <td>64408</td>\n",
       "      <td>40659</td>\n",
       "      <td>28218</td>\n",
       "    </tr>\n",
       "    <tr>\n",
       "      <th>meat seafood</th>\n",
       "      <td>157938</td>\n",
       "      <td>169446</td>\n",
       "      <td>166599</td>\n",
       "      <td>105984</td>\n",
       "      <td>74814</td>\n",
       "    </tr>\n",
       "    <tr>\n",
       "      <th>missing</th>\n",
       "      <td>14737</td>\n",
       "      <td>16474</td>\n",
       "      <td>15998</td>\n",
       "      <td>10509</td>\n",
       "      <td>7050</td>\n",
       "    </tr>\n",
       "    <tr>\n",
       "      <th>other</th>\n",
       "      <td>7846</td>\n",
       "      <td>8669</td>\n",
       "      <td>8530</td>\n",
       "      <td>5608</td>\n",
       "      <td>3758</td>\n",
       "    </tr>\n",
       "    <tr>\n",
       "      <th>pantry</th>\n",
       "      <td>414247</td>\n",
       "      <td>450391</td>\n",
       "      <td>443956</td>\n",
       "      <td>278397</td>\n",
       "      <td>195714</td>\n",
       "    </tr>\n",
       "    <tr>\n",
       "      <th>personal care</th>\n",
       "      <td>97616</td>\n",
       "      <td>109096</td>\n",
       "      <td>105373</td>\n",
       "      <td>66109</td>\n",
       "      <td>46112</td>\n",
       "    </tr>\n",
       "    <tr>\n",
       "      <th>pets</th>\n",
       "      <td>21175</td>\n",
       "      <td>23007</td>\n",
       "      <td>23192</td>\n",
       "      <td>15106</td>\n",
       "      <td>10580</td>\n",
       "    </tr>\n",
       "    <tr>\n",
       "      <th>produce</th>\n",
       "      <td>2104368</td>\n",
       "      <td>2276888</td>\n",
       "      <td>2277349</td>\n",
       "      <td>1420918</td>\n",
       "      <td>999750</td>\n",
       "    </tr>\n",
       "    <tr>\n",
       "      <th>snacks</th>\n",
       "      <td>633497</td>\n",
       "      <td>699615</td>\n",
       "      <td>691945</td>\n",
       "      <td>434113</td>\n",
       "      <td>307236</td>\n",
       "    </tr>\n",
       "  </tbody>\n",
       "</table>\n",
       "</div>"
      ],
      "text/plain": [
       "generation_flag  Baby Boomer  Generation X  Generation Y  Generation Z  \\\n",
       "department_id                                                            \n",
       "alcohol                32565         37278         35837         23916   \n",
       "babies                 94192        103839        102701         65114   \n",
       "bakery                258124        283367        279307        175708   \n",
       "beverages             598545        655781        634390        398061   \n",
       "breakfast             153810        169965        166266        106868   \n",
       "bulk                    7690          8394          8261          5372   \n",
       "canned goods          234096        254831        253382        159414   \n",
       "dairy eggs           1194908       1301144       1297637        815889   \n",
       "deli                  232690        251946        251399        157154   \n",
       "dry goods pasta       190042        207840        204028        130166   \n",
       "frozen                492437        536671        524149        331948   \n",
       "household             163122        176430        174324        108468   \n",
       "international          58230         64476         64408         40659   \n",
       "meat seafood          157938        169446        166599        105984   \n",
       "missing                14737         16474         15998         10509   \n",
       "other                   7846          8669          8530          5608   \n",
       "pantry                414247        450391        443956        278397   \n",
       "personal care          97616        109096        105373         66109   \n",
       "pets                   21175         23007         23192         15106   \n",
       "produce              2104368       2276888       2277349       1420918   \n",
       "snacks                633497        699615        691945        434113   \n",
       "\n",
       "generation_flag  Silent Generation  \n",
       "department_id                       \n",
       "alcohol                      15031  \n",
       "babies                       44546  \n",
       "bakery                      124322  \n",
       "beverages                   285124  \n",
       "breakfast                    73941  \n",
       "bulk                          3734  \n",
       "canned goods                110351  \n",
       "dairy eggs                  567604  \n",
       "deli                        110645  \n",
       "dry goods pasta              90060  \n",
       "frozen                      236526  \n",
       "household                    77513  \n",
       "international                28218  \n",
       "meat seafood                 74814  \n",
       "missing                       7050  \n",
       "other                         3758  \n",
       "pantry                      195714  \n",
       "personal care                46112  \n",
       "pets                         10580  \n",
       "produce                     999750  \n",
       "snacks                      307236  "
      ]
     },
     "execution_count": 127,
     "metadata": {},
     "output_type": "execute_result"
    }
   ],
   "source": [
    "#creating crosstab for generation and department_id\n",
    "cross_gen_department = pd.pivot_table(\n",
    "    ords_prods_complete,\n",
    "    values='user_id', \n",
    "    index='department_id', \n",
    "    columns='generation_flag', \n",
    "    aggfunc='count'\n",
    ")\n",
    "\n",
    "cross_gen_department.to_clipboard()\n",
    "cross_gen_department"
   ]
  },
  {
   "cell_type": "code",
   "execution_count": 133,
   "id": "29a13624-b4e3-4e4b-8319-4b75d9ef82ce",
   "metadata": {},
   "outputs": [
    {
     "data": {
      "text/html": [
       "<div>\n",
       "<style scoped>\n",
       "    .dataframe tbody tr th:only-of-type {\n",
       "        vertical-align: middle;\n",
       "    }\n",
       "\n",
       "    .dataframe tbody tr th {\n",
       "        vertical-align: top;\n",
       "    }\n",
       "\n",
       "    .dataframe thead th {\n",
       "        text-align: right;\n",
       "    }\n",
       "</style>\n",
       "<table border=\"1\" class=\"dataframe\">\n",
       "  <thead>\n",
       "    <tr style=\"text-align: right;\">\n",
       "      <th>income_flag</th>\n",
       "      <th>Lower class</th>\n",
       "      <th>Middle class</th>\n",
       "      <th>Upper class</th>\n",
       "    </tr>\n",
       "    <tr>\n",
       "      <th>department_id</th>\n",
       "      <th></th>\n",
       "      <th></th>\n",
       "      <th></th>\n",
       "    </tr>\n",
       "  </thead>\n",
       "  <tbody>\n",
       "    <tr>\n",
       "      <th>alcohol</th>\n",
       "      <td>28592</td>\n",
       "      <td>91968</td>\n",
       "      <td>24067</td>\n",
       "    </tr>\n",
       "    <tr>\n",
       "      <th>babies</th>\n",
       "      <td>57246</td>\n",
       "      <td>300145</td>\n",
       "      <td>53001</td>\n",
       "    </tr>\n",
       "    <tr>\n",
       "      <th>bakery</th>\n",
       "      <td>192127</td>\n",
       "      <td>780257</td>\n",
       "      <td>148444</td>\n",
       "    </tr>\n",
       "    <tr>\n",
       "      <th>beverages</th>\n",
       "      <td>594583</td>\n",
       "      <td>1663939</td>\n",
       "      <td>313379</td>\n",
       "    </tr>\n",
       "    <tr>\n",
       "      <th>breakfast</th>\n",
       "      <td>146969</td>\n",
       "      <td>440459</td>\n",
       "      <td>83422</td>\n",
       "    </tr>\n",
       "    <tr>\n",
       "      <th>bulk</th>\n",
       "      <td>7300</td>\n",
       "      <td>22480</td>\n",
       "      <td>3671</td>\n",
       "    </tr>\n",
       "    <tr>\n",
       "      <th>canned goods</th>\n",
       "      <td>156173</td>\n",
       "      <td>723487</td>\n",
       "      <td>132414</td>\n",
       "    </tr>\n",
       "    <tr>\n",
       "      <th>dairy eggs</th>\n",
       "      <td>902958</td>\n",
       "      <td>3614975</td>\n",
       "      <td>659249</td>\n",
       "    </tr>\n",
       "    <tr>\n",
       "      <th>deli</th>\n",
       "      <td>185277</td>\n",
       "      <td>692664</td>\n",
       "      <td>125893</td>\n",
       "    </tr>\n",
       "    <tr>\n",
       "      <th>dry goods pasta</th>\n",
       "      <td>126526</td>\n",
       "      <td>589260</td>\n",
       "      <td>106350</td>\n",
       "    </tr>\n",
       "    <tr>\n",
       "      <th>frozen</th>\n",
       "      <td>379069</td>\n",
       "      <td>1466228</td>\n",
       "      <td>276434</td>\n",
       "    </tr>\n",
       "    <tr>\n",
       "      <th>household</th>\n",
       "      <td>141814</td>\n",
       "      <td>465363</td>\n",
       "      <td>92680</td>\n",
       "    </tr>\n",
       "    <tr>\n",
       "      <th>international</th>\n",
       "      <td>41322</td>\n",
       "      <td>181845</td>\n",
       "      <td>32824</td>\n",
       "    </tr>\n",
       "    <tr>\n",
       "      <th>meat seafood</th>\n",
       "      <td>81936</td>\n",
       "      <td>501323</td>\n",
       "      <td>91522</td>\n",
       "    </tr>\n",
       "    <tr>\n",
       "      <th>missing</th>\n",
       "      <td>11777</td>\n",
       "      <td>44736</td>\n",
       "      <td>8255</td>\n",
       "    </tr>\n",
       "    <tr>\n",
       "      <th>other</th>\n",
       "      <td>6538</td>\n",
       "      <td>23319</td>\n",
       "      <td>4554</td>\n",
       "    </tr>\n",
       "    <tr>\n",
       "      <th>pantry</th>\n",
       "      <td>303661</td>\n",
       "      <td>1247107</td>\n",
       "      <td>231937</td>\n",
       "    </tr>\n",
       "    <tr>\n",
       "      <th>personal care</th>\n",
       "      <td>81407</td>\n",
       "      <td>289368</td>\n",
       "      <td>53531</td>\n",
       "    </tr>\n",
       "    <tr>\n",
       "      <th>pets</th>\n",
       "      <td>15426</td>\n",
       "      <td>64643</td>\n",
       "      <td>12991</td>\n",
       "    </tr>\n",
       "    <tr>\n",
       "      <th>produce</th>\n",
       "      <td>1533176</td>\n",
       "      <td>6411245</td>\n",
       "      <td>1134852</td>\n",
       "    </tr>\n",
       "    <tr>\n",
       "      <th>snacks</th>\n",
       "      <td>808873</td>\n",
       "      <td>1651728</td>\n",
       "      <td>305805</td>\n",
       "    </tr>\n",
       "  </tbody>\n",
       "</table>\n",
       "</div>"
      ],
      "text/plain": [
       "income_flag      Lower class  Middle class  Upper class\n",
       "department_id                                          \n",
       "alcohol                28592         91968        24067\n",
       "babies                 57246        300145        53001\n",
       "bakery                192127        780257       148444\n",
       "beverages             594583       1663939       313379\n",
       "breakfast             146969        440459        83422\n",
       "bulk                    7300         22480         3671\n",
       "canned goods          156173        723487       132414\n",
       "dairy eggs            902958       3614975       659249\n",
       "deli                  185277        692664       125893\n",
       "dry goods pasta       126526        589260       106350\n",
       "frozen                379069       1466228       276434\n",
       "household             141814        465363        92680\n",
       "international          41322        181845        32824\n",
       "meat seafood           81936        501323        91522\n",
       "missing                11777         44736         8255\n",
       "other                   6538         23319         4554\n",
       "pantry                303661       1247107       231937\n",
       "personal care          81407        289368        53531\n",
       "pets                   15426         64643        12991\n",
       "produce              1533176       6411245      1134852\n",
       "snacks                808873       1651728       305805"
      ]
     },
     "execution_count": 133,
     "metadata": {},
     "output_type": "execute_result"
    }
   ],
   "source": [
    "#creating crosstab for income and department_id\n",
    "cross_income_department = pd.pivot_table(\n",
    "    ords_prods_complete,\n",
    "    values='user_id', \n",
    "    index='department_id', \n",
    "    columns='income_flag', \n",
    "    aggfunc='count'\n",
    ")\n",
    "\n",
    "cross_income_department.to_clipboard()\n",
    "cross_income_department"
   ]
  },
  {
   "cell_type": "code",
   "execution_count": 135,
   "id": "66eb19f2-d992-4e5e-a2c4-869331eedbc0",
   "metadata": {},
   "outputs": [
    {
     "data": {
      "text/html": [
       "<div>\n",
       "<style scoped>\n",
       "    .dataframe tbody tr th:only-of-type {\n",
       "        vertical-align: middle;\n",
       "    }\n",
       "\n",
       "    .dataframe tbody tr th {\n",
       "        vertical-align: top;\n",
       "    }\n",
       "\n",
       "    .dataframe thead th {\n",
       "        text-align: right;\n",
       "    }\n",
       "</style>\n",
       "<table border=\"1\" class=\"dataframe\">\n",
       "  <thead>\n",
       "    <tr style=\"text-align: right;\">\n",
       "      <th>dependant_flag</th>\n",
       "      <th>Has dependant(s)</th>\n",
       "      <th>No dependants</th>\n",
       "    </tr>\n",
       "    <tr>\n",
       "      <th>department_id</th>\n",
       "      <th></th>\n",
       "      <th></th>\n",
       "    </tr>\n",
       "  </thead>\n",
       "  <tbody>\n",
       "    <tr>\n",
       "      <th>alcohol</th>\n",
       "      <td>107800</td>\n",
       "      <td>36827</td>\n",
       "    </tr>\n",
       "    <tr>\n",
       "      <th>babies</th>\n",
       "      <td>307064</td>\n",
       "      <td>103328</td>\n",
       "    </tr>\n",
       "    <tr>\n",
       "      <th>bakery</th>\n",
       "      <td>839433</td>\n",
       "      <td>281395</td>\n",
       "    </tr>\n",
       "    <tr>\n",
       "      <th>beverages</th>\n",
       "      <td>1926560</td>\n",
       "      <td>645341</td>\n",
       "    </tr>\n",
       "    <tr>\n",
       "      <th>breakfast</th>\n",
       "      <td>504418</td>\n",
       "      <td>166432</td>\n",
       "    </tr>\n",
       "    <tr>\n",
       "      <th>bulk</th>\n",
       "      <td>25451</td>\n",
       "      <td>8000</td>\n",
       "    </tr>\n",
       "    <tr>\n",
       "      <th>canned goods</th>\n",
       "      <td>761054</td>\n",
       "      <td>251020</td>\n",
       "    </tr>\n",
       "    <tr>\n",
       "      <th>dairy eggs</th>\n",
       "      <td>3882806</td>\n",
       "      <td>1294376</td>\n",
       "    </tr>\n",
       "    <tr>\n",
       "      <th>deli</th>\n",
       "      <td>750452</td>\n",
       "      <td>253382</td>\n",
       "    </tr>\n",
       "    <tr>\n",
       "      <th>dry goods pasta</th>\n",
       "      <td>617840</td>\n",
       "      <td>204296</td>\n",
       "    </tr>\n",
       "    <tr>\n",
       "      <th>frozen</th>\n",
       "      <td>1592383</td>\n",
       "      <td>529348</td>\n",
       "    </tr>\n",
       "    <tr>\n",
       "      <th>household</th>\n",
       "      <td>528499</td>\n",
       "      <td>171358</td>\n",
       "    </tr>\n",
       "    <tr>\n",
       "      <th>international</th>\n",
       "      <td>191530</td>\n",
       "      <td>64461</td>\n",
       "    </tr>\n",
       "    <tr>\n",
       "      <th>meat seafood</th>\n",
       "      <td>508903</td>\n",
       "      <td>165878</td>\n",
       "    </tr>\n",
       "    <tr>\n",
       "      <th>missing</th>\n",
       "      <td>48833</td>\n",
       "      <td>15935</td>\n",
       "    </tr>\n",
       "    <tr>\n",
       "      <th>other</th>\n",
       "      <td>25697</td>\n",
       "      <td>8714</td>\n",
       "    </tr>\n",
       "    <tr>\n",
       "      <th>pantry</th>\n",
       "      <td>1338801</td>\n",
       "      <td>443904</td>\n",
       "    </tr>\n",
       "    <tr>\n",
       "      <th>personal care</th>\n",
       "      <td>318101</td>\n",
       "      <td>106205</td>\n",
       "    </tr>\n",
       "    <tr>\n",
       "      <th>pets</th>\n",
       "      <td>69458</td>\n",
       "      <td>23602</td>\n",
       "    </tr>\n",
       "    <tr>\n",
       "      <th>produce</th>\n",
       "      <td>6803832</td>\n",
       "      <td>2275441</td>\n",
       "    </tr>\n",
       "    <tr>\n",
       "      <th>snacks</th>\n",
       "      <td>2075968</td>\n",
       "      <td>690438</td>\n",
       "    </tr>\n",
       "  </tbody>\n",
       "</table>\n",
       "</div>"
      ],
      "text/plain": [
       "dependant_flag   Has dependant(s)  No dependants\n",
       "department_id                                   \n",
       "alcohol                    107800          36827\n",
       "babies                     307064         103328\n",
       "bakery                     839433         281395\n",
       "beverages                 1926560         645341\n",
       "breakfast                  504418         166432\n",
       "bulk                        25451           8000\n",
       "canned goods               761054         251020\n",
       "dairy eggs                3882806        1294376\n",
       "deli                       750452         253382\n",
       "dry goods pasta            617840         204296\n",
       "frozen                    1592383         529348\n",
       "household                  528499         171358\n",
       "international              191530          64461\n",
       "meat seafood               508903         165878\n",
       "missing                     48833          15935\n",
       "other                       25697           8714\n",
       "pantry                    1338801         443904\n",
       "personal care              318101         106205\n",
       "pets                        69458          23602\n",
       "produce                   6803832        2275441\n",
       "snacks                    2075968         690438"
      ]
     },
     "execution_count": 135,
     "metadata": {},
     "output_type": "execute_result"
    }
   ],
   "source": [
    "#creating crosstab for income and department_id\n",
    "cross_dependant_department = pd.pivot_table(\n",
    "    ords_prods_complete,\n",
    "    values='user_id', \n",
    "    index='department_id', \n",
    "    columns='dependant_flag', \n",
    "    aggfunc='count'\n",
    ")\n",
    "\n",
    "cross_dependant_department.to_clipboard()\n",
    "cross_dependant_department"
   ]
  }
 ],
 "metadata": {
  "kernelspec": {
   "display_name": "Python 3 (ipykernel)",
   "language": "python",
   "name": "python3"
  },
  "language_info": {
   "codemirror_mode": {
    "name": "ipython",
    "version": 3
   },
   "file_extension": ".py",
   "mimetype": "text/x-python",
   "name": "python",
   "nbconvert_exporter": "python",
   "pygments_lexer": "ipython3",
   "version": "3.12.7"
  }
 },
 "nbformat": 4,
 "nbformat_minor": 5
}
