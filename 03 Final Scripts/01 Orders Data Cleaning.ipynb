{
 "cells": [
  {
   "cell_type": "markdown",
   "id": "9807c9fe-72cc-4965-9d6b-7dab93cd5b39",
   "metadata": {},
   "source": [
    "# Orders Data Cleaning"
   ]
  },
  {
   "cell_type": "markdown",
   "id": "380bb581-2336-4841-9fb6-0abe07efaa1d",
   "metadata": {},
   "source": [
    "## Contents"
   ]
  },
  {
   "cell_type": "markdown",
   "id": "678fd0d3-5523-4492-95a1-b5adae98a893",
   "metadata": {},
   "source": [
    "### 01 Importing Libraries"
   ]
  },
  {
   "cell_type": "markdown",
   "id": "e2aff1e1-6464-4472-a310-17dce2af68f9",
   "metadata": {},
   "source": [
    "### 02 Importing Data"
   ]
  },
  {
   "cell_type": "markdown",
   "id": "68c7b00a-9ca2-47f9-a1d2-b34d0d8227ec",
   "metadata": {},
   "source": [
    "### 03 Checking Data"
   ]
  },
  {
   "cell_type": "markdown",
   "id": "9cf26dbe-a54c-4ba3-8baa-0857836d3b90",
   "metadata": {},
   "source": [
    "### 04 Wrangling Data"
   ]
  },
  {
   "cell_type": "markdown",
   "id": "91b3cf65-252c-46ce-9dbe-e8a5300db657",
   "metadata": {},
   "source": [
    "#### 01 Columns"
   ]
  },
  {
   "cell_type": "markdown",
   "id": "3a30f4c9-d48c-4d42-a816-570f814a966e",
   "metadata": {},
   "source": [
    "#### 02 Data Types"
   ]
  },
  {
   "cell_type": "markdown",
   "id": "ecdc31fd-3b07-409d-bb5f-08af97e20cf7",
   "metadata": {},
   "source": [
    "### 05 Checking Data Consistency"
   ]
  },
  {
   "cell_type": "markdown",
   "id": "37c0bdba-c336-4b10-be65-1b9e4bfd10f3",
   "metadata": {},
   "source": [
    "#### 01 Missing Values"
   ]
  },
  {
   "cell_type": "markdown",
   "id": "bc846d3a-c83c-4ca9-98dd-ae724ae542a1",
   "metadata": {},
   "source": [
    "#### 02 Duplicate Values"
   ]
  },
  {
   "cell_type": "markdown",
   "id": "a3ec03fd-def9-4965-a67c-5c605796456b",
   "metadata": {},
   "source": [
    "### 06 Exporting Dataframe"
   ]
  },
  {
   "cell_type": "markdown",
   "id": "4bb5e187-ab09-4348-8876-dd3e66c486d3",
   "metadata": {},
   "source": [
    "## 01 Importing Libraries"
   ]
  },
  {
   "cell_type": "code",
   "execution_count": 11,
   "id": "072b078e-03ac-4cc0-917d-47d55cbfea3b",
   "metadata": {},
   "outputs": [],
   "source": [
    "#importing libraries\n",
    "import pandas as pd\n",
    "import numpy as np\n",
    "import os"
   ]
  },
  {
   "cell_type": "markdown",
   "id": "8f228b1b-0d5e-4d98-ac4e-00abaca62bdb",
   "metadata": {},
   "source": [
    "## 02 Importing Data"
   ]
  },
  {
   "cell_type": "code",
   "execution_count": 13,
   "id": "e64aee02-13ec-4c1b-a46e-e9fe24a3f6cb",
   "metadata": {},
   "outputs": [],
   "source": [
    "#creating path\n",
    "path = r'C:\\\\Users\\\\samac\\\\Instacart Basket Analysis'"
   ]
  },
  {
   "cell_type": "code",
   "execution_count": 15,
   "id": "c66b5520-11e9-4690-bd78-f9c1f70b45e7",
   "metadata": {},
   "outputs": [],
   "source": [
    "#importing orders.csv\n",
    "df_ords = pd.read_csv(os.path.join(path, '02 Data', 'Original Data', 'orders.csv'), index_col = False)"
   ]
  },
  {
   "cell_type": "markdown",
   "id": "da12bba2-002c-4926-bcc7-d1d7a73542b9",
   "metadata": {},
   "source": [
    "## 03 Checking Data"
   ]
  },
  {
   "cell_type": "code",
   "execution_count": 27,
   "id": "a6e680d0-f541-4750-849a-c43b20ac1527",
   "metadata": {},
   "outputs": [
    {
     "data": {
      "text/plain": [
       "(3421083, 6)"
      ]
     },
     "execution_count": 27,
     "metadata": {},
     "output_type": "execute_result"
    }
   ],
   "source": [
    "#checking df_ords shape\n",
    "df_ords.shape"
   ]
  },
  {
   "cell_type": "code",
   "execution_count": 18,
   "id": "72d87a22-1d90-402e-8164-f4b54a59908b",
   "metadata": {},
   "outputs": [
    {
     "data": {
      "text/html": [
       "<div>\n",
       "<style scoped>\n",
       "    .dataframe tbody tr th:only-of-type {\n",
       "        vertical-align: middle;\n",
       "    }\n",
       "\n",
       "    .dataframe tbody tr th {\n",
       "        vertical-align: top;\n",
       "    }\n",
       "\n",
       "    .dataframe thead th {\n",
       "        text-align: right;\n",
       "    }\n",
       "</style>\n",
       "<table border=\"1\" class=\"dataframe\">\n",
       "  <thead>\n",
       "    <tr style=\"text-align: right;\">\n",
       "      <th></th>\n",
       "      <th>order_id</th>\n",
       "      <th>user_id</th>\n",
       "      <th>eval_set</th>\n",
       "      <th>order_number</th>\n",
       "      <th>order_dow</th>\n",
       "      <th>order_hour_of_day</th>\n",
       "      <th>days_since_prior_order</th>\n",
       "    </tr>\n",
       "  </thead>\n",
       "  <tbody>\n",
       "    <tr>\n",
       "      <th>0</th>\n",
       "      <td>2539329</td>\n",
       "      <td>1</td>\n",
       "      <td>prior</td>\n",
       "      <td>1</td>\n",
       "      <td>2</td>\n",
       "      <td>8</td>\n",
       "      <td>NaN</td>\n",
       "    </tr>\n",
       "    <tr>\n",
       "      <th>1</th>\n",
       "      <td>2398795</td>\n",
       "      <td>1</td>\n",
       "      <td>prior</td>\n",
       "      <td>2</td>\n",
       "      <td>3</td>\n",
       "      <td>7</td>\n",
       "      <td>15.0</td>\n",
       "    </tr>\n",
       "    <tr>\n",
       "      <th>2</th>\n",
       "      <td>473747</td>\n",
       "      <td>1</td>\n",
       "      <td>prior</td>\n",
       "      <td>3</td>\n",
       "      <td>3</td>\n",
       "      <td>12</td>\n",
       "      <td>21.0</td>\n",
       "    </tr>\n",
       "    <tr>\n",
       "      <th>3</th>\n",
       "      <td>2254736</td>\n",
       "      <td>1</td>\n",
       "      <td>prior</td>\n",
       "      <td>4</td>\n",
       "      <td>4</td>\n",
       "      <td>7</td>\n",
       "      <td>29.0</td>\n",
       "    </tr>\n",
       "    <tr>\n",
       "      <th>4</th>\n",
       "      <td>431534</td>\n",
       "      <td>1</td>\n",
       "      <td>prior</td>\n",
       "      <td>5</td>\n",
       "      <td>4</td>\n",
       "      <td>15</td>\n",
       "      <td>28.0</td>\n",
       "    </tr>\n",
       "  </tbody>\n",
       "</table>\n",
       "</div>"
      ],
      "text/plain": [
       "   order_id  user_id eval_set  order_number  order_dow  order_hour_of_day  \\\n",
       "0   2539329        1    prior             1          2                  8   \n",
       "1   2398795        1    prior             2          3                  7   \n",
       "2    473747        1    prior             3          3                 12   \n",
       "3   2254736        1    prior             4          4                  7   \n",
       "4    431534        1    prior             5          4                 15   \n",
       "\n",
       "   days_since_prior_order  \n",
       "0                     NaN  \n",
       "1                    15.0  \n",
       "2                    21.0  \n",
       "3                    29.0  \n",
       "4                    28.0  "
      ]
     },
     "execution_count": 18,
     "metadata": {},
     "output_type": "execute_result"
    }
   ],
   "source": [
    "#checking df_ords records\n",
    "df_ords.head()"
   ]
  },
  {
   "cell_type": "markdown",
   "id": "a49b2414-6267-4980-b8ab-5590cdcfa629",
   "metadata": {},
   "source": [
    "## 04 Wrangling Data"
   ]
  },
  {
   "cell_type": "markdown",
   "id": "32cf6ea9-d169-42a9-b759-357a348daa8d",
   "metadata": {},
   "source": [
    "### 01 Columns"
   ]
  },
  {
   "cell_type": "code",
   "execution_count": 20,
   "id": "e0069362-4f5e-4e1f-aba4-1745646da71f",
   "metadata": {},
   "outputs": [],
   "source": [
    "#dropping 'eval_set' column from df_ords\n",
    "df_ords = df_ords.drop(columns = ['eval_set'])"
   ]
  },
  {
   "cell_type": "code",
   "execution_count": 22,
   "id": "49094269-60f3-4f93-98b9-4b6b32118c7c",
   "metadata": {},
   "outputs": [],
   "source": [
    "#renaming 'order_dow' to 'orders_day_of_week'\n",
    "df_ords.rename(columns = {'order_dow' : 'orders_day_of_week'}, inplace = True)"
   ]
  },
  {
   "cell_type": "code",
   "execution_count": 24,
   "id": "b8f5e4d2-ced6-4b5a-9e8c-f66ecb8517a4",
   "metadata": {},
   "outputs": [
    {
     "data": {
      "text/plain": [
       "Index(['order_id', 'user_id', 'order_number', 'orders_day_of_week',\n",
       "       'order_hour_of_day', 'days_since_prior_order'],\n",
       "      dtype='object')"
      ]
     },
     "execution_count": 24,
     "metadata": {},
     "output_type": "execute_result"
    }
   ],
   "source": [
    "#checking column titles\n",
    "df_ords.columns"
   ]
  },
  {
   "cell_type": "markdown",
   "id": "78b48e40-492d-4c48-89d4-6fcc089fe893",
   "metadata": {},
   "source": [
    "### 02 Data Types"
   ]
  },
  {
   "cell_type": "code",
   "execution_count": 31,
   "id": "d5094735-024d-43e2-84a4-a72f25a3ac70",
   "metadata": {},
   "outputs": [
    {
     "data": {
      "text/plain": [
       "order_id                    int64\n",
       "user_id                     int64\n",
       "order_number                int64\n",
       "orders_day_of_week          int64\n",
       "order_hour_of_day           int64\n",
       "days_since_prior_order    float64\n",
       "dtype: object"
      ]
     },
     "execution_count": 31,
     "metadata": {},
     "output_type": "execute_result"
    }
   ],
   "source": [
    "#checking data types in df_ords\n",
    "df_ords.dtypes"
   ]
  },
  {
   "cell_type": "code",
   "execution_count": 33,
   "id": "6ceb0dc6-264d-49af-b81b-5759e95c217e",
   "metadata": {},
   "outputs": [],
   "source": [
    "#changing 'order_id' from int to string\n",
    "df_ords['order_id'] = df_ords['order_id'].astype('str')"
   ]
  },
  {
   "cell_type": "code",
   "execution_count": 35,
   "id": "6cc32d16-6a85-4be0-a41e-2ad08f0724c3",
   "metadata": {},
   "outputs": [],
   "source": [
    "#changing 'user_id' from int to string\n",
    "df_ords['user_id'] = df_ords['user_id'].astype('str')"
   ]
  },
  {
   "cell_type": "code",
   "execution_count": 37,
   "id": "2cf088f4-43e8-46b8-9717-5f5c9bd2e2b4",
   "metadata": {},
   "outputs": [
    {
     "data": {
      "text/plain": [
       "order_id                   object\n",
       "user_id                    object\n",
       "order_number                int64\n",
       "orders_day_of_week          int64\n",
       "order_hour_of_day           int64\n",
       "days_since_prior_order    float64\n",
       "dtype: object"
      ]
     },
     "execution_count": 37,
     "metadata": {},
     "output_type": "execute_result"
    }
   ],
   "source": [
    "#rechecking data types in df_ords\n",
    "df_ords.dtypes"
   ]
  },
  {
   "cell_type": "markdown",
   "id": "ca5230b4-0bc5-4ae6-8b10-afeab04d86cc",
   "metadata": {},
   "source": [
    "## 05 Data Consistency Checks"
   ]
  },
  {
   "cell_type": "markdown",
   "id": "f54419af-9972-482e-ac6a-0966882d9991",
   "metadata": {},
   "source": [
    "### 01 Missing Values"
   ]
  },
  {
   "cell_type": "code",
   "execution_count": 42,
   "id": "c2df89e8-bf45-49bc-b42c-2a2e064707de",
   "metadata": {},
   "outputs": [
    {
     "data": {
      "text/plain": [
       "order_id                       0\n",
       "user_id                        0\n",
       "order_number                   0\n",
       "orders_day_of_week             0\n",
       "order_hour_of_day              0\n",
       "days_since_prior_order    206209\n",
       "dtype: int64"
      ]
     },
     "execution_count": 42,
     "metadata": {},
     "output_type": "execute_result"
    }
   ],
   "source": [
    "#searching for missing values in df_ords\n",
    "df_ords.isnull().sum()"
   ]
  },
  {
   "cell_type": "code",
   "execution_count": 44,
   "id": "881e7fd5-8f25-4d1f-b67b-4c11b153ae4a",
   "metadata": {},
   "outputs": [],
   "source": [
    "#creating flag based on missing values in 'days_since_prior_order' column\n",
    "df_ords['days_since_prior_order_flag'] = df_ords['days_since_prior_order'].isna().astype(int)"
   ]
  },
  {
   "cell_type": "code",
   "execution_count": 46,
   "id": "cc752fca-8165-4a8b-af88-f26cb6dc32a1",
   "metadata": {},
   "outputs": [
    {
     "data": {
      "text/html": [
       "<div>\n",
       "<style scoped>\n",
       "    .dataframe tbody tr th:only-of-type {\n",
       "        vertical-align: middle;\n",
       "    }\n",
       "\n",
       "    .dataframe tbody tr th {\n",
       "        vertical-align: top;\n",
       "    }\n",
       "\n",
       "    .dataframe thead th {\n",
       "        text-align: right;\n",
       "    }\n",
       "</style>\n",
       "<table border=\"1\" class=\"dataframe\">\n",
       "  <thead>\n",
       "    <tr style=\"text-align: right;\">\n",
       "      <th></th>\n",
       "      <th>order_id</th>\n",
       "      <th>user_id</th>\n",
       "      <th>order_number</th>\n",
       "      <th>orders_day_of_week</th>\n",
       "      <th>order_hour_of_day</th>\n",
       "      <th>days_since_prior_order</th>\n",
       "      <th>days_since_prior_order_flag</th>\n",
       "    </tr>\n",
       "  </thead>\n",
       "  <tbody>\n",
       "    <tr>\n",
       "      <th>0</th>\n",
       "      <td>2539329</td>\n",
       "      <td>1</td>\n",
       "      <td>1</td>\n",
       "      <td>2</td>\n",
       "      <td>8</td>\n",
       "      <td>NaN</td>\n",
       "      <td>1</td>\n",
       "    </tr>\n",
       "    <tr>\n",
       "      <th>1</th>\n",
       "      <td>2398795</td>\n",
       "      <td>1</td>\n",
       "      <td>2</td>\n",
       "      <td>3</td>\n",
       "      <td>7</td>\n",
       "      <td>15.0</td>\n",
       "      <td>0</td>\n",
       "    </tr>\n",
       "    <tr>\n",
       "      <th>2</th>\n",
       "      <td>473747</td>\n",
       "      <td>1</td>\n",
       "      <td>3</td>\n",
       "      <td>3</td>\n",
       "      <td>12</td>\n",
       "      <td>21.0</td>\n",
       "      <td>0</td>\n",
       "    </tr>\n",
       "    <tr>\n",
       "      <th>3</th>\n",
       "      <td>2254736</td>\n",
       "      <td>1</td>\n",
       "      <td>4</td>\n",
       "      <td>4</td>\n",
       "      <td>7</td>\n",
       "      <td>29.0</td>\n",
       "      <td>0</td>\n",
       "    </tr>\n",
       "    <tr>\n",
       "      <th>4</th>\n",
       "      <td>431534</td>\n",
       "      <td>1</td>\n",
       "      <td>5</td>\n",
       "      <td>4</td>\n",
       "      <td>15</td>\n",
       "      <td>28.0</td>\n",
       "      <td>0</td>\n",
       "    </tr>\n",
       "  </tbody>\n",
       "</table>\n",
       "</div>"
      ],
      "text/plain": [
       "  order_id user_id  order_number  orders_day_of_week  order_hour_of_day  \\\n",
       "0  2539329       1             1                   2                  8   \n",
       "1  2398795       1             2                   3                  7   \n",
       "2   473747       1             3                   3                 12   \n",
       "3  2254736       1             4                   4                  7   \n",
       "4   431534       1             5                   4                 15   \n",
       "\n",
       "   days_since_prior_order  days_since_prior_order_flag  \n",
       "0                     NaN                            1  \n",
       "1                    15.0                            0  \n",
       "2                    21.0                            0  \n",
       "3                    29.0                            0  \n",
       "4                    28.0                            0  "
      ]
     },
     "execution_count": 46,
     "metadata": {},
     "output_type": "execute_result"
    }
   ],
   "source": [
    "#checking df_ords\n",
    "df_ords.head()"
   ]
  },
  {
   "cell_type": "markdown",
   "id": "6317e186-179b-44e6-bc11-eef16ba2f225",
   "metadata": {},
   "source": [
    "### 02 Duplicate Values"
   ]
  },
  {
   "cell_type": "code",
   "execution_count": 53,
   "id": "394fc4be-558c-4979-aa6c-f354a182dd16",
   "metadata": {},
   "outputs": [
    {
     "data": {
      "text/html": [
       "<div>\n",
       "<style scoped>\n",
       "    .dataframe tbody tr th:only-of-type {\n",
       "        vertical-align: middle;\n",
       "    }\n",
       "\n",
       "    .dataframe tbody tr th {\n",
       "        vertical-align: top;\n",
       "    }\n",
       "\n",
       "    .dataframe thead th {\n",
       "        text-align: right;\n",
       "    }\n",
       "</style>\n",
       "<table border=\"1\" class=\"dataframe\">\n",
       "  <thead>\n",
       "    <tr style=\"text-align: right;\">\n",
       "      <th></th>\n",
       "      <th>order_id</th>\n",
       "      <th>user_id</th>\n",
       "      <th>order_number</th>\n",
       "      <th>orders_day_of_week</th>\n",
       "      <th>order_hour_of_day</th>\n",
       "      <th>days_since_prior_order</th>\n",
       "      <th>days_since_prior_order_flag</th>\n",
       "    </tr>\n",
       "  </thead>\n",
       "  <tbody>\n",
       "  </tbody>\n",
       "</table>\n",
       "</div>"
      ],
      "text/plain": [
       "Empty DataFrame\n",
       "Columns: [order_id, user_id, order_number, orders_day_of_week, order_hour_of_day, days_since_prior_order, days_since_prior_order_flag]\n",
       "Index: []"
      ]
     },
     "execution_count": 53,
     "metadata": {},
     "output_type": "execute_result"
    }
   ],
   "source": [
    "#searching for duplicate values in df_ords\n",
    "df_ords_dups = df_ords[df_ords.duplicated()]\n",
    "\n",
    "df_ords_dups"
   ]
  },
  {
   "cell_type": "markdown",
   "id": "f5b46d91-bd03-457b-8dc8-6f36033b0241",
   "metadata": {},
   "source": [
    "No Duplicates Found"
   ]
  },
  {
   "cell_type": "markdown",
   "id": "3275d1a8-2141-4e88-b3ef-ed4d14385380",
   "metadata": {},
   "source": [
    "## 06 Exporting Dataframe"
   ]
  },
  {
   "cell_type": "code",
   "execution_count": 60,
   "id": "3383fbf5-8fdf-4b5e-9f33-9cd16d2d187e",
   "metadata": {},
   "outputs": [],
   "source": [
    "#exporting df_ords as final_orders_wrangled.pkl\n",
    "df_ords.to_pickle(os.path.join(path, '02 Data','Prepared Data', 'final_orders_wrangled.pkl'))"
   ]
  },
  {
   "cell_type": "code",
   "execution_count": null,
   "id": "9b6581d3-f09a-47ee-9180-3cc3d192b9e7",
   "metadata": {},
   "outputs": [],
   "source": []
  }
 ],
 "metadata": {
  "kernelspec": {
   "display_name": "Python 3 (ipykernel)",
   "language": "python",
   "name": "python3"
  },
  "language_info": {
   "codemirror_mode": {
    "name": "ipython",
    "version": 3
   },
   "file_extension": ".py",
   "mimetype": "text/x-python",
   "name": "python",
   "nbconvert_exporter": "python",
   "pygments_lexer": "ipython3",
   "version": "3.12.7"
  }
 },
 "nbformat": 4,
 "nbformat_minor": 5
}
