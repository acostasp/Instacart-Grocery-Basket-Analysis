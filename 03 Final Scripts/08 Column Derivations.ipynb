{
 "cells": [
  {
   "cell_type": "markdown",
   "id": "3a177357-4793-4dc7-ab11-9009c0b1733b",
   "metadata": {},
   "source": [
    "# Column Derivations"
   ]
  },
  {
   "cell_type": "markdown",
   "id": "7d3957f2-483b-4e89-b601-c63edb6c73d6",
   "metadata": {},
   "source": [
    "## Contents"
   ]
  },
  {
   "cell_type": "markdown",
   "id": "7d48ebb3-11de-4efa-b677-f8c1032682c9",
   "metadata": {},
   "source": [
    "### 01 Importing Libraries"
   ]
  },
  {
   "cell_type": "markdown",
   "id": "accda54e-23a3-47d5-9d61-0793c265fcc3",
   "metadata": {},
   "source": [
    "### 02 Importing Data"
   ]
  },
  {
   "cell_type": "markdown",
   "id": "95eb4b30-fe36-4cce-b7fc-2b52006b49c0",
   "metadata": {},
   "source": [
    "### 03 Deriving New Columns"
   ]
  },
  {
   "cell_type": "markdown",
   "id": "3f672691-05c9-46a9-8d73-fb73a59ba400",
   "metadata": {},
   "source": [
    "### 04 Exporting Dataframe"
   ]
  },
  {
   "cell_type": "markdown",
   "id": "bc85d198-f1d1-4b7c-8dd8-9090c88c71f4",
   "metadata": {},
   "source": [
    "## 01 Importing Libraries"
   ]
  },
  {
   "cell_type": "code",
   "execution_count": 2,
   "id": "3bbfcc5a-51a6-4652-b494-29be447873de",
   "metadata": {},
   "outputs": [],
   "source": [
    "#importing libraries\n",
    "\n",
    "import pandas as pd\n",
    "import numpy as np\n",
    "import os"
   ]
  },
  {
   "cell_type": "markdown",
   "id": "863524b4-d346-46ab-9dbb-33220c843242",
   "metadata": {},
   "source": [
    "## 02 Importing Data"
   ]
  },
  {
   "cell_type": "code",
   "execution_count": 4,
   "id": "85cd69e8-fe41-4f1a-93e1-d72106385dbf",
   "metadata": {},
   "outputs": [],
   "source": [
    "#creating path\n",
    "path = r'C:\\\\Users\\\\samac\\\\Instacart Basket Analysis'"
   ]
  },
  {
   "cell_type": "code",
   "execution_count": 5,
   "id": "ed5ec608-b191-444d-af7e-f514f1c43ef9",
   "metadata": {},
   "outputs": [],
   "source": [
    "#importing final_ords_prods_all\n",
    "final_ords_prods_all = pd.read_pickle(os.path.join(path, '02 Data', 'Prepared Data', 'final_orders_products_all.pkl'))"
   ]
  },
  {
   "cell_type": "code",
   "execution_count": 10,
   "id": "f43260e0-2a28-4e1c-a2ca-1ec616ce75d5",
   "metadata": {},
   "outputs": [
    {
     "data": {
      "text/plain": [
       "Index(['product_id', 'product_name', 'aisle_id', 'department_id', 'prices',\n",
       "       'order_id', 'user_id', 'order_number', 'orders_day_of_week',\n",
       "       'order_hour_of_day', 'days_since_prior_order',\n",
       "       'days_since_prior_order_flag', 'add_to_cart_order', 'reordered',\n",
       "       'first_name', 'last_name', 'gender', 'state', 'age', 'date_joined',\n",
       "       'n_dependants', 'fam_status', 'income', '_merge'],\n",
       "      dtype='object')"
      ]
     },
     "execution_count": 10,
     "metadata": {},
     "output_type": "execute_result"
    }
   ],
   "source": [
    "final_ords_prods_all.columns"
   ]
  },
  {
   "cell_type": "code",
   "execution_count": 13,
   "id": "6c102e64-27a6-4dae-95b2-e5737b080d08",
   "metadata": {},
   "outputs": [
    {
     "data": {
      "text/plain": [
       "product_id                           0\n",
       "product_name                         0\n",
       "aisle_id                             0\n",
       "department_id                        0\n",
       "prices                               0\n",
       "order_id                             0\n",
       "user_id                              0\n",
       "order_number                         0\n",
       "orders_day_of_week                   0\n",
       "order_hour_of_day                    0\n",
       "days_since_prior_order         2076096\n",
       "days_since_prior_order_flag          0\n",
       "add_to_cart_order                    0\n",
       "reordered                            0\n",
       "first_name                     1775118\n",
       "last_name                            0\n",
       "gender                               0\n",
       "state                                0\n",
       "age                                  0\n",
       "date_joined                          0\n",
       "n_dependants                         0\n",
       "fam_status                           0\n",
       "income                               0\n",
       "_merge                               0\n",
       "dtype: int64"
      ]
     },
     "execution_count": 13,
     "metadata": {},
     "output_type": "execute_result"
    }
   ],
   "source": [
    "#checking for nulls\n",
    "final_ords_prods_all.isnull().sum()"
   ]
  },
  {
   "cell_type": "markdown",
   "id": "ffc07fbf-852b-4db4-b624-95bc901f7e42",
   "metadata": {},
   "source": [
    "## 03 Deriving New Columns"
   ]
  },
  {
   "cell_type": "markdown",
   "id": "438e10af-3e35-4210-ac29-bbf490f4fc25",
   "metadata": {},
   "source": [
    "The following column derivations have been created at the request of the client"
   ]
  },
  {
   "cell_type": "markdown",
   "id": "46776f00-46e3-4bb3-83ad-583cf497e547",
   "metadata": {},
   "source": [
    "### 01 Price Range"
   ]
  },
  {
   "cell_type": "markdown",
   "id": "62a6a310-e05d-4dd8-9cb4-5dfb8f71494b",
   "metadata": {},
   "source": [
    "The price_range_loc column will show what price range each product falls into. Products priced 5 dollars and lower are \"Low-range products\". Products priced in between 5 and 15 dollars are \"Mid-range products\". Products priced over 15 dollars are \"High-range\" products."
   ]
  },
  {
   "cell_type": "code",
   "execution_count": 30,
   "id": "20b8ee31-2d67-4126-ab96-c0e1878f4926",
   "metadata": {},
   "outputs": [],
   "source": [
    "#creating if statements with the loc() function\n",
    "final_ords_prods_all.loc[final_ords_prods_all['prices'] > 15, 'price_range_loc'] = 'High-range product'\n",
    "final_ords_prods_all.loc[(final_ords_prods_all['prices'] <= 15) & (final_ords_prods_all['prices'] > 5), 'price_range_loc'] = 'Mid-range product' \n",
    "final_ords_prods_all.loc[final_ords_prods_all['prices'] <= 5, 'price_range_loc'] = 'Low-range product'"
   ]
  },
  {
   "cell_type": "code",
   "execution_count": 32,
   "id": "f55bc30b-6cec-4e3d-a133-f4c93730fee5",
   "metadata": {},
   "outputs": [
    {
     "data": {
      "text/plain": [
       "price_range_loc\n",
       "Mid-range product     21860860\n",
       "Low-range product     10126321\n",
       "High-range product      417678\n",
       "Name: count, dtype: int64"
      ]
     },
     "execution_count": 32,
     "metadata": {},
     "output_type": "execute_result"
    }
   ],
   "source": [
    "#checking value counts\n",
    "final_ords_prods_all['price_range_loc'].value_counts(dropna = False)"
   ]
  },
  {
   "cell_type": "markdown",
   "id": "84a592d6-cf45-4196-8936-7777fc63291c",
   "metadata": {},
   "source": [
    "### 02 Busiest Day"
   ]
  },
  {
   "cell_type": "markdown",
   "id": "b84aa3cc-8f1b-44bd-aa25-b8e4c7d3653c",
   "metadata": {},
   "source": [
    "The busiest_day column will label the day that has the most orders as the \"Busiest day', the day with the fewest orders as the 'Least busy\", and all other days as 'Regularly busy'"
   ]
  },
  {
   "cell_type": "code",
   "execution_count": 50,
   "id": "6ff7abaa-ed08-4835-a836-18a36d6c5484",
   "metadata": {},
   "outputs": [
    {
     "data": {
      "text/plain": [
       "orders_day_of_week\n",
       "0    6204182\n",
       "1    5660230\n",
       "6    4496490\n",
       "2    4213830\n",
       "5    4205791\n",
       "3    3840534\n",
       "4    3783802\n",
       "Name: count, dtype: int64"
      ]
     },
     "execution_count": 50,
     "metadata": {},
     "output_type": "execute_result"
    }
   ],
   "source": [
    "#checking value count of orders_day_of_week\n",
    "final_ords_prods_all['orders_day_of_week'].value_counts(dropna = False)"
   ]
  },
  {
   "cell_type": "code",
   "execution_count": 52,
   "id": "2d5de17d-b222-4050-b4d8-c01cddaf6aaf",
   "metadata": {},
   "outputs": [],
   "source": [
    "#creating busy day list\n",
    "result = []\n",
    "\n",
    "for value in final_ords_prods_all[\"orders_day_of_week\"]:\n",
    "  if value == 0:\n",
    "    result.append(\"Busiest day\")\n",
    "  elif value == 4:\n",
    "    result.append(\"Least busy\")\n",
    "  else:\n",
    "    result.append(\"Regularly busy\")"
   ]
  },
  {
   "cell_type": "code",
   "execution_count": 54,
   "id": "02921822-bcc7-4563-a0bd-e4afdc1fe5e3",
   "metadata": {},
   "outputs": [],
   "source": [
    "#adding busiest_day column\n",
    "final_ords_prods_all['busiest_day'] = result"
   ]
  },
  {
   "cell_type": "code",
   "execution_count": 56,
   "id": "1f7ee628-83d4-4b37-bc2c-e2dc5bf33466",
   "metadata": {},
   "outputs": [
    {
     "data": {
      "text/plain": [
       "busiest_day\n",
       "Regularly busy    22416875\n",
       "Busiest day        6204182\n",
       "Least busy         3783802\n",
       "Name: count, dtype: int64"
      ]
     },
     "execution_count": 56,
     "metadata": {},
     "output_type": "execute_result"
    }
   ],
   "source": [
    "#checking value count of busiest day\n",
    "final_ords_prods_all['busiest_day'].value_counts(dropna = False)"
   ]
  },
  {
   "cell_type": "markdown",
   "id": "a22f8dcd-5024-4a31-9fc0-b822bbcf4b4f",
   "metadata": {},
   "source": [
    "### 03 Busiest Days"
   ]
  },
  {
   "cell_type": "markdown",
   "id": "577b5893-ddb2-47a6-b7aa-e94fa3d0a28b",
   "metadata": {},
   "source": [
    "The busiest_days column will label the 2 days that have the most orders as the 'Busiest days', the 2 days with the fewest orders as the 'Least busiest days\", and all other days as 'Regularly busy'"
   ]
  },
  {
   "cell_type": "code",
   "execution_count": 58,
   "id": "3e6a8a2f-ade1-42ef-842c-748a86ff4eef",
   "metadata": {},
   "outputs": [],
   "source": [
    "#creating busiest_days list\n",
    "busiest_results = []\n",
    "\n",
    "for value in final_ords_prods_all[\"orders_day_of_week\"]:\n",
    "  if value == 0 or value == 1:\n",
    "    busiest_results.append(\"Busiest days\")\n",
    "  elif value == 4 or value == 3:\n",
    "    busiest_results.append(\"Least busiest days\")\n",
    "  else:\n",
    "    busiest_results.append(\"Regularly busy\")"
   ]
  },
  {
   "cell_type": "code",
   "execution_count": 60,
   "id": "f385c4d5-cb75-4397-b8f4-07f3c225f75c",
   "metadata": {},
   "outputs": [],
   "source": [
    "#adding busiest_day column\n",
    "final_ords_prods_all['busiest_days'] = busiest_results"
   ]
  },
  {
   "cell_type": "code",
   "execution_count": 62,
   "id": "283d92c8-a5a8-4917-9596-2df0c07916fe",
   "metadata": {},
   "outputs": [
    {
     "data": {
      "text/plain": [
       "busiest_days\n",
       "Regularly busy        12916111\n",
       "Busiest days          11864412\n",
       "Least busiest days     7624336\n",
       "Name: count, dtype: int64"
      ]
     },
     "execution_count": 62,
     "metadata": {},
     "output_type": "execute_result"
    }
   ],
   "source": [
    "#checking value count of busiest day\n",
    "final_ords_prods_all['busiest_days'].value_counts(dropna = False)"
   ]
  },
  {
   "cell_type": "markdown",
   "id": "f8607bd8-465c-481a-9f03-e24aa533d012",
   "metadata": {},
   "source": [
    "### 04 Busiest Period of Day"
   ]
  },
  {
   "cell_type": "markdown",
   "id": "fb04b597-0b85-4840-bfde-9d03c04488fe",
   "metadata": {},
   "source": [
    "The busiest_period_of_day will label the 3 hours that have the most orders as 'Most orders', the 3 hours with the fewest orders as 'Fewest orders', and all other hours as 'Average orders'"
   ]
  },
  {
   "cell_type": "code",
   "execution_count": 64,
   "id": "5c920c80-dcae-4e7b-8758-ba0d63721dff",
   "metadata": {},
   "outputs": [
    {
     "data": {
      "text/plain": [
       "order_hour_of_day\n",
       "10    2761760\n",
       "11    2736140\n",
       "14    2689136\n",
       "15    2662144\n",
       "13    2660954\n",
       "12    2618532\n",
       "16    2535202\n",
       "9     2454203\n",
       "17    2087654\n",
       "8     1718118\n",
       "18    1636502\n",
       "19    1258305\n",
       "20     976156\n",
       "7      891054\n",
       "21     795637\n",
       "22     634225\n",
       "23     402316\n",
       "6      290493\n",
       "0      218769\n",
       "1      115700\n",
       "5       87961\n",
       "2       69375\n",
       "4       53242\n",
       "3       51281\n",
       "Name: count, dtype: int64"
      ]
     },
     "execution_count": 64,
     "metadata": {},
     "output_type": "execute_result"
    }
   ],
   "source": [
    "#checking value count of order_hour_of_day\n",
    "final_ords_prods_all['order_hour_of_day'].value_counts()"
   ]
  },
  {
   "cell_type": "code",
   "execution_count": 66,
   "id": "46754592-568e-41c6-b657-43bcfa46b912",
   "metadata": {},
   "outputs": [],
   "source": [
    "#dividing each hour into one of 3 categories\n",
    "#The top 3 most frequent hours will be labeled 'Most orders', the bottom 3 'Fewest orders', and the remaining 'Average orders'\n",
    "\n",
    "hours_results = []\n",
    "\n",
    "for value in final_ords_prods_all['order_hour_of_day']:\n",
    "    if value in [10, 11, 14]:\n",
    "        hours_results.append('Most orders')\n",
    "    elif value in [3, 4, 2]:\n",
    "        hours_results.append('Fewest orders')\n",
    "    else:\n",
    "        hours_results.append('Average orders')"
   ]
  },
  {
   "cell_type": "code",
   "execution_count": 68,
   "id": "7d59bdfc-17d1-4dc5-950e-e10b26e0e8ca",
   "metadata": {},
   "outputs": [],
   "source": [
    "#adding busiest_period_of_day column\n",
    "final_ords_prods_all['busiest_period_of_day'] = hours_results"
   ]
  },
  {
   "cell_type": "code",
   "execution_count": 70,
   "id": "dae51725-971f-453b-a235-487d4cde05c8",
   "metadata": {},
   "outputs": [
    {
     "data": {
      "text/plain": [
       "busiest_period_of_day\n",
       "Average orders    24043925\n",
       "Most orders        8187036\n",
       "Fewest orders       173898\n",
       "Name: count, dtype: int64"
      ]
     },
     "execution_count": 70,
     "metadata": {},
     "output_type": "execute_result"
    }
   ],
   "source": [
    "#checking value count of busiest_period_of_day\n",
    "final_ords_prods_all['busiest_period_of_day'].value_counts()"
   ]
  },
  {
   "cell_type": "markdown",
   "id": "e607ff13-64e3-4401-a01d-e88a7fc12615",
   "metadata": {},
   "source": [
    "### 05 Max Order"
   ]
  },
  {
   "cell_type": "markdown",
   "id": "4c73f5f3-f85a-4b9d-b8a5-5de211a92b20",
   "metadata": {},
   "source": [
    "The max_order column will return each user's max order number"
   ]
  },
  {
   "cell_type": "code",
   "execution_count": 74,
   "id": "6f47e8b7-2f9f-4afc-8e28-97f6fd4b191a",
   "metadata": {},
   "outputs": [
    {
     "name": "stderr",
     "output_type": "stream",
     "text": [
      "C:\\Users\\samac\\AppData\\Local\\Temp\\ipykernel_23760\\1504414775.py:2: FutureWarning: The provided callable <function max at 0x0000024EACCAC7C0> is currently using SeriesGroupBy.max. In a future version of pandas, the provided callable will be used directly. To keep current behavior pass the string \"max\" instead.\n",
      "  final_ords_prods_all['max_order'] = final_ords_prods_all.groupby(['user_id'])['order_number'].transform(np.max)\n"
     ]
    }
   ],
   "source": [
    "#creating max order column\n",
    "final_ords_prods_all['max_order'] = final_ords_prods_all.groupby(['user_id'])['order_number'].transform(np.max)"
   ]
  },
  {
   "cell_type": "code",
   "execution_count": 75,
   "id": "a6d885a2-e977-47d7-85d6-538117317d9e",
   "metadata": {},
   "outputs": [
    {
     "data": {
      "text/html": [
       "<div>\n",
       "<style scoped>\n",
       "    .dataframe tbody tr th:only-of-type {\n",
       "        vertical-align: middle;\n",
       "    }\n",
       "\n",
       "    .dataframe tbody tr th {\n",
       "        vertical-align: top;\n",
       "    }\n",
       "\n",
       "    .dataframe thead th {\n",
       "        text-align: right;\n",
       "    }\n",
       "</style>\n",
       "<table border=\"1\" class=\"dataframe\">\n",
       "  <thead>\n",
       "    <tr style=\"text-align: right;\">\n",
       "      <th></th>\n",
       "      <th>product_id</th>\n",
       "      <th>product_name</th>\n",
       "      <th>aisle_id</th>\n",
       "      <th>department_id</th>\n",
       "      <th>prices</th>\n",
       "      <th>order_id</th>\n",
       "      <th>user_id</th>\n",
       "      <th>order_number</th>\n",
       "      <th>orders_day_of_week</th>\n",
       "      <th>order_hour_of_day</th>\n",
       "      <th>...</th>\n",
       "      <th>date_joined</th>\n",
       "      <th>n_dependants</th>\n",
       "      <th>fam_status</th>\n",
       "      <th>income</th>\n",
       "      <th>_merge</th>\n",
       "      <th>price_range_loc</th>\n",
       "      <th>busiest_day</th>\n",
       "      <th>busiest_days</th>\n",
       "      <th>busiest_period_of_day</th>\n",
       "      <th>max_order</th>\n",
       "    </tr>\n",
       "  </thead>\n",
       "  <tbody>\n",
       "    <tr>\n",
       "      <th>0</th>\n",
       "      <td>1</td>\n",
       "      <td>Chocolate Sandwich Cookies</td>\n",
       "      <td>61</td>\n",
       "      <td>19</td>\n",
       "      <td>5.8</td>\n",
       "      <td>3139998</td>\n",
       "      <td>138</td>\n",
       "      <td>28</td>\n",
       "      <td>6</td>\n",
       "      <td>11</td>\n",
       "      <td>...</td>\n",
       "      <td>8/1/2019</td>\n",
       "      <td>1</td>\n",
       "      <td>married</td>\n",
       "      <td>49620</td>\n",
       "      <td>both</td>\n",
       "      <td>Mid-range product</td>\n",
       "      <td>Regularly busy</td>\n",
       "      <td>Regularly busy</td>\n",
       "      <td>Most orders</td>\n",
       "      <td>32</td>\n",
       "    </tr>\n",
       "    <tr>\n",
       "      <th>1</th>\n",
       "      <td>1</td>\n",
       "      <td>Chocolate Sandwich Cookies</td>\n",
       "      <td>61</td>\n",
       "      <td>19</td>\n",
       "      <td>5.8</td>\n",
       "      <td>1977647</td>\n",
       "      <td>138</td>\n",
       "      <td>30</td>\n",
       "      <td>6</td>\n",
       "      <td>17</td>\n",
       "      <td>...</td>\n",
       "      <td>8/1/2019</td>\n",
       "      <td>1</td>\n",
       "      <td>married</td>\n",
       "      <td>49620</td>\n",
       "      <td>both</td>\n",
       "      <td>Mid-range product</td>\n",
       "      <td>Regularly busy</td>\n",
       "      <td>Regularly busy</td>\n",
       "      <td>Average orders</td>\n",
       "      <td>32</td>\n",
       "    </tr>\n",
       "    <tr>\n",
       "      <th>2</th>\n",
       "      <td>1</td>\n",
       "      <td>Chocolate Sandwich Cookies</td>\n",
       "      <td>61</td>\n",
       "      <td>19</td>\n",
       "      <td>5.8</td>\n",
       "      <td>389851</td>\n",
       "      <td>709</td>\n",
       "      <td>2</td>\n",
       "      <td>0</td>\n",
       "      <td>21</td>\n",
       "      <td>...</td>\n",
       "      <td>6/16/2018</td>\n",
       "      <td>2</td>\n",
       "      <td>married</td>\n",
       "      <td>158302</td>\n",
       "      <td>both</td>\n",
       "      <td>Mid-range product</td>\n",
       "      <td>Busiest day</td>\n",
       "      <td>Busiest days</td>\n",
       "      <td>Average orders</td>\n",
       "      <td>5</td>\n",
       "    </tr>\n",
       "    <tr>\n",
       "      <th>3</th>\n",
       "      <td>1</td>\n",
       "      <td>Chocolate Sandwich Cookies</td>\n",
       "      <td>61</td>\n",
       "      <td>19</td>\n",
       "      <td>5.8</td>\n",
       "      <td>652770</td>\n",
       "      <td>764</td>\n",
       "      <td>1</td>\n",
       "      <td>3</td>\n",
       "      <td>13</td>\n",
       "      <td>...</td>\n",
       "      <td>2/9/2020</td>\n",
       "      <td>3</td>\n",
       "      <td>married</td>\n",
       "      <td>31308</td>\n",
       "      <td>both</td>\n",
       "      <td>Mid-range product</td>\n",
       "      <td>Regularly busy</td>\n",
       "      <td>Least busiest days</td>\n",
       "      <td>Average orders</td>\n",
       "      <td>3</td>\n",
       "    </tr>\n",
       "    <tr>\n",
       "      <th>4</th>\n",
       "      <td>1</td>\n",
       "      <td>Chocolate Sandwich Cookies</td>\n",
       "      <td>61</td>\n",
       "      <td>19</td>\n",
       "      <td>5.8</td>\n",
       "      <td>1813452</td>\n",
       "      <td>764</td>\n",
       "      <td>3</td>\n",
       "      <td>4</td>\n",
       "      <td>17</td>\n",
       "      <td>...</td>\n",
       "      <td>2/9/2020</td>\n",
       "      <td>3</td>\n",
       "      <td>married</td>\n",
       "      <td>31308</td>\n",
       "      <td>both</td>\n",
       "      <td>Mid-range product</td>\n",
       "      <td>Least busy</td>\n",
       "      <td>Least busiest days</td>\n",
       "      <td>Average orders</td>\n",
       "      <td>3</td>\n",
       "    </tr>\n",
       "  </tbody>\n",
       "</table>\n",
       "<p>5 rows × 29 columns</p>\n",
       "</div>"
      ],
      "text/plain": [
       "  product_id                product_name aisle_id department_id  prices  \\\n",
       "0          1  Chocolate Sandwich Cookies       61            19     5.8   \n",
       "1          1  Chocolate Sandwich Cookies       61            19     5.8   \n",
       "2          1  Chocolate Sandwich Cookies       61            19     5.8   \n",
       "3          1  Chocolate Sandwich Cookies       61            19     5.8   \n",
       "4          1  Chocolate Sandwich Cookies       61            19     5.8   \n",
       "\n",
       "  order_id user_id  order_number  orders_day_of_week  order_hour_of_day  ...  \\\n",
       "0  3139998     138            28                   6                 11  ...   \n",
       "1  1977647     138            30                   6                 17  ...   \n",
       "2   389851     709             2                   0                 21  ...   \n",
       "3   652770     764             1                   3                 13  ...   \n",
       "4  1813452     764             3                   4                 17  ...   \n",
       "\n",
       "   date_joined  n_dependants  fam_status  income _merge    price_range_loc  \\\n",
       "0     8/1/2019             1     married   49620   both  Mid-range product   \n",
       "1     8/1/2019             1     married   49620   both  Mid-range product   \n",
       "2    6/16/2018             2     married  158302   both  Mid-range product   \n",
       "3     2/9/2020             3     married   31308   both  Mid-range product   \n",
       "4     2/9/2020             3     married   31308   both  Mid-range product   \n",
       "\n",
       "      busiest_day        busiest_days  busiest_period_of_day max_order  \n",
       "0  Regularly busy      Regularly busy            Most orders        32  \n",
       "1  Regularly busy      Regularly busy         Average orders        32  \n",
       "2     Busiest day        Busiest days         Average orders         5  \n",
       "3  Regularly busy  Least busiest days         Average orders         3  \n",
       "4      Least busy  Least busiest days         Average orders         3  \n",
       "\n",
       "[5 rows x 29 columns]"
      ]
     },
     "execution_count": 75,
     "metadata": {},
     "output_type": "execute_result"
    }
   ],
   "source": [
    "#checking to see if max row is a new column\n",
    "final_ords_prods_all.head()"
   ]
  },
  {
   "cell_type": "markdown",
   "id": "6ef8d5ec-a9a6-424f-a0f5-9ea7f25872dc",
   "metadata": {},
   "source": [
    "### 06 Loyalty Flag"
   ]
  },
  {
   "cell_type": "markdown",
   "id": "759295d6-6066-46d2-accc-1a541275af1d",
   "metadata": {},
   "source": [
    "The loyalty_flag column divides the max_order column into three categories. If the value is greater than 40, the user is labeled a 'Loyal customer'. If the value is lower than or equal to 40 and greater than 10, the user is labeled a 'Regular customer'. If the value is lower than 10, the user is labeled a 'New customer'"
   ]
  },
  {
   "cell_type": "code",
   "execution_count": 80,
   "id": "334f04f5-b616-4410-91e2-b17a1d65a150",
   "metadata": {},
   "outputs": [],
   "source": [
    "#creating loyalty column \n",
    "final_ords_prods_all.loc[final_ords_prods_all['max_order'] > 40, 'loyalty_flag'] = 'Loyal customer'\n",
    "final_ords_prods_all.loc[(final_ords_prods_all['max_order'] <= 40) & (final_ords_prods_all['max_order'] > 10), 'loyalty_flag'] = 'Regular customer'\n",
    "final_ords_prods_all.loc[final_ords_prods_all['max_order'] <= 10, 'loyalty_flag'] = 'New customer'"
   ]
  },
  {
   "cell_type": "code",
   "execution_count": 84,
   "id": "52258093-fd91-4f86-a9f2-b1788ca78a5b",
   "metadata": {},
   "outputs": [
    {
     "data": {
      "text/plain": [
       "loyalty_flag\n",
       "Regular customer    15876776\n",
       "Loyal customer      10284093\n",
       "New customer         6243990\n",
       "Name: count, dtype: int64"
      ]
     },
     "execution_count": 84,
     "metadata": {},
     "output_type": "execute_result"
    }
   ],
   "source": [
    "#checking value counts\n",
    "final_ords_prods_all['loyalty_flag'].value_counts(dropna = False)"
   ]
  },
  {
   "cell_type": "markdown",
   "id": "47ca463c-d434-4bf8-84af-792222b80bb8",
   "metadata": {},
   "source": [
    "### 07 Average Price"
   ]
  },
  {
   "cell_type": "markdown",
   "id": "7daa10fa-2978-426d-8049-7a555e6da0cb",
   "metadata": {},
   "source": [
    "The avg_price column will return the average price of each user's total orders"
   ]
  },
  {
   "cell_type": "code",
   "execution_count": 86,
   "id": "9b1470f6-eff6-4706-9e53-050522c5c814",
   "metadata": {},
   "outputs": [
    {
     "name": "stderr",
     "output_type": "stream",
     "text": [
      "C:\\Users\\samac\\AppData\\Local\\Temp\\ipykernel_23760\\3768075899.py:2: FutureWarning: The provided callable <function mean at 0x0000024EACCAD1C0> is currently using SeriesGroupBy.mean. In a future version of pandas, the provided callable will be used directly. To keep current behavior pass the string \"mean\" instead.\n",
      "  final_ords_prods_all['avg_price'] = final_ords_prods_all.groupby(['user_id'])['prices'].transform(np.mean)\n"
     ]
    }
   ],
   "source": [
    "#creating avg_price column\n",
    "final_ords_prods_all['avg_price'] = final_ords_prods_all.groupby(['user_id'])['prices'].transform(np.mean)"
   ]
  },
  {
   "cell_type": "code",
   "execution_count": 88,
   "id": "1002e796-3129-4e66-9cd4-49521d4f2bf2",
   "metadata": {},
   "outputs": [
    {
     "data": {
      "text/html": [
       "<div>\n",
       "<style scoped>\n",
       "    .dataframe tbody tr th:only-of-type {\n",
       "        vertical-align: middle;\n",
       "    }\n",
       "\n",
       "    .dataframe tbody tr th {\n",
       "        vertical-align: top;\n",
       "    }\n",
       "\n",
       "    .dataframe thead th {\n",
       "        text-align: right;\n",
       "    }\n",
       "</style>\n",
       "<table border=\"1\" class=\"dataframe\">\n",
       "  <thead>\n",
       "    <tr style=\"text-align: right;\">\n",
       "      <th></th>\n",
       "      <th>product_id</th>\n",
       "      <th>product_name</th>\n",
       "      <th>aisle_id</th>\n",
       "      <th>department_id</th>\n",
       "      <th>prices</th>\n",
       "      <th>order_id</th>\n",
       "      <th>user_id</th>\n",
       "      <th>order_number</th>\n",
       "      <th>orders_day_of_week</th>\n",
       "      <th>order_hour_of_day</th>\n",
       "      <th>...</th>\n",
       "      <th>fam_status</th>\n",
       "      <th>income</th>\n",
       "      <th>_merge</th>\n",
       "      <th>price_range_loc</th>\n",
       "      <th>busiest_day</th>\n",
       "      <th>busiest_days</th>\n",
       "      <th>busiest_period_of_day</th>\n",
       "      <th>max_order</th>\n",
       "      <th>loyalty_flag</th>\n",
       "      <th>avg_price</th>\n",
       "    </tr>\n",
       "  </thead>\n",
       "  <tbody>\n",
       "    <tr>\n",
       "      <th>0</th>\n",
       "      <td>1</td>\n",
       "      <td>Chocolate Sandwich Cookies</td>\n",
       "      <td>61</td>\n",
       "      <td>19</td>\n",
       "      <td>5.8</td>\n",
       "      <td>3139998</td>\n",
       "      <td>138</td>\n",
       "      <td>28</td>\n",
       "      <td>6</td>\n",
       "      <td>11</td>\n",
       "      <td>...</td>\n",
       "      <td>married</td>\n",
       "      <td>49620</td>\n",
       "      <td>both</td>\n",
       "      <td>Mid-range product</td>\n",
       "      <td>Regularly busy</td>\n",
       "      <td>Regularly busy</td>\n",
       "      <td>Most orders</td>\n",
       "      <td>32</td>\n",
       "      <td>Regular customer</td>\n",
       "      <td>6.935811</td>\n",
       "    </tr>\n",
       "    <tr>\n",
       "      <th>1</th>\n",
       "      <td>1</td>\n",
       "      <td>Chocolate Sandwich Cookies</td>\n",
       "      <td>61</td>\n",
       "      <td>19</td>\n",
       "      <td>5.8</td>\n",
       "      <td>1977647</td>\n",
       "      <td>138</td>\n",
       "      <td>30</td>\n",
       "      <td>6</td>\n",
       "      <td>17</td>\n",
       "      <td>...</td>\n",
       "      <td>married</td>\n",
       "      <td>49620</td>\n",
       "      <td>both</td>\n",
       "      <td>Mid-range product</td>\n",
       "      <td>Regularly busy</td>\n",
       "      <td>Regularly busy</td>\n",
       "      <td>Average orders</td>\n",
       "      <td>32</td>\n",
       "      <td>Regular customer</td>\n",
       "      <td>6.935811</td>\n",
       "    </tr>\n",
       "    <tr>\n",
       "      <th>2</th>\n",
       "      <td>1</td>\n",
       "      <td>Chocolate Sandwich Cookies</td>\n",
       "      <td>61</td>\n",
       "      <td>19</td>\n",
       "      <td>5.8</td>\n",
       "      <td>389851</td>\n",
       "      <td>709</td>\n",
       "      <td>2</td>\n",
       "      <td>0</td>\n",
       "      <td>21</td>\n",
       "      <td>...</td>\n",
       "      <td>married</td>\n",
       "      <td>158302</td>\n",
       "      <td>both</td>\n",
       "      <td>Mid-range product</td>\n",
       "      <td>Busiest day</td>\n",
       "      <td>Busiest days</td>\n",
       "      <td>Average orders</td>\n",
       "      <td>5</td>\n",
       "      <td>New customer</td>\n",
       "      <td>7.930208</td>\n",
       "    </tr>\n",
       "    <tr>\n",
       "      <th>3</th>\n",
       "      <td>1</td>\n",
       "      <td>Chocolate Sandwich Cookies</td>\n",
       "      <td>61</td>\n",
       "      <td>19</td>\n",
       "      <td>5.8</td>\n",
       "      <td>652770</td>\n",
       "      <td>764</td>\n",
       "      <td>1</td>\n",
       "      <td>3</td>\n",
       "      <td>13</td>\n",
       "      <td>...</td>\n",
       "      <td>married</td>\n",
       "      <td>31308</td>\n",
       "      <td>both</td>\n",
       "      <td>Mid-range product</td>\n",
       "      <td>Regularly busy</td>\n",
       "      <td>Least busiest days</td>\n",
       "      <td>Average orders</td>\n",
       "      <td>3</td>\n",
       "      <td>New customer</td>\n",
       "      <td>4.972414</td>\n",
       "    </tr>\n",
       "    <tr>\n",
       "      <th>4</th>\n",
       "      <td>1</td>\n",
       "      <td>Chocolate Sandwich Cookies</td>\n",
       "      <td>61</td>\n",
       "      <td>19</td>\n",
       "      <td>5.8</td>\n",
       "      <td>1813452</td>\n",
       "      <td>764</td>\n",
       "      <td>3</td>\n",
       "      <td>4</td>\n",
       "      <td>17</td>\n",
       "      <td>...</td>\n",
       "      <td>married</td>\n",
       "      <td>31308</td>\n",
       "      <td>both</td>\n",
       "      <td>Mid-range product</td>\n",
       "      <td>Least busy</td>\n",
       "      <td>Least busiest days</td>\n",
       "      <td>Average orders</td>\n",
       "      <td>3</td>\n",
       "      <td>New customer</td>\n",
       "      <td>4.972414</td>\n",
       "    </tr>\n",
       "  </tbody>\n",
       "</table>\n",
       "<p>5 rows × 31 columns</p>\n",
       "</div>"
      ],
      "text/plain": [
       "  product_id                product_name aisle_id department_id  prices  \\\n",
       "0          1  Chocolate Sandwich Cookies       61            19     5.8   \n",
       "1          1  Chocolate Sandwich Cookies       61            19     5.8   \n",
       "2          1  Chocolate Sandwich Cookies       61            19     5.8   \n",
       "3          1  Chocolate Sandwich Cookies       61            19     5.8   \n",
       "4          1  Chocolate Sandwich Cookies       61            19     5.8   \n",
       "\n",
       "  order_id user_id  order_number  orders_day_of_week  order_hour_of_day  ...  \\\n",
       "0  3139998     138            28                   6                 11  ...   \n",
       "1  1977647     138            30                   6                 17  ...   \n",
       "2   389851     709             2                   0                 21  ...   \n",
       "3   652770     764             1                   3                 13  ...   \n",
       "4  1813452     764             3                   4                 17  ...   \n",
       "\n",
       "   fam_status  income  _merge    price_range_loc     busiest_day  \\\n",
       "0     married   49620    both  Mid-range product  Regularly busy   \n",
       "1     married   49620    both  Mid-range product  Regularly busy   \n",
       "2     married  158302    both  Mid-range product     Busiest day   \n",
       "3     married   31308    both  Mid-range product  Regularly busy   \n",
       "4     married   31308    both  Mid-range product      Least busy   \n",
       "\n",
       "         busiest_days busiest_period_of_day max_order      loyalty_flag  \\\n",
       "0      Regularly busy           Most orders        32  Regular customer   \n",
       "1      Regularly busy        Average orders        32  Regular customer   \n",
       "2        Busiest days        Average orders         5      New customer   \n",
       "3  Least busiest days        Average orders         3      New customer   \n",
       "4  Least busiest days        Average orders         3      New customer   \n",
       "\n",
       "  avg_price  \n",
       "0  6.935811  \n",
       "1  6.935811  \n",
       "2  7.930208  \n",
       "3  4.972414  \n",
       "4  4.972414  \n",
       "\n",
       "[5 rows x 31 columns]"
      ]
     },
     "execution_count": 88,
     "metadata": {},
     "output_type": "execute_result"
    }
   ],
   "source": [
    "#checking to see if avg_price is a new column\n",
    "final_ords_prods_all.head()"
   ]
  },
  {
   "cell_type": "markdown",
   "id": "abac1388-004e-4f03-9286-b154f26fff03",
   "metadata": {},
   "source": [
    "### 08 Spending Flag"
   ]
  },
  {
   "cell_type": "markdown",
   "id": "0bbe7ba0-5672-4b64-9532-4499361f379d",
   "metadata": {},
   "source": [
    "The spending_flag column divides the avg_price column into two categories. If the value is greater than or equal to 10, the user is labeled a 'High spender'. If the value is lower than 10, the user is labeled a 'Low spender'"
   ]
  },
  {
   "cell_type": "code",
   "execution_count": 90,
   "id": "eb20dcca-b029-4bbf-9942-3d15ca7ecef1",
   "metadata": {},
   "outputs": [],
   "source": [
    "#creating spending flag for low spenders\n",
    "final_ords_prods_all.loc[final_ords_prods_all['avg_price'] < 10, 'spending_flag'] = 'Low Spender'"
   ]
  },
  {
   "cell_type": "code",
   "execution_count": 92,
   "id": "e748cf84-dc64-46b0-9dbe-ae6299f06108",
   "metadata": {},
   "outputs": [],
   "source": [
    "#creating spending flag for high spenders\n",
    "final_ords_prods_all.loc[final_ords_prods_all['avg_price'] >= 10, 'spending_flag'] = 'High Spender'"
   ]
  },
  {
   "cell_type": "code",
   "execution_count": 94,
   "id": "ab23e435-6dfb-4664-ae11-341f207f2753",
   "metadata": {},
   "outputs": [
    {
     "data": {
      "text/plain": [
       "spending_flag\n",
       "Low Spender     31770614\n",
       "High Spender      634245\n",
       "Name: count, dtype: int64"
      ]
     },
     "execution_count": 94,
     "metadata": {},
     "output_type": "execute_result"
    }
   ],
   "source": [
    "#checking value counts of spenders\n",
    "final_ords_prods_all['spending_flag'].value_counts(dropna = False)"
   ]
  },
  {
   "cell_type": "markdown",
   "id": "18ed6bdf-6f20-47ce-84ab-72be8fbf977c",
   "metadata": {},
   "source": [
    "### 09 Days Since Prior Order Median"
   ]
  },
  {
   "cell_type": "markdown",
   "id": "2d4b2ac9-c152-4522-a70b-e98911694669",
   "metadata": {},
   "source": [
    "The days_since_prior_order_median flag will the median days_since_prior_order for each user"
   ]
  },
  {
   "cell_type": "code",
   "execution_count": 96,
   "id": "2ef1dac1-d101-4b49-a6dd-ce8979887151",
   "metadata": {},
   "outputs": [
    {
     "name": "stderr",
     "output_type": "stream",
     "text": [
      "C:\\Users\\samac\\AppData\\Local\\Temp\\ipykernel_23760\\1922438762.py:2: FutureWarning: The provided callable <function median at 0x0000024EACE0BE20> is currently using SeriesGroupBy.median. In a future version of pandas, the provided callable will be used directly. To keep current behavior pass the string \"median\" instead.\n",
      "  final_ords_prods_all['days_since_prior_order_median'] = final_ords_prods_all.groupby(['user_id'])['days_since_prior_order'].transform(np.median)\n"
     ]
    }
   ],
   "source": [
    "#creating days_since_prior_order_median column\n",
    "final_ords_prods_all['days_since_prior_order_median'] = final_ords_prods_all.groupby(['user_id'])['days_since_prior_order'].transform(np.median)"
   ]
  },
  {
   "cell_type": "code",
   "execution_count": 98,
   "id": "1f020283-c873-419b-8cda-c290202ffda0",
   "metadata": {},
   "outputs": [
    {
     "data": {
      "text/html": [
       "<div>\n",
       "<style scoped>\n",
       "    .dataframe tbody tr th:only-of-type {\n",
       "        vertical-align: middle;\n",
       "    }\n",
       "\n",
       "    .dataframe tbody tr th {\n",
       "        vertical-align: top;\n",
       "    }\n",
       "\n",
       "    .dataframe thead th {\n",
       "        text-align: right;\n",
       "    }\n",
       "</style>\n",
       "<table border=\"1\" class=\"dataframe\">\n",
       "  <thead>\n",
       "    <tr style=\"text-align: right;\">\n",
       "      <th></th>\n",
       "      <th>product_id</th>\n",
       "      <th>product_name</th>\n",
       "      <th>aisle_id</th>\n",
       "      <th>department_id</th>\n",
       "      <th>prices</th>\n",
       "      <th>order_id</th>\n",
       "      <th>user_id</th>\n",
       "      <th>order_number</th>\n",
       "      <th>orders_day_of_week</th>\n",
       "      <th>order_hour_of_day</th>\n",
       "      <th>...</th>\n",
       "      <th>_merge</th>\n",
       "      <th>price_range_loc</th>\n",
       "      <th>busiest_day</th>\n",
       "      <th>busiest_days</th>\n",
       "      <th>busiest_period_of_day</th>\n",
       "      <th>max_order</th>\n",
       "      <th>loyalty_flag</th>\n",
       "      <th>avg_price</th>\n",
       "      <th>spending_flag</th>\n",
       "      <th>days_since_prior_order_median</th>\n",
       "    </tr>\n",
       "  </thead>\n",
       "  <tbody>\n",
       "    <tr>\n",
       "      <th>0</th>\n",
       "      <td>1</td>\n",
       "      <td>Chocolate Sandwich Cookies</td>\n",
       "      <td>61</td>\n",
       "      <td>19</td>\n",
       "      <td>5.8</td>\n",
       "      <td>3139998</td>\n",
       "      <td>138</td>\n",
       "      <td>28</td>\n",
       "      <td>6</td>\n",
       "      <td>11</td>\n",
       "      <td>...</td>\n",
       "      <td>both</td>\n",
       "      <td>Mid-range product</td>\n",
       "      <td>Regularly busy</td>\n",
       "      <td>Regularly busy</td>\n",
       "      <td>Most orders</td>\n",
       "      <td>32</td>\n",
       "      <td>Regular customer</td>\n",
       "      <td>6.935811</td>\n",
       "      <td>Low Spender</td>\n",
       "      <td>8.0</td>\n",
       "    </tr>\n",
       "    <tr>\n",
       "      <th>1</th>\n",
       "      <td>1</td>\n",
       "      <td>Chocolate Sandwich Cookies</td>\n",
       "      <td>61</td>\n",
       "      <td>19</td>\n",
       "      <td>5.8</td>\n",
       "      <td>1977647</td>\n",
       "      <td>138</td>\n",
       "      <td>30</td>\n",
       "      <td>6</td>\n",
       "      <td>17</td>\n",
       "      <td>...</td>\n",
       "      <td>both</td>\n",
       "      <td>Mid-range product</td>\n",
       "      <td>Regularly busy</td>\n",
       "      <td>Regularly busy</td>\n",
       "      <td>Average orders</td>\n",
       "      <td>32</td>\n",
       "      <td>Regular customer</td>\n",
       "      <td>6.935811</td>\n",
       "      <td>Low Spender</td>\n",
       "      <td>8.0</td>\n",
       "    </tr>\n",
       "    <tr>\n",
       "      <th>2</th>\n",
       "      <td>1</td>\n",
       "      <td>Chocolate Sandwich Cookies</td>\n",
       "      <td>61</td>\n",
       "      <td>19</td>\n",
       "      <td>5.8</td>\n",
       "      <td>389851</td>\n",
       "      <td>709</td>\n",
       "      <td>2</td>\n",
       "      <td>0</td>\n",
       "      <td>21</td>\n",
       "      <td>...</td>\n",
       "      <td>both</td>\n",
       "      <td>Mid-range product</td>\n",
       "      <td>Busiest day</td>\n",
       "      <td>Busiest days</td>\n",
       "      <td>Average orders</td>\n",
       "      <td>5</td>\n",
       "      <td>New customer</td>\n",
       "      <td>7.930208</td>\n",
       "      <td>Low Spender</td>\n",
       "      <td>8.0</td>\n",
       "    </tr>\n",
       "    <tr>\n",
       "      <th>3</th>\n",
       "      <td>1</td>\n",
       "      <td>Chocolate Sandwich Cookies</td>\n",
       "      <td>61</td>\n",
       "      <td>19</td>\n",
       "      <td>5.8</td>\n",
       "      <td>652770</td>\n",
       "      <td>764</td>\n",
       "      <td>1</td>\n",
       "      <td>3</td>\n",
       "      <td>13</td>\n",
       "      <td>...</td>\n",
       "      <td>both</td>\n",
       "      <td>Mid-range product</td>\n",
       "      <td>Regularly busy</td>\n",
       "      <td>Least busiest days</td>\n",
       "      <td>Average orders</td>\n",
       "      <td>3</td>\n",
       "      <td>New customer</td>\n",
       "      <td>4.972414</td>\n",
       "      <td>Low Spender</td>\n",
       "      <td>9.0</td>\n",
       "    </tr>\n",
       "    <tr>\n",
       "      <th>4</th>\n",
       "      <td>1</td>\n",
       "      <td>Chocolate Sandwich Cookies</td>\n",
       "      <td>61</td>\n",
       "      <td>19</td>\n",
       "      <td>5.8</td>\n",
       "      <td>1813452</td>\n",
       "      <td>764</td>\n",
       "      <td>3</td>\n",
       "      <td>4</td>\n",
       "      <td>17</td>\n",
       "      <td>...</td>\n",
       "      <td>both</td>\n",
       "      <td>Mid-range product</td>\n",
       "      <td>Least busy</td>\n",
       "      <td>Least busiest days</td>\n",
       "      <td>Average orders</td>\n",
       "      <td>3</td>\n",
       "      <td>New customer</td>\n",
       "      <td>4.972414</td>\n",
       "      <td>Low Spender</td>\n",
       "      <td>9.0</td>\n",
       "    </tr>\n",
       "  </tbody>\n",
       "</table>\n",
       "<p>5 rows × 33 columns</p>\n",
       "</div>"
      ],
      "text/plain": [
       "  product_id                product_name aisle_id department_id  prices  \\\n",
       "0          1  Chocolate Sandwich Cookies       61            19     5.8   \n",
       "1          1  Chocolate Sandwich Cookies       61            19     5.8   \n",
       "2          1  Chocolate Sandwich Cookies       61            19     5.8   \n",
       "3          1  Chocolate Sandwich Cookies       61            19     5.8   \n",
       "4          1  Chocolate Sandwich Cookies       61            19     5.8   \n",
       "\n",
       "  order_id user_id  order_number  orders_day_of_week  order_hour_of_day  ...  \\\n",
       "0  3139998     138            28                   6                 11  ...   \n",
       "1  1977647     138            30                   6                 17  ...   \n",
       "2   389851     709             2                   0                 21  ...   \n",
       "3   652770     764             1                   3                 13  ...   \n",
       "4  1813452     764             3                   4                 17  ...   \n",
       "\n",
       "   _merge    price_range_loc     busiest_day        busiest_days  \\\n",
       "0    both  Mid-range product  Regularly busy      Regularly busy   \n",
       "1    both  Mid-range product  Regularly busy      Regularly busy   \n",
       "2    both  Mid-range product     Busiest day        Busiest days   \n",
       "3    both  Mid-range product  Regularly busy  Least busiest days   \n",
       "4    both  Mid-range product      Least busy  Least busiest days   \n",
       "\n",
       "  busiest_period_of_day max_order      loyalty_flag avg_price  spending_flag  \\\n",
       "0           Most orders        32  Regular customer  6.935811    Low Spender   \n",
       "1        Average orders        32  Regular customer  6.935811    Low Spender   \n",
       "2        Average orders         5      New customer  7.930208    Low Spender   \n",
       "3        Average orders         3      New customer  4.972414    Low Spender   \n",
       "4        Average orders         3      New customer  4.972414    Low Spender   \n",
       "\n",
       "  days_since_prior_order_median  \n",
       "0                           8.0  \n",
       "1                           8.0  \n",
       "2                           8.0  \n",
       "3                           9.0  \n",
       "4                           9.0  \n",
       "\n",
       "[5 rows x 33 columns]"
      ]
     },
     "execution_count": 98,
     "metadata": {},
     "output_type": "execute_result"
    }
   ],
   "source": [
    "#checking to see if days_since_prior_order_median is a new column\n",
    "final_ords_prods_all.head()"
   ]
  },
  {
   "cell_type": "markdown",
   "id": "e926567e-2fd0-4d6c-867f-767f591784d0",
   "metadata": {},
   "source": [
    "### 10 Frequency Flag"
   ]
  },
  {
   "cell_type": "markdown",
   "id": "79749128-640d-4499-ba0e-7c3b393885fd",
   "metadata": {},
   "source": [
    "The frequency_flag will label divides the median days_since_prior_order_median_column into three categories. If the value is greater than 20, the user is labeled a 'Non-frequest customer'. If the value is lower than or equal to 20 and greater than 10, the user is labeled a 'Regular customer'. If the value is lower than 10, the user is labeled a 'Frequent customer'"
   ]
  },
  {
   "cell_type": "code",
   "execution_count": 100,
   "id": "41d5188c-cba2-4e80-b2af-aed95a7c36f2",
   "metadata": {},
   "outputs": [],
   "source": [
    "#creating Non-Frequent customer frequency_flag\n",
    "final_ords_prods_all.loc[final_ords_prods_all['days_since_prior_order_median'] > 20, 'frequency_flag'] = 'Non-frequent customer'"
   ]
  },
  {
   "cell_type": "code",
   "execution_count": 102,
   "id": "7cb64f00-08e8-4574-8865-c5a0f1907c7c",
   "metadata": {},
   "outputs": [],
   "source": [
    "#creating regular customer frequency_flag\n",
    "final_ords_prods_all.loc[(final_ords_prods_all['days_since_prior_order_median'] > 10) & (final_ords_prods_all['days_since_prior_order_median'] <= 20), 'frequency_flag'] = 'Regular customer'"
   ]
  },
  {
   "cell_type": "code",
   "execution_count": 106,
   "id": "c1667e74-83ea-4cc9-a319-04d0844a9d76",
   "metadata": {},
   "outputs": [],
   "source": [
    "#creating frequent customer frequency_flag\n",
    "final_ords_prods_all.loc[final_ords_prods_all['days_since_prior_order_median'] <= 10, 'frequency_flag'] = 'Frequent customer'"
   ]
  },
  {
   "cell_type": "code",
   "execution_count": 108,
   "id": "b7890aa2-6c21-400b-850a-4a9b87690523",
   "metadata": {},
   "outputs": [
    {
     "data": {
      "text/plain": [
       "frequency_flag\n",
       "Frequent customer        21559853\n",
       "Regular customer          7208564\n",
       "Non-frequent customer     3636437\n",
       "NaN                             5\n",
       "Name: count, dtype: int64"
      ]
     },
     "execution_count": 108,
     "metadata": {},
     "output_type": "execute_result"
    }
   ],
   "source": [
    "#checking value counts of frequency flag\n",
    "final_ords_prods_all['frequency_flag'].value_counts(dropna = False)"
   ]
  },
  {
   "cell_type": "markdown",
   "id": "ad4f07e4-ebe2-4f0d-a4ec-2ff892d995aa",
   "metadata": {},
   "source": [
    "## 04 Exporting Dataframe"
   ]
  },
  {
   "cell_type": "code",
   "execution_count": 111,
   "id": "ed6773a1-0e63-4986-96e0-554cee64e55d",
   "metadata": {},
   "outputs": [],
   "source": [
    "final_ords_prods_all.to_pickle(os.path.join(path, '02 Data','Prepared Data', 'final_orders_products_all_with_column_derivations'))"
   ]
  },
  {
   "cell_type": "code",
   "execution_count": null,
   "id": "18befcd9-e60d-47e4-96a5-04dc6fd92152",
   "metadata": {},
   "outputs": [],
   "source": []
  }
 ],
 "metadata": {
  "kernelspec": {
   "display_name": "Python 3 (ipykernel)",
   "language": "python",
   "name": "python3"
  },
  "language_info": {
   "codemirror_mode": {
    "name": "ipython",
    "version": 3
   },
   "file_extension": ".py",
   "mimetype": "text/x-python",
   "name": "python",
   "nbconvert_exporter": "python",
   "pygments_lexer": "ipython3",
   "version": "3.12.7"
  }
 },
 "nbformat": 4,
 "nbformat_minor": 5
}
